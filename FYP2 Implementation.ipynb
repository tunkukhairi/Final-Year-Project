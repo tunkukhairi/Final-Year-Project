{
 "cells": [
  {
   "cell_type": "markdown",
   "id": "9e8dbf99",
   "metadata": {},
   "source": [
    "# FYP Notebook"
   ]
  },
  {
   "cell_type": "markdown",
   "id": "b7a11e3d",
   "metadata": {},
   "source": []
  },
  {
   "cell_type": "markdown",
   "id": "54eefc2e",
   "metadata": {},
   "source": [
    "Import all relevant libraries"
   ]
  },
  {
   "cell_type": "code",
   "execution_count": 58,
   "id": "e2f7d345",
   "metadata": {},
   "outputs": [],
   "source": [
    "import numpy as np\n",
    "import pandas as pd\n",
    "import seaborn as sns\n",
    "import spacy\n",
    "import re\n",
    "import json\n",
    "pd.get_option(\"display.max_columns\")\n",
    "\n",
    "from datetime import datetime, timedelta, timezone\n",
    "from datetime import datetime\n",
    "import time\n",
    "from matplotlib.dates import DateFormatter\n",
    "\n",
    "# # Plotting tools\n",
    "import pyLDAvis\n",
    "import pyLDAvis.sklearn\n",
    "import pyLDAvis.gensim_models as gensimvis\n",
    "import matplotlib.pyplot as plt\n",
    "import matplotlib.colors as colors\n",
    "%matplotlib inline\n",
    "from wordcloud import WordCloud\n",
    "#import fot plotly\n",
    "import plotly.express as px\n",
    "#profile report\n",
    "import klib\n",
    "\n",
    "# Sklearn\n",
    "from sklearn.model_selection import train_test_split\n",
    "from sklearn.feature_extraction.text import CountVectorizer\n",
    "from sklearn.feature_extraction.text import TfidfVectorizer\n",
    "from sklearn.ensemble import RandomForestClassifier\n",
    "from pprint import pprint"
   ]
  },
  {
   "cell_type": "code",
   "execution_count": 57,
   "id": "b77fa6d8",
   "metadata": {},
   "outputs": [],
   "source": [
    "# Gensim\n",
    "import gensim\n",
    "import gensim.corpora as corpora\n",
    "from gensim.utils import simple_preprocess\n",
    "from gensim.models import CoherenceModel\n",
    "from gensim.models.ldamodel import LdaModel\n",
    "import pyLDAvis.gensim_models as gensimvis\n",
    "\n",
    "#optional\n",
    "import logging\n",
    "logging.basicConfig(format='%(asctime)s : %(levelname)s : %(message)s', level=logging.ERROR)\n",
    "\n",
    "import warnings\n",
    "warnings.filterwarnings(\"ignore\",category=DeprecationWarning)\n",
    "\n",
    "# NLTK Stop words\n",
    "from nltk.corpus import stopwords\n",
    "from nltk.stem import PorterStemmer"
   ]
  },
  {
   "cell_type": "markdown",
   "id": "d8c3b49b",
   "metadata": {},
   "source": [
    "read csv"
   ]
  },
  {
   "cell_type": "code",
   "execution_count": null,
   "id": "351931ee",
   "metadata": {},
   "outputs": [],
   "source": [
    "US_videos =  pd.read_csv('Dataset\\\\US_youtube_trending_data.csv')\n",
    "US_categories = pd.read_json('Dataset\\\\US_category_id.json')"
   ]
  },
  {
   "cell_type": "code",
   "execution_count": null,
   "id": "7db13e01",
   "metadata": {},
   "outputs": [],
   "source": [
    "US_videos.head()"
   ]
  },
  {
   "cell_type": "code",
   "execution_count": null,
   "id": "8339d363",
   "metadata": {},
   "outputs": [],
   "source": [
    "US_videos.info()"
   ]
  },
  {
   "cell_type": "markdown",
   "id": "d71abf01",
   "metadata": {},
   "source": [
    "Before Cleaning, just to see the most frequent hashtags used in the title"
   ]
  },
  {
   "cell_type": "markdown",
   "id": "08d25b93",
   "metadata": {},
   "source": [
    "# Data Cleaning"
   ]
  },
  {
   "cell_type": "markdown",
   "id": "99183e5b",
   "metadata": {},
   "source": [
    "Pre-process checklist\n",
    "\n",
    "_Step 1_\n",
    "- check how many numerical feature\n",
    "- check how many categorical feature\n",
    "- check missing value\n",
    "\n",
    "\n",
    "_Step 2_\n",
    "\n",
    "- treating missing value\n",
    "- treating outliers\n",
    "- normalization\n",
    "- convert datatype\n",
    "- filter stop words\n",
    "- remove punctuation\n",
    "- remove special characters\n",
    "- segmentation of hashtag"
   ]
  },
  {
   "cell_type": "code",
   "execution_count": 10,
   "id": "f247125a",
   "metadata": {},
   "outputs": [
    {
     "data": {
      "text/plain": [
       "video_id             object\n",
       "title                object\n",
       "publishedAt          object\n",
       "channelId            object\n",
       "channelTitle         object\n",
       "categoryId            int64\n",
       "trending_date        object\n",
       "tags                 object\n",
       "view_count            int64\n",
       "likes                 int64\n",
       "dislikes              int64\n",
       "comment_count         int64\n",
       "thumbnail_link       object\n",
       "comments_disabled      bool\n",
       "ratings_disabled       bool\n",
       "description          object\n",
       "dtype: object"
      ]
     },
     "execution_count": 10,
     "metadata": {},
     "output_type": "execute_result"
    }
   ],
   "source": [
    "US_videos.dtypes"
   ]
  },
  {
   "cell_type": "markdown",
   "id": "f63d4954",
   "metadata": {},
   "source": [
    "Specifically, in this project I will be analyzing videos only in Category People & Blog"
   ]
  },
  {
   "cell_type": "code",
   "execution_count": 11,
   "id": "bd2b30b0",
   "metadata": {},
   "outputs": [],
   "source": [
    "# select videos only in category \"People and Blog\"\n",
    "# from US_categories, category ID for People and Blog is 22\n",
    "PB_videos = US_videos.loc[US_videos['categoryId'] == 22]"
   ]
  },
  {
   "cell_type": "code",
   "execution_count": 12,
   "id": "f233059c",
   "metadata": {},
   "outputs": [
    {
     "data": {
      "text/plain": [
       "754"
      ]
     },
     "execution_count": 12,
     "metadata": {},
     "output_type": "execute_result"
    }
   ],
   "source": [
    "#How many unique channels are there?\n",
    "PB_videos['channelTitle'].nunique()"
   ]
  },
  {
   "cell_type": "code",
   "execution_count": null,
   "id": "3a73e542",
   "metadata": {},
   "outputs": [],
   "source": [
    "hash_word = PB_videos['title'].str.extractall(r\"(#\\S+)\")"
   ]
  },
  {
   "cell_type": "code",
   "execution_count": null,
   "id": "090bc0a6",
   "metadata": {},
   "outputs": [],
   "source": [
    "freq_hashtag = hash_word[0].value_counts()\n",
    "freq_hashtag[:20]"
   ]
  },
  {
   "cell_type": "code",
   "execution_count": null,
   "id": "61f61429",
   "metadata": {},
   "outputs": [],
   "source": [
    "PB_videos.head()"
   ]
  },
  {
   "cell_type": "markdown",
   "id": "fdac6305",
   "metadata": {},
   "source": []
  },
  {
   "cell_type": "code",
   "execution_count": null,
   "id": "a00ae508",
   "metadata": {},
   "outputs": [],
   "source": [
    "PB_videos.shape"
   ]
  },
  {
   "cell_type": "markdown",
   "id": "3bf8c52f",
   "metadata": {},
   "source": [
    "Checking Missing Value"
   ]
  },
  {
   "cell_type": "code",
   "execution_count": null,
   "id": "a33f9bec",
   "metadata": {},
   "outputs": [],
   "source": [
    "# check missing value\n",
    "klib.missingval_plot(PB_videos)"
   ]
  },
  {
   "cell_type": "code",
   "execution_count": 13,
   "id": "60416a9f",
   "metadata": {},
   "outputs": [
    {
     "name": "stderr",
     "output_type": "stream",
     "text": [
      "C:\\Users\\tunku\\AppData\\Local\\Temp\\ipykernel_8428\\3829428351.py:2: SettingWithCopyWarning: \n",
      "A value is trying to be set on a copy of a slice from a DataFrame.\n",
      "Try using .loc[row_indexer,col_indexer] = value instead\n",
      "\n",
      "See the caveats in the documentation: https://pandas.pydata.org/pandas-docs/stable/user_guide/indexing.html#returning-a-view-versus-a-copy\n",
      "  PB_videos.description= PB_videos.description.fillna('', )\n"
     ]
    }
   ],
   "source": [
    "#Treat missing value\n",
    "PB_videos.description= PB_videos.description.fillna('', )"
   ]
  },
  {
   "cell_type": "code",
   "execution_count": 14,
   "id": "ebb34ef0",
   "metadata": {},
   "outputs": [
    {
     "name": "stdout",
     "output_type": "stream",
     "text": [
      "No missing values found in the dataset.\n"
     ]
    }
   ],
   "source": [
    "klib.missingval_plot(PB_videos)"
   ]
  },
  {
   "cell_type": "markdown",
   "id": "9e0c4bf6",
   "metadata": {},
   "source": [
    "find duplicated based on video_id"
   ]
  },
  {
   "cell_type": "code",
   "execution_count": 15,
   "id": "de705b35",
   "metadata": {},
   "outputs": [
    {
     "data": {
      "text/plain": [
       "9477"
      ]
     },
     "execution_count": 15,
     "metadata": {},
     "output_type": "execute_result"
    }
   ],
   "source": [
    "PB_videos.duplicated(subset='video_id').sum()"
   ]
  },
  {
   "cell_type": "markdown",
   "id": "510ad0c9",
   "metadata": {},
   "source": [
    "drop duplicate and only keep last occurence (latest)"
   ]
  },
  {
   "cell_type": "code",
   "execution_count": 16,
   "id": "940621ba",
   "metadata": {},
   "outputs": [
    {
     "name": "stderr",
     "output_type": "stream",
     "text": [
      "C:\\Users\\tunku\\AppData\\Local\\Temp\\ipykernel_8428\\2922947673.py:1: SettingWithCopyWarning: \n",
      "A value is trying to be set on a copy of a slice from a DataFrame\n",
      "\n",
      "See the caveats in the documentation: https://pandas.pydata.org/pandas-docs/stable/user_guide/indexing.html#returning-a-view-versus-a-copy\n",
      "  PB_videos.drop_duplicates(subset='video_id',keep='last', inplace=True)\n"
     ]
    }
   ],
   "source": [
    "PB_videos.drop_duplicates(subset='video_id',keep='last', inplace=True)"
   ]
  },
  {
   "cell_type": "code",
   "execution_count": 17,
   "id": "11729bf6",
   "metadata": {},
   "outputs": [
    {
     "name": "stdout",
     "output_type": "stream",
     "text": [
      "Size of the original dataset: 11629\n",
      "Number of unique videos in the dataset: 2152\n"
     ]
    }
   ],
   "source": [
    "print(\"Size of the original dataset: {}\".format(len(US_videos.loc[US_videos['categoryId'] == 22])))\n",
    "print(\"Number of unique videos in the dataset: {}\".format(len(PB_videos)))"
   ]
  },
  {
   "cell_type": "code",
   "execution_count": 18,
   "id": "0748101c",
   "metadata": {},
   "outputs": [
    {
     "name": "stderr",
     "output_type": "stream",
     "text": [
      "C:\\Users\\tunku\\AppData\\Local\\Temp\\ipykernel_8428\\1692840772.py:1: SettingWithCopyWarning: \n",
      "A value is trying to be set on a copy of a slice from a DataFrame\n",
      "\n",
      "See the caveats in the documentation: https://pandas.pydata.org/pandas-docs/stable/user_guide/indexing.html#returning-a-view-versus-a-copy\n",
      "  PB_videos.drop(['thumbnail_link'], axis=1, inplace=True)\n",
      "C:\\Users\\tunku\\AppData\\Local\\Temp\\ipykernel_8428\\1692840772.py:2: SettingWithCopyWarning: \n",
      "A value is trying to be set on a copy of a slice from a DataFrame\n",
      "\n",
      "See the caveats in the documentation: https://pandas.pydata.org/pandas-docs/stable/user_guide/indexing.html#returning-a-view-versus-a-copy\n",
      "  PB_videos.drop(['video_id'], axis=1, inplace=True)\n",
      "C:\\Users\\tunku\\AppData\\Local\\Temp\\ipykernel_8428\\1692840772.py:3: SettingWithCopyWarning: \n",
      "A value is trying to be set on a copy of a slice from a DataFrame\n",
      "\n",
      "See the caveats in the documentation: https://pandas.pydata.org/pandas-docs/stable/user_guide/indexing.html#returning-a-view-versus-a-copy\n",
      "  PB_videos.drop(['categoryId'], axis=1, inplace=True)\n"
     ]
    }
   ],
   "source": [
    "PB_videos.drop(['thumbnail_link'], axis=1, inplace=True)\n",
    "PB_videos.drop(['video_id'], axis=1, inplace=True)\n",
    "PB_videos.drop(['categoryId'], axis=1, inplace=True)"
   ]
  },
  {
   "cell_type": "markdown",
   "id": "8e217491",
   "metadata": {},
   "source": [
    "Feature Engineering part 1"
   ]
  },
  {
   "cell_type": "code",
   "execution_count": 19,
   "id": "4f6b5790",
   "metadata": {},
   "outputs": [
    {
     "name": "stderr",
     "output_type": "stream",
     "text": [
      "C:\\Users\\tunku\\AppData\\Local\\Temp\\ipykernel_8428\\150206483.py:2: SettingWithCopyWarning: \n",
      "A value is trying to be set on a copy of a slice from a DataFrame.\n",
      "Try using .loc[row_indexer,col_indexer] = value instead\n",
      "\n",
      "See the caveats in the documentation: https://pandas.pydata.org/pandas-docs/stable/user_guide/indexing.html#returning-a-view-versus-a-copy\n",
      "  PB_videos['trending_time'] = PB_videos.apply(lambda x: titles_count[x['title']],axis=1)\n"
     ]
    }
   ],
   "source": [
    "titles_count = PB_videos['title'].value_counts()\n",
    "PB_videos['trending_time'] = PB_videos.apply(lambda x: titles_count[x['title']],axis=1)\n",
    "# Trending_time is the number of days in trending."
   ]
  },
  {
   "cell_type": "code",
   "execution_count": 20,
   "id": "07f3b38d",
   "metadata": {},
   "outputs": [
    {
     "name": "stderr",
     "output_type": "stream",
     "text": [
      "C:\\Users\\tunku\\AppData\\Local\\Temp\\ipykernel_8428\\493044883.py:1: SettingWithCopyWarning: \n",
      "A value is trying to be set on a copy of a slice from a DataFrame.\n",
      "Try using .loc[row_indexer,col_indexer] = value instead\n",
      "\n",
      "See the caveats in the documentation: https://pandas.pydata.org/pandas-docs/stable/user_guide/indexing.html#returning-a-view-versus-a-copy\n",
      "  PB_videos['time_of_day'] = PB_videos['publishedAt'].apply(lambda x: pd.Timestamp(x).hour)\n"
     ]
    }
   ],
   "source": [
    "PB_videos['time_of_day'] = PB_videos['publishedAt'].apply(lambda x: pd.Timestamp(x).hour)"
   ]
  },
  {
   "cell_type": "code",
   "execution_count": 21,
   "id": "911ca8fb",
   "metadata": {},
   "outputs": [
    {
     "name": "stderr",
     "output_type": "stream",
     "text": [
      "C:\\Users\\tunku\\AppData\\Local\\Temp\\ipykernel_8428\\4193067047.py:1: SettingWithCopyWarning: \n",
      "A value is trying to be set on a copy of a slice from a DataFrame.\n",
      "Try using .loc[row_indexer,col_indexer] = value instead\n",
      "\n",
      "See the caveats in the documentation: https://pandas.pydata.org/pandas-docs/stable/user_guide/indexing.html#returning-a-view-versus-a-copy\n",
      "  PB_videos['Hour'] = PB_videos['publishedAt'].apply(lambda x: datetime.strptime(x,'%Y-%m-%dT%H:%M:%SZ').hour)\n"
     ]
    }
   ],
   "source": [
    "PB_videos['Hour'] = PB_videos['publishedAt'].apply(lambda x: datetime.strptime(x,'%Y-%m-%dT%H:%M:%SZ').hour)"
   ]
  },
  {
   "cell_type": "code",
   "execution_count": 22,
   "id": "a39d138a",
   "metadata": {},
   "outputs": [
    {
     "name": "stderr",
     "output_type": "stream",
     "text": [
      "C:\\Users\\tunku\\AppData\\Local\\Temp\\ipykernel_8428\\3789394678.py:2: SettingWithCopyWarning: \n",
      "A value is trying to be set on a copy of a slice from a DataFrame.\n",
      "Try using .loc[row_indexer,col_indexer] = value instead\n",
      "\n",
      "See the caveats in the documentation: https://pandas.pydata.org/pandas-docs/stable/user_guide/indexing.html#returning-a-view-versus-a-copy\n",
      "  PB_videos[numeric_col] = PB_videos[numeric_col].apply(pd.to_numeric, errors= 'coerce', axis=1)\n"
     ]
    }
   ],
   "source": [
    "numeric_col = ['view_count', 'likes', 'dislikes', 'comment_count', 'trending_time', 'Hour']\n",
    "PB_videos[numeric_col] = PB_videos[numeric_col].apply(pd.to_numeric, errors= 'coerce', axis=1)"
   ]
  },
  {
   "cell_type": "markdown",
   "id": "6137f7d2",
   "metadata": {},
   "source": []
  },
  {
   "cell_type": "code",
   "execution_count": 23,
   "id": "565a4d72",
   "metadata": {},
   "outputs": [
    {
     "name": "stderr",
     "output_type": "stream",
     "text": [
      "C:\\Users\\tunku\\AppData\\Local\\Temp\\ipykernel_8428\\2438158459.py:1: SettingWithCopyWarning: \n",
      "A value is trying to be set on a copy of a slice from a DataFrame.\n",
      "Try using .loc[row_indexer,col_indexer] = value instead\n",
      "\n",
      "See the caveats in the documentation: https://pandas.pydata.org/pandas-docs/stable/user_guide/indexing.html#returning-a-view-versus-a-copy\n",
      "  PB_videos['publishedAt']=pd.to_datetime(PB_videos.publishedAt)\n",
      "C:\\Users\\tunku\\AppData\\Local\\Temp\\ipykernel_8428\\2438158459.py:2: SettingWithCopyWarning: \n",
      "A value is trying to be set on a copy of a slice from a DataFrame.\n",
      "Try using .loc[row_indexer,col_indexer] = value instead\n",
      "\n",
      "See the caveats in the documentation: https://pandas.pydata.org/pandas-docs/stable/user_guide/indexing.html#returning-a-view-versus-a-copy\n",
      "  PB_videos['publishedAt'] = PB_videos['publishedAt'].dt.tz_convert(None)\n",
      "C:\\Users\\tunku\\AppData\\Local\\Temp\\ipykernel_8428\\2438158459.py:3: SettingWithCopyWarning: \n",
      "A value is trying to be set on a copy of a slice from a DataFrame.\n",
      "Try using .loc[row_indexer,col_indexer] = value instead\n",
      "\n",
      "See the caveats in the documentation: https://pandas.pydata.org/pandas-docs/stable/user_guide/indexing.html#returning-a-view-versus-a-copy\n",
      "  PB_videos['trending_date']=pd.to_datetime(PB_videos.trending_date)\n",
      "C:\\Users\\tunku\\AppData\\Local\\Temp\\ipykernel_8428\\2438158459.py:4: SettingWithCopyWarning: \n",
      "A value is trying to be set on a copy of a slice from a DataFrame.\n",
      "Try using .loc[row_indexer,col_indexer] = value instead\n",
      "\n",
      "See the caveats in the documentation: https://pandas.pydata.org/pandas-docs/stable/user_guide/indexing.html#returning-a-view-versus-a-copy\n",
      "  PB_videos['trending_date'] = PB_videos['trending_date'].dt.tz_convert(None)\n"
     ]
    }
   ],
   "source": [
    "PB_videos['publishedAt']=pd.to_datetime(PB_videos.publishedAt)\n",
    "PB_videos['publishedAt'] = PB_videos['publishedAt'].dt.tz_convert(None)\n",
    "PB_videos['trending_date']=pd.to_datetime(PB_videos.trending_date)\n",
    "PB_videos['trending_date'] = PB_videos['trending_date'].dt.tz_convert(None)"
   ]
  },
  {
   "cell_type": "code",
   "execution_count": 24,
   "id": "d07dd1a0",
   "metadata": {},
   "outputs": [
    {
     "name": "stderr",
     "output_type": "stream",
     "text": [
      "C:\\Users\\tunku\\AppData\\Local\\Temp\\ipykernel_8428\\2582444620.py:2: SettingWithCopyWarning: \n",
      "A value is trying to be set on a copy of a slice from a DataFrame.\n",
      "Try using .loc[row_indexer,col_indexer] = value instead\n",
      "\n",
      "See the caveats in the documentation: https://pandas.pydata.org/pandas-docs/stable/user_guide/indexing.html#returning-a-view-versus-a-copy\n",
      "  PB_videos['publish_date'] = pd.to_datetime(PB_videos['publishedAt']).dt.date\n",
      "C:\\Users\\tunku\\AppData\\Local\\Temp\\ipykernel_8428\\2582444620.py:3: SettingWithCopyWarning: \n",
      "A value is trying to be set on a copy of a slice from a DataFrame.\n",
      "Try using .loc[row_indexer,col_indexer] = value instead\n",
      "\n",
      "See the caveats in the documentation: https://pandas.pydata.org/pandas-docs/stable/user_guide/indexing.html#returning-a-view-versus-a-copy\n",
      "  PB_videos['publish_time'] = pd.to_datetime(PB_videos['publishedAt']).dt.time\n"
     ]
    }
   ],
   "source": [
    "#separate publishedAt into two column for publish date and publish time \n",
    "PB_videos['publish_date'] = pd.to_datetime(PB_videos['publishedAt']).dt.date\n",
    "PB_videos['publish_time'] = pd.to_datetime(PB_videos['publishedAt']).dt.time"
   ]
  },
  {
   "cell_type": "code",
   "execution_count": 25,
   "id": "18913879",
   "metadata": {},
   "outputs": [
    {
     "name": "stderr",
     "output_type": "stream",
     "text": [
      "C:\\Users\\tunku\\AppData\\Local\\Temp\\ipykernel_8428\\2680445763.py:1: SettingWithCopyWarning: \n",
      "A value is trying to be set on a copy of a slice from a DataFrame.\n",
      "Try using .loc[row_indexer,col_indexer] = value instead\n",
      "\n",
      "See the caveats in the documentation: https://pandas.pydata.org/pandas-docs/stable/user_guide/indexing.html#returning-a-view-versus-a-copy\n",
      "  PB_videos['day_name'] = \\\n"
     ]
    }
   ],
   "source": [
    "PB_videos['day_name'] = \\\n",
    "pd.to_datetime(PB_videos['publish_date']).dt.day_name()"
   ]
  },
  {
   "cell_type": "markdown",
   "id": "0f466bcb",
   "metadata": {},
   "source": [
    "# Data Cleaning for Text Fields"
   ]
  },
  {
   "cell_type": "markdown",
   "id": "3c97346c",
   "metadata": {},
   "source": [
    "From Dataset, there are 3 text columns:\n",
    "- title\n",
    "- description\n",
    "- tags"
   ]
  },
  {
   "cell_type": "code",
   "execution_count": 26,
   "id": "e76a8333",
   "metadata": {},
   "outputs": [
    {
     "name": "stderr",
     "output_type": "stream",
     "text": [
      "C:\\Users\\tunku\\AppData\\Local\\Temp\\ipykernel_8428\\1479826485.py:2: SettingWithCopyWarning: \n",
      "A value is trying to be set on a copy of a slice from a DataFrame.\n",
      "Try using .loc[row_indexer,col_indexer] = value instead\n",
      "\n",
      "See the caveats in the documentation: https://pandas.pydata.org/pandas-docs/stable/user_guide/indexing.html#returning-a-view-versus-a-copy\n",
      "  PB_videos.description= PB_videos.description.str.replace('http\\S+|www.\\S+',''\\\n",
      "C:\\Users\\tunku\\AppData\\Local\\Temp\\ipykernel_8428\\1479826485.py:5: FutureWarning: The default value of regex will change from True to False in a future version.\n",
      "  PB_videos.description = PB_videos.description.str.replace(r'[^a-zA-Z0-9]+', ' ')\n",
      "C:\\Users\\tunku\\AppData\\Local\\Temp\\ipykernel_8428\\1479826485.py:5: SettingWithCopyWarning: \n",
      "A value is trying to be set on a copy of a slice from a DataFrame.\n",
      "Try using .loc[row_indexer,col_indexer] = value instead\n",
      "\n",
      "See the caveats in the documentation: https://pandas.pydata.org/pandas-docs/stable/user_guide/indexing.html#returning-a-view-versus-a-copy\n",
      "  PB_videos.description = PB_videos.description.str.replace(r'[^a-zA-Z0-9]+', ' ')\n",
      "C:\\Users\\tunku\\AppData\\Local\\Temp\\ipykernel_8428\\1479826485.py:6: FutureWarning: The default value of regex will change from True to False in a future version.\n",
      "  PB_videos.description= PB_videos.description.str.replace(r'[0-9]+', '')\n",
      "C:\\Users\\tunku\\AppData\\Local\\Temp\\ipykernel_8428\\1479826485.py:6: SettingWithCopyWarning: \n",
      "A value is trying to be set on a copy of a slice from a DataFrame.\n",
      "Try using .loc[row_indexer,col_indexer] = value instead\n",
      "\n",
      "See the caveats in the documentation: https://pandas.pydata.org/pandas-docs/stable/user_guide/indexing.html#returning-a-view-versus-a-copy\n",
      "  PB_videos.description= PB_videos.description.str.replace(r'[0-9]+', '')\n"
     ]
    }
   ],
   "source": [
    "#remove links from the description\n",
    "PB_videos.description= PB_videos.description.str.replace('http\\S+|www.\\S+',''\\\n",
    "                                      ,regex= True).str.lower()\n",
    "#removing Punctuation from description\n",
    "PB_videos.description = PB_videos.description.str.replace(r'[^a-zA-Z0-9]+', ' ')\n",
    "PB_videos.description= PB_videos.description.str.replace(r'[0-9]+', '')"
   ]
  },
  {
   "cell_type": "code",
   "execution_count": 27,
   "id": "2896b5a2",
   "metadata": {},
   "outputs": [
    {
     "name": "stderr",
     "output_type": "stream",
     "text": [
      "C:\\Users\\tunku\\AppData\\Local\\Temp\\ipykernel_8428\\2438587042.py:2: SettingWithCopyWarning: \n",
      "A value is trying to be set on a copy of a slice from a DataFrame.\n",
      "Try using .loc[row_indexer,col_indexer] = value instead\n",
      "\n",
      "See the caveats in the documentation: https://pandas.pydata.org/pandas-docs/stable/user_guide/indexing.html#returning-a-view-versus-a-copy\n",
      "  PB_videos.title= PB_videos.title.str.replace('http\\S+|www.\\S+',''\\\n",
      "C:\\Users\\tunku\\AppData\\Local\\Temp\\ipykernel_8428\\2438587042.py:5: FutureWarning: The default value of regex will change from True to False in a future version.\n",
      "  PB_videos.title= PB_videos.title.str.replace(r'[^a-zA-Z0-9]+', ' ')\n",
      "C:\\Users\\tunku\\AppData\\Local\\Temp\\ipykernel_8428\\2438587042.py:5: SettingWithCopyWarning: \n",
      "A value is trying to be set on a copy of a slice from a DataFrame.\n",
      "Try using .loc[row_indexer,col_indexer] = value instead\n",
      "\n",
      "See the caveats in the documentation: https://pandas.pydata.org/pandas-docs/stable/user_guide/indexing.html#returning-a-view-versus-a-copy\n",
      "  PB_videos.title= PB_videos.title.str.replace(r'[^a-zA-Z0-9]+', ' ')\n",
      "C:\\Users\\tunku\\AppData\\Local\\Temp\\ipykernel_8428\\2438587042.py:6: FutureWarning: The default value of regex will change from True to False in a future version.\n",
      "  PB_videos.title= PB_videos.title.str.replace(r'[0-9]+', '')\n",
      "C:\\Users\\tunku\\AppData\\Local\\Temp\\ipykernel_8428\\2438587042.py:6: SettingWithCopyWarning: \n",
      "A value is trying to be set on a copy of a slice from a DataFrame.\n",
      "Try using .loc[row_indexer,col_indexer] = value instead\n",
      "\n",
      "See the caveats in the documentation: https://pandas.pydata.org/pandas-docs/stable/user_guide/indexing.html#returning-a-view-versus-a-copy\n",
      "  PB_videos.title= PB_videos.title.str.replace(r'[0-9]+', '')\n"
     ]
    }
   ],
   "source": [
    "#remove links from the title\n",
    "PB_videos.title= PB_videos.title.str.replace('http\\S+|www.\\S+',''\\\n",
    "                                      ,regex= True).str.lower()\n",
    "#removing Punctuation from title\n",
    "PB_videos.title= PB_videos.title.str.replace(r'[^a-zA-Z0-9]+', ' ')\n",
    "PB_videos.title= PB_videos.title.str.replace(r'[0-9]+', '')"
   ]
  },
  {
   "cell_type": "code",
   "execution_count": 28,
   "id": "e15ea92b",
   "metadata": {},
   "outputs": [
    {
     "name": "stderr",
     "output_type": "stream",
     "text": [
      "C:\\Users\\tunku\\AppData\\Local\\Temp\\ipykernel_8428\\3673124771.py:2: SettingWithCopyWarning: \n",
      "A value is trying to be set on a copy of a slice from a DataFrame.\n",
      "Try using .loc[row_indexer,col_indexer] = value instead\n",
      "\n",
      "See the caveats in the documentation: https://pandas.pydata.org/pandas-docs/stable/user_guide/indexing.html#returning-a-view-versus-a-copy\n",
      "  PB_videos.tags= PB_videos.tags.str.replace('http\\S+|www.\\S+',''\\\n",
      "C:\\Users\\tunku\\AppData\\Local\\Temp\\ipykernel_8428\\3673124771.py:5: FutureWarning: The default value of regex will change from True to False in a future version.\n",
      "  PB_videos.tags= PB_videos.tags.str.replace(r'[^a-zA-Z0-9]+', ' ')\n",
      "C:\\Users\\tunku\\AppData\\Local\\Temp\\ipykernel_8428\\3673124771.py:5: SettingWithCopyWarning: \n",
      "A value is trying to be set on a copy of a slice from a DataFrame.\n",
      "Try using .loc[row_indexer,col_indexer] = value instead\n",
      "\n",
      "See the caveats in the documentation: https://pandas.pydata.org/pandas-docs/stable/user_guide/indexing.html#returning-a-view-versus-a-copy\n",
      "  PB_videos.tags= PB_videos.tags.str.replace(r'[^a-zA-Z0-9]+', ' ')\n",
      "C:\\Users\\tunku\\AppData\\Local\\Temp\\ipykernel_8428\\3673124771.py:6: FutureWarning: The default value of regex will change from True to False in a future version.\n",
      "  PB_videos.tags= PB_videos.tags.str.replace(r'[0-9]+', '')\n",
      "C:\\Users\\tunku\\AppData\\Local\\Temp\\ipykernel_8428\\3673124771.py:6: SettingWithCopyWarning: \n",
      "A value is trying to be set on a copy of a slice from a DataFrame.\n",
      "Try using .loc[row_indexer,col_indexer] = value instead\n",
      "\n",
      "See the caveats in the documentation: https://pandas.pydata.org/pandas-docs/stable/user_guide/indexing.html#returning-a-view-versus-a-copy\n",
      "  PB_videos.tags= PB_videos.tags.str.replace(r'[0-9]+', '')\n"
     ]
    }
   ],
   "source": [
    "#remove links from the description\n",
    "PB_videos.tags= PB_videos.tags.str.replace('http\\S+|www.\\S+',''\\\n",
    "                                      ,regex= True).str.lower()\n",
    "#removing Punctuation from description\n",
    "PB_videos.tags= PB_videos.tags.str.replace(r'[^a-zA-Z0-9]+', ' ')\n",
    "PB_videos.tags= PB_videos.tags.str.replace(r'[0-9]+', '')"
   ]
  },
  {
   "cell_type": "code",
   "execution_count": 60,
   "id": "26a6e1ee",
   "metadata": {},
   "outputs": [
    {
     "name": "stdout",
     "output_type": "stream",
     "text": [
      "['i', 'me', 'my', 'myself', 'we', 'our', 'ours', 'ourselves', 'you', \"you're\", \"you've\", \"you'll\", \"you'd\", 'your', 'yours', 'yourself', 'yourselves', 'he', 'him', 'his', 'himself', 'she', \"she's\", 'her', 'hers', 'herself', 'it', \"it's\", 'its', 'itself', 'they', 'them', 'their', 'theirs', 'themselves', 'what', 'which', 'who', 'whom', 'this', 'that', \"that'll\", 'these', 'those', 'am', 'is', 'are', 'was', 'were', 'be', 'been', 'being', 'have', 'has', 'had', 'having', 'do', 'does', 'did', 'doing', 'a', 'an', 'the', 'and', 'but', 'if', 'or', 'because', 'as', 'until', 'while', 'of', 'at', 'by', 'for', 'with', 'about', 'against', 'between', 'into', 'through', 'during', 'before', 'after', 'above', 'below', 'to', 'from', 'up', 'down', 'in', 'out', 'on', 'off', 'over', 'under', 'again', 'further', 'then', 'once', 'here', 'there', 'when', 'where', 'why', 'how', 'all', 'any', 'both', 'each', 'few', 'more', 'most', 'other', 'some', 'such', 'no', 'nor', 'not', 'only', 'own', 'same', 'so', 'than', 'too', 'very', 's', 't', 'can', 'will', 'just', 'don', \"don't\", 'should', \"should've\", 'now', 'd', 'll', 'm', 'o', 're', 've', 'y', 'ain', 'aren', \"aren't\", 'couldn', \"couldn't\", 'didn', \"didn't\", 'doesn', \"doesn't\", 'hadn', \"hadn't\", 'hasn', \"hasn't\", 'haven', \"haven't\", 'isn', \"isn't\", 'ma', 'mightn', \"mightn't\", 'mustn', \"mustn't\", 'needn', \"needn't\", 'shan', \"shan't\", 'shouldn', \"shouldn't\", 'wasn', \"wasn't\", 'weren', \"weren't\", 'won', \"won't\", 'wouldn', \"wouldn't\", 'from', 'subject', 're', 'edu', 'use', 'none', 'None', 'follow', 'twitter', 'social', 'instagram', 'subscribe', 'snapchat', 'youtube', 'videos', 'video', 'channel', 'share', 'facebook', 'comment', 'like']\n"
     ]
    }
   ],
   "source": [
    "# produce universal stop_words to use for cleaning\n",
    "stop_words = stopwords.words(\"english\")\n",
    "stop_words.extend(['from', 'subject', 're', 'edu', 'use','none','None','follow', 'twitter', 'social', 'instagram', 'subscribe', 'snapchat', 'youtube', 'videos', 'video'\\\n",
    "                  ,'channel', 'share', 'facebook', 'comment', 'like'])\n",
    "print(stop_words)"
   ]
  },
  {
   "cell_type": "code",
   "execution_count": 30,
   "id": "fcab9455",
   "metadata": {},
   "outputs": [],
   "source": [
    "# To increase the figure size\n",
    "plt.rcParams['figure.figsize'] = [10, 5]"
   ]
  },
  {
   "cell_type": "code",
   "execution_count": 31,
   "id": "1a2dbe6a",
   "metadata": {},
   "outputs": [],
   "source": [
    "def generate_wordcloud(text, stop_words):\n",
    "    wordcloud = WordCloud(stopwords=stop_words,max_font_size=50, max_words=150, background_color=\"white\").generate(text)\n",
    "    plt.figure()\n",
    "    plt.imshow(wordcloud, interpolation=\"bilinear\")\n",
    "    plt.axis(\"off\")\n",
    "    plt.show()"
   ]
  },
  {
   "cell_type": "markdown",
   "id": "56fc1d4d",
   "metadata": {},
   "source": []
  },
  {
   "cell_type": "markdown",
   "id": "62e29d29",
   "metadata": {},
   "source": [
    "# Exploratory Data Analysis\n"
   ]
  },
  {
   "cell_type": "markdown",
   "id": "e4a217f6",
   "metadata": {},
   "source": [
    "Top 10 most viewed videos in category \"People and Blog\""
   ]
  },
  {
   "cell_type": "code",
   "execution_count": null,
   "id": "65d58e0a",
   "metadata": {},
   "outputs": [],
   "source": [
    "top_10_videos_most_viewed = PB_videos.groupby(['title']).max().sort_values('view_count',ascending=False).loc[:,'view_count'][:10]\n",
    "top_10_videos_most_viewed = top_10_videos_most_viewed.reset_index()"
   ]
  },
  {
   "cell_type": "code",
   "execution_count": null,
   "id": "6b48ac7f",
   "metadata": {},
   "outputs": [],
   "source": [
    "plt.figure(figsize=(10,8))\n",
    "sns.barplot(x = \"view_count\", y = \"title\", data = top_10_videos_most_viewed)\n",
    "plt.show()"
   ]
  },
  {
   "cell_type": "markdown",
   "id": "3ab3f17b",
   "metadata": {},
   "source": [
    "Top 10 most liked videos in category \"People and Blog\""
   ]
  },
  {
   "cell_type": "code",
   "execution_count": null,
   "id": "79a61719",
   "metadata": {},
   "outputs": [],
   "source": [
    "top_10_videos_most_liked = PB_videos.groupby(['title']).max().sort_values('likes',ascending=False).loc[:,'likes'][:10]\n",
    "top_10_videos_most_liked = top_10_videos_most_liked.reset_index()"
   ]
  },
  {
   "cell_type": "code",
   "execution_count": null,
   "id": "55d92759",
   "metadata": {},
   "outputs": [],
   "source": [
    "plt.figure(figsize=(10,8))\n",
    "sns.barplot(x = \"likes\", y = \"title\", data = top_10_videos_most_liked)\n",
    "plt.show()"
   ]
  },
  {
   "cell_type": "markdown",
   "id": "80ac7441",
   "metadata": {},
   "source": [
    "Top 10 most disliked videos in category \"People and Blog\""
   ]
  },
  {
   "cell_type": "code",
   "execution_count": null,
   "id": "80637bd6",
   "metadata": {},
   "outputs": [],
   "source": [
    "top_10_videos_most_disliked = PB_videos.groupby(['title']).max().sort_values('dislikes',ascending=False).loc[:,'dislikes'][:10]\n",
    "top_10_videos_most_disliked = top_10_videos_most_disliked.reset_index()"
   ]
  },
  {
   "cell_type": "code",
   "execution_count": null,
   "id": "362c31b1",
   "metadata": {},
   "outputs": [],
   "source": [
    "plt.figure(figsize=(10,8))\n",
    "sns.barplot(x = \"dislikes\", y = \"title\", data = top_10_videos_most_disliked)\n",
    "plt.show()"
   ]
  },
  {
   "cell_type": "code",
   "execution_count": null,
   "id": "482dc4c0",
   "metadata": {},
   "outputs": [],
   "source": [
    "# generate a function to make wordcloud for EDA\n",
    "def generate_wordcloud(text, stopwords):\n",
    "    wordcloud = WordCloud(stopwords=stop_words,max_font_size=50, max_words=150, background_color=\"white\").generate(text)\n",
    "    plt.figure()\n",
    "    plt.imshow(wordcloud, interpolation=\"bilinear\")\n",
    "    plt.axis(\"off\")\n",
    "    plt.show()"
   ]
  },
  {
   "cell_type": "markdown",
   "id": "04ac2cac",
   "metadata": {},
   "source": [
    "Bivariate analysis"
   ]
  },
  {
   "cell_type": "markdown",
   "id": "2e51018f",
   "metadata": {},
   "source": [
    "Views vs Likes"
   ]
  },
  {
   "cell_type": "code",
   "execution_count": null,
   "id": "960e20a8",
   "metadata": {},
   "outputs": [],
   "source": [
    "sns.regplot(data=PB_videos, x='view_count', y='likes', color= 'blue')\n",
    "plt.title('Regression plot for views and likes')"
   ]
  },
  {
   "cell_type": "markdown",
   "id": "cfcff6ca",
   "metadata": {},
   "source": [
    "Views vs Dislikes"
   ]
  },
  {
   "cell_type": "code",
   "execution_count": null,
   "id": "66829fb1",
   "metadata": {},
   "outputs": [],
   "source": [
    "sns.regplot(data=PB_videos, x='view_count', y='dislikes', color= 'red')\n",
    "plt.title('Regression plot for views and dislikes')"
   ]
  },
  {
   "cell_type": "markdown",
   "id": "f75a0f2c",
   "metadata": {},
   "source": [
    "Top 10 channels with most videos on trending"
   ]
  },
  {
   "cell_type": "code",
   "execution_count": null,
   "id": "f2c39052",
   "metadata": {},
   "outputs": [],
   "source": [
    "trending_channels=PB_videos.groupby(['channelTitle']).size().sort_values(ascending = False).head(10)\n",
    "trending_channels=trending_channels.reset_index()\n",
    "trending_channels=trending_channels.rename(columns={0: 'count'})"
   ]
  },
  {
   "cell_type": "code",
   "execution_count": null,
   "id": "3c04c61d",
   "metadata": {},
   "outputs": [],
   "source": [
    "plt.figure(figsize=(10,8))\n",
    "sns.barplot(y = \"channelTitle\", x = \"count\", data = trending_channels)\n",
    "plt.show()"
   ]
  },
  {
   "cell_type": "markdown",
   "id": "4c1e2f6e",
   "metadata": {},
   "source": [
    "multivariate analysis"
   ]
  },
  {
   "cell_type": "code",
   "execution_count": null,
   "id": "ee6fe725",
   "metadata": {},
   "outputs": [],
   "source": [
    "klib.corr_plot(PB_videos)"
   ]
  },
  {
   "cell_type": "code",
   "execution_count": null,
   "id": "c7c0fba2",
   "metadata": {},
   "outputs": [],
   "source": [
    "tag_list = \" \".join(text for text in PB_videos.tags)\n",
    "generate_wordcloud(tag_list, stopwords)"
   ]
  },
  {
   "cell_type": "code",
   "execution_count": null,
   "id": "5a5f7a27",
   "metadata": {},
   "outputs": [],
   "source": [
    "df_cat_pandblogs = US_videos.loc[US_videos['categoryId'] == 22]"
   ]
  },
  {
   "cell_type": "markdown",
   "id": "5b312457",
   "metadata": {},
   "source": [
    "In general, what are the most used tags for videos in category 'People and Blog'?"
   ]
  },
  {
   "cell_type": "markdown",
   "id": "5e49ca94",
   "metadata": {},
   "source": [
    "Find out the general topic of video using highest point of engagement based on time series"
   ]
  },
  {
   "cell_type": "code",
   "execution_count": null,
   "id": "49b6376c",
   "metadata": {},
   "outputs": [],
   "source": [
    "labels = {'view_count': 'View Count (Millions)', 'trending_date': 'Trending Date'}\n",
    "fig = px.line(df_cat_pandblogs, x='trending_date', y='view_count', title='View Count Time Series for category: People and Blog', labels=labels)\n",
    "\n",
    "fig.update_xaxes(rangeslider_visible=True)\n",
    "fig.update_layout(title_x=0.5)\n",
    "fig.show()"
   ]
  },
  {
   "cell_type": "markdown",
   "id": "1534f220",
   "metadata": {},
   "source": [
    "the spike of views over 80M occured between\n",
    "- 2021-05-16 to 2021-05-23\n",
    "- 2021-07-06 to 2021-07-10\n",
    "- 2022-03-22 to 2022-03-26\n",
    "\n"
   ]
  },
  {
   "cell_type": "code",
   "execution_count": null,
   "id": "b3344811",
   "metadata": {},
   "outputs": [],
   "source": [
    "firstdateMask = (PB_videos.publishedAt > pd.Timestamp(2021,5,16)) & (PB_videos.publishedAt < pd.Timestamp(2021,5,23))\n",
    "\n",
    "seconddateMask = (PB_videos.publishedAt > pd.Timestamp(2021,7,6)) & (PB_videos.publishedAt < pd.Timestamp(2021,7,10))\n",
    "\n",
    "thirddateMask = (PB_videos.publishedAt > pd.Timestamp(2022,3,22)) & (PB_videos.publishedAt < pd.Timestamp(2022,3,26))"
   ]
  },
  {
   "cell_type": "code",
   "execution_count": null,
   "id": "2bd4c43e",
   "metadata": {},
   "outputs": [],
   "source": [
    "first_tag_text = \" \".join(text for text in PB_videos.tags[firstdateMask])\n",
    "first_tag_title = \" \".join(text for text in PB_videos.title[firstdateMask])\n",
    "first_tag_title = first_tag_text + ' ' + first_tag_title\n",
    "generate_wordcloud(first_tag_title, stopwords)"
   ]
  },
  {
   "cell_type": "code",
   "execution_count": null,
   "id": "c36a4255",
   "metadata": {},
   "outputs": [],
   "source": [
    "second_tag_text = \" \".join(text for text in PB_videos.tags[seconddateMask])\n",
    "second_tag_title = \" \".join(text for text in PB_videos.title[seconddateMask])\n",
    "second_tag_title = second_tag_text + ' ' + second_tag_title\n",
    "generate_wordcloud(second_tag_title, stopwords)"
   ]
  },
  {
   "cell_type": "code",
   "execution_count": null,
   "id": "c8026aa7",
   "metadata": {},
   "outputs": [],
   "source": [
    "third_tag_text = \" \".join(text for text in PB_videos.tags[thirddateMask])\n",
    "third_tag_title = \" \".join(text for text in PB_videos.title[thirddateMask])\n",
    "third_tag_title = third_tag_text + ' ' + third_tag_title\n",
    "generate_wordcloud(third_tag_title, stopwords)"
   ]
  },
  {
   "cell_type": "code",
   "execution_count": null,
   "id": "b5fbe580",
   "metadata": {},
   "outputs": [],
   "source": [
    "PB_videos.info()"
   ]
  },
  {
   "cell_type": "markdown",
   "id": "f6fcee9c",
   "metadata": {},
   "source": [
    "Firstly, clean and analyze the title"
   ]
  },
  {
   "cell_type": "code",
   "execution_count": null,
   "id": "d4b8ef83",
   "metadata": {},
   "outputs": [],
   "source": [
    "print(PB_videos.title.unique())"
   ]
  },
  {
   "cell_type": "markdown",
   "id": "bd4acb02",
   "metadata": {},
   "source": [
    "# Pre-process For LDA Model"
   ]
  },
  {
   "cell_type": "code",
   "execution_count": 32,
   "id": "ad0f0942",
   "metadata": {},
   "outputs": [
    {
     "name": "stderr",
     "output_type": "stream",
     "text": [
      "C:\\Users\\tunku\\AppData\\Local\\Temp\\ipykernel_8428\\519573839.py:1: SettingWithCopyWarning: \n",
      "A value is trying to be set on a copy of a slice from a DataFrame.\n",
      "Try using .loc[row_indexer,col_indexer] = value instead\n",
      "\n",
      "See the caveats in the documentation: https://pandas.pydata.org/pandas-docs/stable/user_guide/indexing.html#returning-a-view-versus-a-copy\n",
      "  PB_videos['All_text'] = PB_videos.description + ' ' + PB_videos.tags + ' ' + PB_videos.title\n"
     ]
    }
   ],
   "source": [
    "PB_videos['All_text'] = PB_videos.description + ' ' + PB_videos.tags + ' ' + PB_videos.title"
   ]
  },
  {
   "cell_type": "code",
   "execution_count": null,
   "id": "c6af9599",
   "metadata": {},
   "outputs": [],
   "source": [
    "PB_videos.drop(columns=['description', 'tags', 'title'],axis=1,inplace=True)"
   ]
  },
  {
   "cell_type": "code",
   "execution_count": 33,
   "id": "dbaf5671",
   "metadata": {},
   "outputs": [
    {
     "name": "stdout",
     "output_type": "stream",
     "text": [
      "[['cinemassacre', 'channel', 'update', 'recap', 'hope', 'everyone', 'is', 'safe', 'and', 'sound', 'thanks', 'for', 'watching', 'during', 'all', 'of', 'this', 'it', 'means', 'lot', 'to', 'all', 'of', 'us', 'that', 'said', 'we', 'need', 'to', 'make', 'few', 'changes', 'with', 'everything', 'going', 'on', 'in', 'the', 'world', 'james', 'and', 'mike', 'monday', 'is', 'on', 'hiatus', 'until', 'february', 'rental', 'reviews', 'is', 'cancelled', 'but', 'the', 'rr', 'guys', 'justin', 'kieran', 'tony', 'will', 'be', 'working', 'behind', 'the', 'scenes', 'and', 'will', 'guest', 'host', 'some', 'upcoming', 'videos', 'there', 'will', 'be', 'more', 'random', 'videos', 'like', 'music', 'videos', 'and', 'scripted', 'reviews', 'plus', 'monthly', 'avgn', 'and', 'ykwbs', 'the', 'new', 'release', 'schedule', 'is', 'every', 'tuesday', 'and', 'friday', 'at', 'noon', 'est', 'conventions', 'and', 'any', 'films', 'we', 'were', 'planning', 'are', 'getting', 'pushed', 'back', 'but', 'my', 'book', 'should', 'make', 'lot', 'of', 'headway', 'this', 'year', 'the', 'new', 'avgn', 'video', 'game', 'will', 'come', 'out', 'this', 'fall', 'sometime', 'on', 'all', 'systems', 'add', 'avgn', 'deluxe', 'to', 'your', 'steam', 'wishlist', 'us', 'on', 'twitter', 'james', 'matei', 'shirts', 'dvds', 'and', 'blu', 'rays', 'on', 'amazon', 'com', 'exclusive', 'shirts', 'to', 'subscribe', 'jamesrolfe', 'update', 'cinemassacre', 'channel', 'update', 'cinemassacre', 'update', 'video', 'cinemassacre', 'update', 'james', 'rolfe', 'cinemassacre', 'channel', 'update']]\n"
     ]
    }
   ],
   "source": [
    "def sent_to_words(sentences):\n",
    "    for sentence in sentences:\n",
    "        yield(gensim.utils.simple_preprocess(str(sentence), deacc=True))\n",
    "all_words = list(sent_to_words(PB_videos['All_text']))\n",
    "print(all_words[:1])"
   ]
  },
  {
   "cell_type": "code",
   "execution_count": 34,
   "id": "54a05ffe",
   "metadata": {},
   "outputs": [
    {
     "name": "stdout",
     "output_type": "stream",
     "text": [
      "['cinemassacre', 'channel', 'update', 'recap', 'hope', 'everyone', 'is', 'safe', 'and', 'sound', 'thanks', 'for', 'watching', 'during', 'all', 'of', 'this', 'it', 'means', 'lot', 'to', 'all', 'of', 'us', 'that', 'said', 'we', 'need', 'to', 'make', 'few', 'changes', 'with', 'everything', 'going', 'on', 'in', 'the', 'world', 'james', 'and', 'mike', 'monday', 'is', 'on', 'hiatus', 'until', 'february', 'rental', 'reviews', 'is', 'cancelled', 'but', 'the', 'rr', 'guys', 'justin', 'kieran', 'tony', 'will', 'be', 'working', 'behind', 'the', 'scenes', 'and', 'will', 'guest', 'host', 'some', 'upcoming', 'videos', 'there', 'will', 'be', 'more', 'random', 'videos', 'like', 'music', 'videos', 'and', 'scripted', 'reviews', 'plus', 'monthly', 'avgn', 'and', 'ykwbs', 'the', 'new', 'release', 'schedule', 'is', 'every_tuesday', 'and', 'friday', 'at', 'noon', 'est', 'conventions', 'and', 'any', 'films', 'we', 'were', 'planning', 'are', 'getting', 'pushed', 'back', 'but', 'my', 'book', 'should', 'make', 'lot', 'of', 'headway', 'this', 'year', 'the', 'new', 'avgn', 'video', 'game', 'will', 'come', 'out', 'this', 'fall', 'sometime', 'on', 'all', 'systems', 'add', 'avgn', 'deluxe', 'to', 'your', 'steam', 'wishlist', 'us', 'on', 'twitter', 'james', 'matei', 'shirts', 'dvds', 'and', 'blu', 'rays', 'on', 'amazon', 'com', 'exclusive', 'shirts', 'to', 'subscribe', 'jamesrolfe', 'update', 'cinemassacre', 'channel', 'update', 'cinemassacre', 'update', 'video', 'cinemassacre', 'update', 'james', 'rolfe', 'cinemassacre', 'channel', 'update']\n"
     ]
    }
   ],
   "source": [
    "# Build the bigram and trigram models\n",
    "bigram = gensim.models.Phrases(all_words, min_count=5, threshold=100) # higher threshold fewer phrases.\n",
    "trigram = gensim.models.Phrases(bigram[all_words], threshold=100)  \n",
    "\n",
    "# Faster way to get a sentence clubbed as a trigram/bigram\n",
    "bigram_mod = gensim.models.phrases.Phraser(bigram)\n",
    "trigram_mod = gensim.models.phrases.Phraser(trigram)\n",
    "\n",
    "# See trigram example\n",
    "print(trigram_mod[bigram_mod[all_words[0]]])"
   ]
  },
  {
   "cell_type": "code",
   "execution_count": 35,
   "id": "72d486ec",
   "metadata": {},
   "outputs": [],
   "source": [
    "# Initialize spacy 'en' model, keeping only tagger component (for efficiency)\n",
    "nlp = spacy.load(\"en_core_web_sm\", disable=['parser', 'ner'])"
   ]
  },
  {
   "cell_type": "code",
   "execution_count": 36,
   "id": "100820e2",
   "metadata": {},
   "outputs": [],
   "source": [
    "# make bigram function\n",
    "def make_bigrams(texts):\n",
    "    return [bigram_mod[doc] for doc in texts]\n",
    "\n",
    "def make_trigrams(texts):\n",
    "    return [trigram_mod[bigram_mod[doc]] for doc in texts]"
   ]
  },
  {
   "cell_type": "code",
   "execution_count": 37,
   "id": "6d84c111",
   "metadata": {},
   "outputs": [],
   "source": [
    "def lemmatization(texts, allowed_postags=['NOUN', 'ADJ', 'VERB', 'ADV']):\n",
    "    \"\"\"https://spacy.io/api/annotation\"\"\"\n",
    "    texts_out = []\n",
    "    for sent in texts:\n",
    "        doc = nlp(\" \".join(sent)) \n",
    "        texts_out.append([token.lemma_ for token in doc if token.pos_ in allowed_postags])\n",
    "    return texts_out"
   ]
  },
  {
   "cell_type": "code",
   "execution_count": 38,
   "id": "aeaec76d",
   "metadata": {},
   "outputs": [],
   "source": [
    "def remove_stopwords(texts):\n",
    "    return [[word for word in simple_preprocess(str(doc)) if word not in stop_words] for doc in texts]"
   ]
  },
  {
   "cell_type": "code",
   "execution_count": 39,
   "id": "57b1a368",
   "metadata": {},
   "outputs": [],
   "source": [
    "# Form Bigrams\n",
    "title_words_bigrams = make_bigrams(all_words)\n",
    "\n",
    "# Do lemmatization keeping only noun, adj, vb, adv\n",
    "data_lemmatized_withnull = lemmatization(title_words_bigrams, allowed_postags=['NOUN', 'ADJ', 'VERB', 'ADV'])\n",
    "\n",
    "temp_df = pd.DataFrame([list(x) for x in data_lemmatized_withnull])\n"
   ]
  },
  {
   "cell_type": "code",
   "execution_count": 40,
   "id": "324d4463",
   "metadata": {},
   "outputs": [],
   "source": [
    "remove_nan_rows = temp_df.dropna(axis=0, how='all')"
   ]
  },
  {
   "cell_type": "code",
   "execution_count": 41,
   "id": "cf8c1107",
   "metadata": {},
   "outputs": [],
   "source": [
    "temp_data_lemmatized = temp_df.to_numpy().tolist()"
   ]
  },
  {
   "cell_type": "code",
   "execution_count": 42,
   "id": "6c042bfc",
   "metadata": {},
   "outputs": [],
   "source": [
    "data_lemmatized = remove_stopwords(temp_data_lemmatized)"
   ]
  },
  {
   "cell_type": "code",
   "execution_count": 43,
   "id": "6b327ecb",
   "metadata": {},
   "outputs": [
    {
     "name": "stdout",
     "output_type": "stream",
     "text": [
      "[['update', 'recap', 'hope', 'safe', 'sound', 'thank', 'watch', 'mean', 'lot', 'say', 'need', 'make', 'change', 'go', 'world', 'review', 'cancel', 'guy', 'work', 'scene', 'guest', 'host', 'upcoming', 'random', 'music', 'scripted', 'review', 'monthly', 'avgn', 'ykwb', 'new', 'release', 'schedule', 'every_tuesday', 'friday', 'noon', 'est', 'convention', 'film', 'plan', 'get', 'push', 'back', 'book', 'make', 'lot', 'headway', 'year', 'new', 'game', 'come', 'fall', 'sometime', 'system', 'add', 'deluxe', 'steam', 'wishlist', 'shirt', 'dvds', 'blu', 'ray', 'amazon', 'com', 'exclusive', 'shirt', 'jamesrolfe', 'update', 'cinemassacre', 'update', 'cinemassacre', 'update', 'cinemassacre', 'update', 'update']]\n"
     ]
    }
   ],
   "source": [
    "print(data_lemmatized[:1])"
   ]
  },
  {
   "cell_type": "code",
   "execution_count": 44,
   "id": "828cffd9",
   "metadata": {},
   "outputs": [
    {
     "name": "stdout",
     "output_type": "stream",
     "text": [
      "[[(0, 1), (1, 1), (2, 1), (3, 1), (4, 1), (5, 1), (6, 1), (7, 1), (8, 3), (9, 1), (10, 1), (11, 1), (12, 1), (13, 1), (14, 1), (15, 1), (16, 1), (17, 1), (18, 1), (19, 1), (20, 1), (21, 1), (22, 1), (23, 1), (24, 1), (25, 1), (26, 1), (27, 1), (28, 1), (29, 2), (30, 2), (31, 1), (32, 1), (33, 1), (34, 1), (35, 2), (36, 1), (37, 1), (38, 1), (39, 1), (40, 1), (41, 1), (42, 1), (43, 2), (44, 1), (45, 1), (46, 1), (47, 1), (48, 1), (49, 2), (50, 1), (51, 1), (52, 1), (53, 1), (54, 1), (55, 1), (56, 6), (57, 1), (58, 1), (59, 1), (60, 1), (61, 1), (62, 1)]]\n"
     ]
    }
   ],
   "source": [
    "# Create Dictionary\n",
    "id2word = corpora.Dictionary(data_lemmatized)\n",
    "\n",
    "# Create Corpus\n",
    "texts = data_lemmatized\n",
    "\n",
    "# Term Document Frequency\n",
    "dt_corpus = [id2word.doc2bow(text) for text in texts]\n",
    "\n",
    "# View\n",
    "print(dt_corpus[:1])"
   ]
  },
  {
   "cell_type": "code",
   "execution_count": 45,
   "id": "0df9fe16",
   "metadata": {},
   "outputs": [
    {
     "name": "stdout",
     "output_type": "stream",
     "text": [
      "Number of unique tokens: 11606\n",
      "Number of documents: 2152\n"
     ]
    }
   ],
   "source": [
    "print('Number of unique tokens: %d' % len(id2word))\n",
    "print('Number of documents: %d' % len(dt_corpus))"
   ]
  },
  {
   "cell_type": "code",
   "execution_count": 46,
   "id": "9a887300",
   "metadata": {},
   "outputs": [
    {
     "data": {
      "text/plain": [
       "[[('add', 1),\n",
       "  ('amazon', 1),\n",
       "  ('avgn', 1),\n",
       "  ('back', 1),\n",
       "  ('blu', 1),\n",
       "  ('book', 1),\n",
       "  ('cancel', 1),\n",
       "  ('change', 1),\n",
       "  ('cinemassacre', 3),\n",
       "  ('com', 1),\n",
       "  ('come', 1),\n",
       "  ('convention', 1),\n",
       "  ('deluxe', 1),\n",
       "  ('dvds', 1),\n",
       "  ('est', 1),\n",
       "  ('every_tuesday', 1),\n",
       "  ('exclusive', 1),\n",
       "  ('fall', 1),\n",
       "  ('film', 1),\n",
       "  ('friday', 1),\n",
       "  ('game', 1),\n",
       "  ('get', 1),\n",
       "  ('go', 1),\n",
       "  ('guest', 1),\n",
       "  ('guy', 1),\n",
       "  ('headway', 1),\n",
       "  ('hope', 1),\n",
       "  ('host', 1),\n",
       "  ('jamesrolfe', 1),\n",
       "  ('lot', 2),\n",
       "  ('make', 2),\n",
       "  ('mean', 1),\n",
       "  ('monthly', 1),\n",
       "  ('music', 1),\n",
       "  ('need', 1),\n",
       "  ('new', 2),\n",
       "  ('noon', 1),\n",
       "  ('plan', 1),\n",
       "  ('push', 1),\n",
       "  ('random', 1),\n",
       "  ('ray', 1),\n",
       "  ('recap', 1),\n",
       "  ('release', 1),\n",
       "  ('review', 2),\n",
       "  ('safe', 1),\n",
       "  ('say', 1),\n",
       "  ('scene', 1),\n",
       "  ('schedule', 1),\n",
       "  ('scripted', 1),\n",
       "  ('shirt', 2),\n",
       "  ('sometime', 1),\n",
       "  ('sound', 1),\n",
       "  ('steam', 1),\n",
       "  ('system', 1),\n",
       "  ('thank', 1),\n",
       "  ('upcoming', 1),\n",
       "  ('update', 6),\n",
       "  ('watch', 1),\n",
       "  ('wishlist', 1),\n",
       "  ('work', 1),\n",
       "  ('world', 1),\n",
       "  ('year', 1),\n",
       "  ('ykwb', 1)]]"
      ]
     },
     "execution_count": 46,
     "metadata": {},
     "output_type": "execute_result"
    }
   ],
   "source": [
    "[[(id2word[id], freq) for id, freq in cp] for cp in dt_corpus[:1]]"
   ]
  },
  {
   "cell_type": "code",
   "execution_count": 47,
   "id": "acf93936",
   "metadata": {},
   "outputs": [],
   "source": [
    "# Build LDA model\n",
    "lda_model = gensim.models.LdaMulticore(corpus=dt_corpus,\n",
    "                                       id2word=id2word,\n",
    "                                       num_topics=10, \n",
    "                                       random_state=100,\n",
    "                                       chunksize=100,\n",
    "                                       passes=10,\n",
    "                                       per_word_topics=True)"
   ]
  },
  {
   "cell_type": "code",
   "execution_count": 48,
   "id": "6c928e36",
   "metadata": {},
   "outputs": [
    {
     "name": "stdout",
     "output_type": "stream",
     "text": [
      "[(0,\n",
      "  '0.013*\"getty\" + 0.009*\"new\" + 0.007*\"vogue\" + 0.007*\"try_not\" + '\n",
      "  '0.006*\"courage\" + 0.006*\"funny\" + 0.006*\"know\" + 0.006*\"fashion\" + '\n",
      "  '0.006*\"fortnite\" + 0.005*\"home\"'),\n",
      " (1,\n",
      "  '0.010*\"get\" + 0.009*\"make\" + 0.009*\"vlog\" + 0.007*\"official\" + '\n",
      "  '0.006*\"voice\" + 0.006*\"family\" + 0.006*\"thank\" + 0.006*\"go\" + 0.005*\"first\" '\n",
      "  '+ 0.005*\"water\"'),\n",
      " (2,\n",
      "  '0.032*\"family\" + 0.019*\"vlog\" + 0.017*\"baby\" + 0.011*\"pregnant\" + '\n",
      "  '0.009*\"new\" + 0.008*\"life\" + 0.008*\"story\" + 0.008*\"day\" + 0.007*\"get\" + '\n",
      "  '0.007*\"tiktok\"'),\n",
      " (3,\n",
      "  '0.013*\"make\" + 0.009*\"tiktok\" + 0.008*\"hour\" + 0.007*\"challenge\" + '\n",
      "  '0.007*\"music\" + 0.007*\"minecraft\" + 0.007*\"build\" + 0.006*\"real_life\" + '\n",
      "  '0.006*\"eat\" + 0.006*\"among_us\"'),\n",
      " (4,\n",
      "  '0.011*\"show\" + 0.010*\"roblox_bedwar\" + 0.008*\"tonight_show\" + 0.007*\"get\" + '\n",
      "  '0.006*\"new\" + 0.006*\"go\" + 0.006*\"trick\" + 0.005*\"season\" + 0.005*\"good\" + '\n",
      "  '0.005*\"friend\"'),\n",
      " (5,\n",
      "  '0.014*\"good\" + 0.010*\"click\" + 0.010*\"watch\" + 0.010*\"dude_perfect\" + '\n",
      "  '0.008*\"dog\" + 0.007*\"friend\" + 0.006*\"family\" + 0.006*\"big\" + 0.006*\"make\" '\n",
      "  '+ 0.006*\"wedding\"'),\n",
      " (6,\n",
      "  '0.013*\"new\" + 0.007*\"tiktok\" + 0.006*\"merch\" + 0.006*\"day\" + 0.006*\"watch\" '\n",
      "  '+ 0.006*\"food\" + 0.005*\"find\" + 0.005*\"vlog\" + 0.005*\"go\" + 0.005*\"hope\"'),\n",
      " (7,\n",
      "  '0.020*\"vlog\" + 0.012*\"house\" + 0.009*\"life\" + 0.009*\"get\" + 0.008*\"home\" + '\n",
      "  '0.008*\"love\" + 0.007*\"babish\" + 0.007*\"family\" + 0.007*\"new\" + '\n",
      "  '0.006*\"off_grid\"'),\n",
      " (8,\n",
      "  '0.023*\"minecraft\" + 0.012*\"family\" + 0.010*\"royalty\" + 0.009*\"dream\" + '\n",
      "  '0.009*\"tiktok\" + 0.008*\"content\" + 0.008*\"new\" + 0.007*\"get\" + 0.007*\"show\" '\n",
      "  '+ 0.006*\"home\"'),\n",
      " (9,\n",
      "  '0.015*\"get\" + 0.010*\"official\" + 0.009*\"asmr\" + 0.008*\"music\" + 0.008*\"go\" '\n",
      "  '+ 0.007*\"make\" + 0.006*\"tiktok\" + 0.006*\"know\" + 0.006*\"really\" + '\n",
      "  '0.005*\"new\"')]\n"
     ]
    }
   ],
   "source": [
    "from pprint import pprint\n",
    "# Print the Keyword in the 10 topics\n",
    "pprint(lda_model.print_topics())\n",
    "doc_lda = lda_model[dt_corpus]"
   ]
  },
  {
   "cell_type": "code",
   "execution_count": 49,
   "id": "3fd75f72",
   "metadata": {},
   "outputs": [
    {
     "name": "stdout",
     "output_type": "stream",
     "text": [
      "\n",
      "Perplexity:  -8.052504510308617\n",
      "\n",
      "Coherence Score:  0.39207974265541246\n"
     ]
    }
   ],
   "source": [
    "# Compute Perplexity\n",
    "print('\\nPerplexity: ', lda_model.log_perplexity(dt_corpus))  # a measure of how good the model is. lower the better.\n",
    "\n",
    "# Compute Coherence Score\n",
    "coherence_model_lda = CoherenceModel(model=lda_model, texts=data_lemmatized, dictionary=id2word, coherence='c_v')\n",
    "coherence_lda = coherence_model_lda.get_coherence()\n",
    "print('\\nCoherence Score: ', coherence_lda)"
   ]
  },
  {
   "cell_type": "markdown",
   "id": "9a9a0677",
   "metadata": {},
   "source": [
    "0.35944259744198476"
   ]
  },
  {
   "cell_type": "code",
   "execution_count": 50,
   "id": "20e59b3c",
   "metadata": {},
   "outputs": [
    {
     "name": "stderr",
     "output_type": "stream",
     "text": [
      "c:\\Users\\tunku\\anaconda3\\lib\\site-packages\\pyLDAvis\\_prepare.py:246: FutureWarning: In a future version of pandas all arguments of DataFrame.drop except for the argument 'labels' will be keyword-only.\n",
      "  default_term_info = default_term_info.sort_values(\n"
     ]
    },
    {
     "data": {
      "text/html": [
       "\n",
       "<link rel=\"stylesheet\" type=\"text/css\" href=\"https://cdn.jsdelivr.net/gh/bmabey/pyLDAvis@3.3.1/pyLDAvis/js/ldavis.v1.0.0.css\">\n",
       "\n",
       "\n",
       "<div id=\"ldavis_el842821687710362089520825250\"></div>\n",
       "<script type=\"text/javascript\">\n",
       "\n",
       "var ldavis_el842821687710362089520825250_data = {\"mdsDat\": {\"x\": [0.09584770617776146, -0.042449647586299766, 0.08380135301428657, 0.022257561718547147, -0.007122014609235956, 0.07787609148448613, -0.1756622649788046, 0.0631310087975636, -0.035326351318815126, -0.08235344269948945], \"y\": [-0.025386303454431748, 0.06877682061773507, -0.05755474702955396, 0.045364142230668446, -0.09542333756636714, 0.01013359852784317, -0.09267855365801035, -0.02733387700142177, 0.1590759796526008, 0.015026277680937379], \"topics\": [1, 2, 3, 4, 5, 6, 7, 8, 9, 10], \"cluster\": [1, 1, 1, 1, 1, 1, 1, 1, 1, 1], \"Freq\": [16.983151511389778, 13.365397760685182, 11.449583339961787, 10.563383012604694, 10.093362521174688, 10.058212341552132, 8.22840537129787, 8.191059307828613, 5.703308873243735, 5.364135960261519]}, \"tinfo\": {\"Term\": [\"minecraft\", \"family\", \"vlog\", \"getty\", \"baby\", \"royalty\", \"dude_perfect\", \"house\", \"pregnant\", \"babish\", \"show\", \"real_life\", \"good\", \"fortnite\", \"click\", \"roblox_bedwar\", \"get\", \"vogue\", \"asmr\", \"home\", \"dog\", \"try_not\", \"off_grid\", \"tonight_show\", \"dream\", \"courage\", \"among_us\", \"voice\", \"wedding\", \"hour\", \"teen_mom\", \"chilly\", \"huggie\", \"diaper\", \"else_ill\", \"trucking\", \"zach_bryan\", \"stay_connected\", \"videos_stalk\", \"gmail_commake\", \"benny_soliven\", \"asmongold\", \"orange\", \"midnight\", \"brittney\", \"boot\", \"jar\", \"excavator\", \"rydel_lynch\", \"bunk\", \"headlight\", \"ryder\", \"makeup_tutorial\", \"narrator\", \"tacos_main\", \"motherhood\", \"friendly_smile\", \"tacos\", \"becky_johnson\", \"nadeshot\", \"th_generation\", \"valentine\", \"newborn\", \"farmer\", \"capron\", \"family\", \"agriculture\", \"pregnancy\", \"baby\", \"pregnant\", \"tell\", \"story\", \"ellie\", \"touch\", \"cam\", \"vlog\", \"daily\", \"pov\", \"surprise\", \"shoutout\", \"boy\", \"day\", \"grow\", \"life\", \"animation\", \"kid\", \"new\", \"com\", \"turn\", \"tiktok\", \"product\", \"beauty\", \"get\", \"podcast\", \"always\", \"thank\", \"watch\", \"go\", \"come\", \"today\", \"take\", \"funny\", \"girl\", \"music\", \"see\", \"make\", \"time\", \"eating_seafood\", \"mbeem\", \"squid_game\", \"imposter\", \"jeremy_hutchin\", \"cater\", \"can_notice\", \"boil\", \"feastable\", \"ben_azelart\", \"guga_food\", \"had_lot\", \"stokes_twin\", \"seafood_boil\", \"beem_team\", \"where_matthew\", \"pineapple\", \"beem_aka\", \"oddinary\", \"spike\", \"tink\", \"vory\", \"imposter_iq\", \"boba\", \"venom\", \"golden_egg\", \"extreme_hide\", \"spongebob\", \"brittany\", \"tentacle\", \"among_us\", \"brent\", \"mrbeast\", \"backyard\", \"clip\", \"hour\", \"wagyu\", \"real_life\", \"doll\", \"toilet\", \"eat\", \"seek\", \"pizza\", \"fortnite\", \"make\", \"play\", \"build\", \"challenge\", \"giant\", \"win\", \"minecraft\", \"tiktok\", \"game\", \"music\", \"kid\", \"see\", \"last\", \"good\", \"love\", \"funny\", \"official\", \"part\", \"know\", \"time\", \"friend\", \"go\", \"new\", \"watch\", \"solar\", \"no_sweare\", \"moments_crazi\", \"parody_troll\", \"uncontaine\", \"panel\", \"tile\", \"meatball\", \"tiny\", \"container\", \"off_grid\", \"blended\", \"simpson\", \"actin\", \"ii_mm\", \"orchard\", \"advertising\", \"bass_fishing\", \"emma\", \"kendall_rae\", \"trentandallie\", \"aspyn\", \"yurt\", \"vanlife\", \"botch\", \"dub\", \"deshae\", \"issa\", \"parker\", \"rim\", \"knife\", \"organizer\", \"babish\", \"trent\", \"roadtrip\", \"stereo\", \"expensive\", \"unspeakable\", \"building\", \"house\", \"babish_website\", \"birth\", \"playlist\", \"wellness\", \"property\", \"vlog\", \"tank\", \"trampoline\", \"home\", \"camera\", \"life\", \"delivery\", \"love\", \"labor\", \"kitchen\", \"build\", \"get\", \"free\", \"prank\", \"live\", \"want\", \"thank\", \"new\", \"baby\", \"family\", \"couple\", \"crazy\", \"real_life\", \"day\", \"watch\", \"first\", \"make\", \"music\", \"time\", \"vase\", \"batmobile\", \"lone_fox\", \"judge\", \"resin\", \"thrift\", \"lizze\", \"jacquard\", \"batman\", \"vintage\", \"daily_bump\", \"juicy_question\", \"clout\", \"get_shout\", \"comment_share\", \"lanning\", \"auntie\", \"ultrasound\", \"stroke\", \"arnold_sister\", \"memorial\", \"cocoa\", \"mask\", \"contractor\", \"long_it\", \"paddle\", \"tote\", \"purse\", \"grim\", \"reaper\", \"quit\", \"chief\", \"tire\", \"cardboard\", \"ethan_aguilar\", \"nikki_melody\", \"health\", \"comfacebook\", \"bretman_bretman\", \"dry_age\", \"worth\", \"via_warner\", \"street\", \"melt\", \"aguilar\", \"contact\", \"buzzfee\", \"empty\", \"car\", \"hope\", \"merch\", \"new\", \"steak\", \"food\", \"cook\", \"tour\", \"paint\", \"tyler\", \"shop\", \"day\", \"really\", \"find\", \"guy\", \"tiktok\", \"big\", \"update\", \"keep\", \"watch\", \"great\", \"review\", \"go\", \"love\", \"make\", \"thank\", \"vlog\", \"pregnant\", \"baby\", \"get\", \"first\", \"see\", \"funny\", \"wandavision\", \"ferran\", \"server\", \"printer\", \"royalty\", \"vanwive\", \"custom_lipstick\", \"sipover\", \"speed_watche\", \"dispute\", \"intent\", \"business_relate\", \"royalty_royal\", \"way_infringe\", \"not_hesitate\", \"used_fall\", \"content_owner\", \"remit\", \"wanna_reach\", \"comfor\", \"hunter\", \"even_explain\", \"keep_growing\", \"really_grateful\", \"marvel_relate\", \"found_watche\", \"oahu\", \"shangerdanger\", \"manhunt\", \"shark_tank\", \"seed\", \"customize\", \"io\", \"minecraft\", \"speed\", \"marvel\", \"tool\", \"hack\", \"fair_use\", \"content\", \"dream\", \"sideman\", \"dixie_amelio\", \"hey_guy\", \"dixie\", \"wood\", \"happy\", \"breakdown\", \"fun\", \"way\", \"show\", \"tiktok\", \"family\", \"home\", \"believe\", \"free\", \"challenge\", \"find\", \"new\", \"get\", \"music\", \"help\", \"watch\", \"episode\", \"support\", \"time\", \"make\", \"know\", \"come\", \"entrepreneur\", \"game_changer\", \"carman\", \"tldr\", \"landon\", \"pond_build\", \"chapter_problem\", \"ducks_final\", \"two_pet\", \"fishing_product\", \"wanderer\", \"hungry_syrian\", \"bass\", \"pokimane\", \"elsy_louie\", \"water_part\", \"daisy_marquez\", \"shopee\", \"shyla_through\", \"fam_juju\", \"benny_alo\", \"aerator\", \"bungee\", \"th_century\", \"dropout\", \"reich_game\", \"changer\", \"colonial\", \"invade\", \"vgg\", \"pond\", \"benny\", \"alondradessy\", \"dessert\", \"shyla\", \"structure\", \"lash\", \"vice_grip\", \"online\", \"voice\", \"corey\", \"water\", \"labor\", \"business\", \"james_charle\", \"money\", \"get\", \"make\", \"official\", \"delivery\", \"month\", \"vlog\", \"thank\", \"first\", \"come\", \"year\", \"go\", \"time\", \"meet\", \"family\", \"watch\", \"room\", \"music\", \"new\", \"baby\", \"friend\", \"love\", \"want\", \"courage\", \"vogue\", \"getty\", \"alexa_demie\", \"smart_appliance\", \"selena_gomez\", \"sypherpk\", \"maldive\", \"snow_bike\", \"snowmobile\", \"things_mystery\", \"supernatural\", \"cold_case\", \"ninja\", \"skit_vine\", \"unsolved_true\", \"always_consult\", \"cannot_possibly\", \"playtime\", \"tenet\", \"mattie\", \"laugh_challenge\", \"lighthouse\", \"ksi\", \"swpah\", \"authority\", \"couragous\", \"dunlop\", \"disneyland\", \"caster\", \"try_not\", \"unsolved\", \"director\", \"network\", \"digital\", \"true_crime\", \"background\", \"mac_cheese\", \"gadget\", \"boxing\", \"smosh_game\", \"comedy_vine\", \"fashion\", \"precaution\", \"all_cdc\", \"very_limited\", \"smosh_clothing\", \"fortnite\", \"line\", \"punch_that\", \"production\", \"bell_icon\", \"crew\", \"beauty\", \"know\", \"new\", \"funny\", \"shoot\", \"home\", \"look\", \"game\", \"prank\", \"fight\", \"hair\", \"live\", \"episode\", \"season\", \"get\", \"shop\", \"dude_perfect\", \"arepas\", \"golf\", \"trey_kennedy\", \"trick_shot\", \"instagrams_so\", \"crew_pound\", \"prides_ourselve\", \"still_reade\", \"ly_dpstore\", \"god_bless\", \"merch_bit\", \"ping_pong\", \"newest_vid\", \"best_known\", \"bell_next\", \"friends_point\", \"overtime_sparky\", \"plus_level\", \"log\", \"panda\", \"con_queso\", \"constructive\", \"arepa\", \"lil_durk\", \"roosevelt\", \"wildcat\", \"audrey\", \"engagement\", \"spencer\", \"lady\", \"dog\", \"come_join\", \"wedding\", \"click\", \"absolute_b\", \"good\", \"puppy\", \"scene\", \"watch\", \"friend\", \"big\", \"link\", \"fun\", \"play\", \"main\", \"first\", \"medium\", \"love\", \"shot\", \"make\", \"family\", \"world\", \"go\", \"free\", \"get\", \"baby\", \"food\", \"vlog\", \"viral\", \"new\", \"funny\", \"official\", \"need\", \"killin\", \"moliy\", \"amaarae\", \"hotboy_wes\", \"bigwalkdog\", \"big_scarr\", \"foogiano\", \"branch\", \"sad_girlz\", \"enchant\", \"burrr\", \"outta\", \"bic\", \"fizzle\", \"gucci_mane\", \"hotboy_we\", \"webtoon\", \"yeahi\", \"kali_uchis\", \"moolah\", \"gimme\", \"wayi\", \"yeahjust\", \"asmr_microphone\", \"poppin\", \"walkdog\", \"bankroll\", \"lotta\", \"nathaly\", \"shrek\", \"avenger\", \"icy\", \"dear\", \"asmr\", \"gang\", \"engine\", \"trap\", \"ad\", \"blind\", \"fuck\", \"remix\", \"get\", \"pay\", \"really\", \"official\", \"music\", \"money\", \"go\", \"know\", \"need\", \"make\", \"tiktok\", \"check_out\", \"buy\", \"break\", \"new\", \"eat\", \"leave\", \"love\", \"late\", \"see\", \"take\", \"couple\", \"thank\", \"ron_leshem\", \"roblox_bedwar\", \"ski_mask\", \"also_serve\", \"include_drake\", \"nika_king\", \"israeli_serie\", \"euphoriahbo\", \"episodes_create\", \"sam_levinson\", \"euphoria_hbo\", \"ensemble_cast\", \"bulking\", \"tonight_show\", \"generate\", \"veggie\", \"mrbeast_burger\", \"liability\", \"draftking\", \"sin_city\", \"dexter\", \"bottle_taste\", \"crown\", \"chard\", \"kale\", \"altitude\", \"margaret\", \"skim\", \"fallon\", \"promo\", \"tbsp\", \"kelly\", \"hbo\", \"trick\", \"space\", \"partnership\", \"burger\", \"toothbrush\", \"produce\", \"jokes_funny\", \"roblox\", \"show\", \"euphoria\", \"fact\", \"season\", \"hot\", \"create\", \"talk\", \"go\", \"get\", \"friend\", \"new\", \"good\", \"game\", \"face\", \"future\", \"watch\", \"dream\", \"babish\", \"car\", \"live\", \"find\", \"learn\", \"today\"], \"Freq\": [302.0, 817.0, 724.0, 104.0, 442.0, 94.0, 76.0, 249.0, 266.0, 101.0, 273.0, 114.0, 342.0, 93.0, 153.0, 51.0, 620.0, 58.0, 77.0, 257.0, 84.0, 65.0, 75.0, 45.0, 192.0, 46.0, 79.0, 95.0, 68.0, 127.0, 20.54497158594949, 17.545150533504803, 17.46997102392835, 14.174203247649558, 16.780310094102862, 18.061839063303424, 12.815505662497113, 17.318831607201137, 12.825489306813935, 12.812539244275726, 13.841724842947741, 13.899176623440987, 25.506762956774992, 10.417304896789151, 20.563156664308803, 9.245745742515224, 9.476456673771935, 9.831273505318618, 13.879922581892691, 9.570490951719135, 8.571069353555373, 8.145296233723862, 19.556625281267536, 10.156984229660969, 9.258916312740125, 7.653967902772925, 8.072287318330813, 7.612086868765078, 8.591619218052625, 7.444218813337574, 9.156330329281042, 13.281290491914305, 12.28475817965354, 40.42957800403717, 12.220220207697826, 504.24822295594794, 25.677936812624797, 70.89365321253678, 263.4702355858676, 167.4056753093641, 82.72003761741188, 125.26681972150503, 24.85909467595926, 24.58069237852231, 23.96727810658419, 303.1713759750269, 43.85192989662386, 31.423368944880586, 76.91617367049976, 25.786733308872858, 59.65996443144114, 120.15031543901326, 36.75339000370132, 127.619177574357, 29.29977102934957, 68.22798206750538, 142.8139466572387, 59.172350248480456, 62.16864862257231, 107.05986845157732, 34.74859582215023, 41.764987073669985, 110.46317864335104, 47.81935138242064, 38.686354940611224, 66.86492151544917, 73.85837270804062, 71.00200869341145, 53.39355339760615, 47.66864753643257, 48.97102945476971, 54.631002608005225, 41.3889116677359, 55.195810815210905, 49.287914427010136, 52.61402333502654, 44.391696416084855, 38.26540709926997, 36.46054776506643, 34.39401463524013, 18.115213682208047, 29.9536069966383, 18.91726721804637, 17.143498518541353, 48.94257206341818, 13.61822217394197, 57.627388368809605, 12.096829216408139, 14.734424235227735, 14.739436043255902, 12.607012420479078, 11.881630692182503, 13.448621961828959, 11.670100685745506, 12.858468354992263, 10.394959752052127, 9.78554232054177, 10.351240332347894, 8.73783663529213, 9.36774691991965, 9.19720119144453, 8.710484503732314, 8.690520825557995, 8.383939287552336, 8.359760063240902, 7.869959735308451, 7.771094002161215, 70.36721870098866, 17.39833374567199, 38.64932387737055, 24.361183365058977, 43.94322714065381, 92.72275047768859, 18.472406054490726, 78.30300894180472, 11.95223448421907, 20.177040654310552, 74.55643892029796, 20.893007924750858, 31.995833785905088, 49.921624262662164, 160.46341613417107, 57.91647642584377, 80.84971013015853, 86.82926986594144, 26.572454768455604, 50.53093671614742, 82.30286308656106, 106.68967822901344, 60.55290168952656, 85.71274929989926, 55.19065844604048, 66.93722812463979, 42.57410516559328, 70.2259625556522, 69.97831153894667, 62.36356266642329, 64.61478285025531, 47.217230369613645, 52.97886429492704, 53.371067909784365, 47.77770447493273, 51.16668363614317, 52.13998846704707, 45.52005420852938, 19.8757361948579, 15.688130934334788, 15.68822269997887, 15.6874641039878, 16.65432773023671, 21.993136666380337, 10.688681138337655, 10.882481613843044, 53.36644490485243, 9.146620054883405, 68.10313128822774, 8.462244728518304, 12.841394253244339, 7.343917012546205, 8.053149204808976, 7.3166840282378, 12.651443040622661, 7.219311503303569, 12.47329656045555, 6.812412849113537, 7.548458350805784, 6.611261333746307, 14.836089376127575, 8.49490045062093, 6.0502997867927135, 6.152203087460698, 5.82087344117128, 5.606682027780154, 11.43574035263249, 5.547469940051481, 14.328036840696218, 8.529110070963325, 78.77675796676844, 14.50774823098039, 8.797832300693077, 9.617230983987836, 28.426353685709945, 36.65172436893321, 17.852192400559478, 126.43757239691215, 22.659139899029483, 53.57721223617742, 49.5071342948835, 10.178354038475014, 13.65404265576051, 214.07189292210592, 22.272948468311785, 14.60055755631996, 83.76429658216388, 46.584278623798916, 99.62851599915453, 30.521852756845075, 79.42575886088228, 28.690714600262012, 21.366820239483296, 52.070361630357006, 90.95831196802011, 46.21609528307565, 45.90292238712408, 50.6486254947345, 43.357118288606735, 56.233355345137625, 72.2922598584426, 59.45182853269015, 75.70119447559789, 34.20302055727266, 33.73471967531522, 33.36006379782945, 39.84740786466373, 42.7450879371802, 39.05035839809939, 42.6754488252001, 39.915258158355215, 34.80641514982021, 11.21198725086081, 11.231583904598459, 11.206870221402701, 11.401399746094391, 17.03755314089321, 10.364714186582772, 12.509177359701036, 9.398154958973056, 9.390568593106474, 10.264744160372741, 9.249743607675649, 8.48448186198597, 7.561638637312373, 13.620426154773305, 13.605490479335355, 7.5177279095623275, 7.699021791104598, 8.011397644344418, 7.450047208439376, 6.417033763824563, 6.252222632256387, 7.154907605540578, 18.669780555956162, 6.2250954902074565, 6.993144905044898, 5.680940666421401, 5.681056372470255, 5.680374553411641, 5.669906824718714, 5.663318917390781, 25.380951513202618, 14.840548133200125, 14.280981263706689, 20.832744279656588, 9.875540619533231, 9.867762915371227, 19.748299778535955, 11.152894760661592, 11.14488677324138, 13.032851648420147, 36.36277177632464, 28.2204298787018, 20.218917481867788, 13.06663217048807, 14.284449058653813, 36.35344530436725, 17.85295116418104, 15.475468425904923, 33.98127036942491, 46.8789254261663, 62.487908472893466, 126.79705950457911, 33.57988439269043, 54.56497233604621, 40.9598555025857, 44.04558343219465, 19.47310451194112, 20.637285720055562, 38.68574059741767, 57.30156375406474, 34.91084937940107, 50.60470535285167, 41.243063271958746, 68.8317336085586, 46.07936389223823, 32.352339165704926, 27.32338402314494, 55.38704744498256, 24.55136510622651, 22.6393661092316, 47.00134581237255, 43.89457631446465, 45.45316501351829, 39.114248072003576, 47.54528389897441, 36.443578623165415, 40.304826063009784, 41.81709621965771, 34.244217727433714, 33.59538561671839, 33.267861866214425, 35.352947776402516, 21.972966367988416, 20.736271418477333, 14.0973033522887, 88.19272041819924, 12.081346115362392, 12.659890668839488, 12.843186669958541, 12.09828894467901, 11.67175095154902, 10.406142742382903, 10.40008526024373, 13.874127848475267, 10.396230302771258, 10.393676150758159, 10.390883625605325, 10.39087499671339, 10.381662575960064, 9.79418711932906, 9.7934924935282, 17.90871943605107, 9.785543126832026, 9.782143343409187, 9.767133385886265, 9.761025209006966, 9.175919461823927, 8.573238818989944, 8.571847949470987, 9.762264533611296, 8.286011050334517, 21.78984618054256, 16.066644079141483, 19.145168462141974, 211.51172703664537, 43.781077755536806, 17.093028124104432, 28.417810252289627, 28.785103351997545, 20.089656772350477, 74.89241388347753, 87.54047110563809, 28.520675273060395, 23.165947350950997, 13.560724336131546, 24.65477420839023, 27.934214789843377, 44.155675212268676, 11.54365612936846, 54.095515870256854, 54.081515493090464, 63.86011236191389, 85.61833365351049, 106.9618115686423, 56.950203560599306, 24.90901372317378, 41.85396574720802, 48.616924518850084, 46.99080983348382, 70.38308007658196, 68.65742680828632, 54.77197353914486, 39.96757779437186, 45.007036206256345, 32.47055487127609, 31.47891182385955, 33.330585744436604, 35.28077140980264, 30.636716870331046, 29.458407160882896, 27.58301426488978, 26.1442603573781, 38.10362624449048, 16.034432247378064, 23.943257820696925, 14.708225355382838, 14.161522818302764, 14.16079191675131, 13.521990409911929, 13.513407690958458, 13.830208369594374, 13.825374745657774, 17.006926857533728, 12.608653681504677, 13.91889682373197, 10.338974345222622, 11.831199075499265, 10.387377225612434, 11.822663650175596, 11.819062885179463, 11.81258365789687, 8.693294147080174, 9.89992608268515, 8.682016228655717, 8.772484643042148, 8.771263070081519, 8.771225987576335, 8.657927110831587, 7.942640518625833, 8.013697585117436, 30.755458053608347, 40.691787332976794, 30.879578035307894, 14.442205136889406, 17.035722228950565, 15.233095433178896, 16.07968365225484, 9.553107922244156, 35.74340970308774, 58.72642626316808, 32.706866309309795, 47.78571141918568, 32.12655412427029, 37.195794924534034, 17.462049579927072, 31.74918965325464, 92.32402724526165, 82.94730843934299, 64.79871335843826, 27.389735948449573, 29.16311163418997, 78.90555184242959, 53.795575222540805, 48.94091851894215, 41.93053218064355, 36.91117756097699, 51.82272145543552, 42.9251129159158, 27.81550329985504, 56.601003246328126, 45.418695343643975, 27.40086070000479, 37.468713563846926, 34.16005982188358, 32.72130161495101, 29.304326113351756, 29.890777871423474, 27.95008377258216, 45.60240845382489, 56.59002497882739, 100.43434008198611, 20.212366773469785, 12.156064477958832, 10.88250487936296, 25.88131538761813, 10.000644393642828, 8.661370012089026, 8.657947715205784, 10.669774658892187, 10.027744025617302, 8.842231191979284, 12.169173317099476, 6.768851706418412, 7.635808229902541, 7.704475755135374, 7.694536849258887, 6.154982478881238, 6.1535307285846725, 6.139240528739344, 29.326813896133448, 6.395719345518433, 6.381360998702793, 5.486578088780161, 5.6525731170114915, 5.486171405247658, 5.48399817638154, 6.328508406818769, 5.482416727012446, 55.5921774703218, 12.903184773979602, 38.020765194557214, 24.186822944856615, 15.998126474056498, 26.787728127596715, 14.11605487910566, 8.331412933631004, 14.15854077800279, 14.261138459924648, 17.53900949052628, 13.060511067929472, 43.88829144224524, 16.849664635593243, 16.793662774365096, 16.76860931013145, 16.666058231944127, 42.217985458391865, 24.187292499464952, 14.961448382209696, 25.81200596189075, 17.337517804604513, 21.023064235870073, 28.074647170320826, 44.514417012307355, 64.50462642119403, 45.174343479643845, 21.904627512868075, 38.790461922355284, 28.84552393984996, 33.252897149704005, 30.35499603924287, 21.372627417515574, 20.778635562073504, 26.97832157416316, 24.395876746193565, 22.059693086035104, 26.560435559057243, 21.818723640383105, 74.43873584631972, 15.912067675771821, 32.642336470936456, 13.583174091179185, 16.998921737332303, 14.4925245344103, 14.486191559359689, 14.467955042123421, 14.463791121969205, 14.463314945268786, 14.457414380677749, 14.460336214916717, 14.449190704022532, 14.447468064782782, 15.007736345041078, 14.436306798041894, 13.849631718705947, 13.264773813689983, 13.245963083373796, 15.445729626295265, 18.883699143576212, 9.57397109965805, 10.13580358536423, 7.9961237145020725, 8.724876266175915, 7.758478278649928, 7.759527793105447, 15.590201987332328, 20.902473023447964, 16.814947717956066, 20.797201209013043, 59.866622402928535, 14.444340529211832, 43.13248817337226, 77.47399817636723, 15.04652198767999, 102.60305410702652, 18.861164781488732, 37.9576343802691, 75.31313632025979, 50.86255515911373, 46.209741585538346, 37.267363733522686, 37.906340345996014, 32.81684122644297, 24.30013383290851, 42.36900185763715, 19.41348598773397, 43.023905880479646, 18.881852208212454, 45.52302825884801, 48.11772560332915, 29.500659152243088, 34.36542037569469, 27.63416378012593, 37.2666984866618, 33.3935367275409, 27.858458761870004, 36.19641782518539, 22.697254783962308, 32.95976426255403, 27.79918701721527, 25.95298342500457, 22.15457265460129, 17.910128235238112, 11.73884408130789, 10.077429218461248, 10.068441896647872, 10.531829574570011, 10.040148227819559, 10.034586766301382, 9.615114826427712, 8.415843702548841, 8.400917654046903, 8.394753421521441, 8.767616352283756, 8.350899240471692, 8.346010030137576, 8.807779551311139, 6.753064224651325, 7.232393946291927, 6.746361825493473, 6.746312457999449, 6.74459129993618, 6.743274833428863, 6.742453870287495, 6.741155078561989, 7.8728335704682095, 6.7164951010839635, 6.712322633626052, 6.70796610464721, 7.176278342467088, 6.114585282305615, 6.072519911070207, 14.862644793252901, 18.26921275936575, 13.419802377035838, 45.605700731317484, 16.24763582017622, 16.283440052323822, 23.811512376159047, 25.03560925477983, 9.292213628043765, 10.331091592263162, 13.45717661738846, 77.87555186130136, 17.540184081375585, 28.91599180113295, 50.31730023039027, 44.15216568157988, 21.394906501390263, 42.17213666915136, 32.26408061846014, 23.44388666608996, 34.7018864797986, 33.253975667528366, 22.744633291224076, 18.3920988130714, 17.356064050822667, 28.462861591413652, 17.80317752102334, 17.99858137607462, 21.77756918445403, 14.60799263166956, 16.645757233097203, 15.49370032723791, 14.395492996280213, 14.717739618261911, 21.69842659641644, 47.86599311768534, 11.861229166782943, 10.892199819574536, 10.89111756124223, 10.890417074122485, 10.88971773346284, 10.885863334614099, 10.885341695269608, 10.884903747512254, 10.396776578139942, 10.394359840253818, 11.859462471772263, 40.7514332039253, 7.211704063685454, 6.518259075091606, 6.509118921962044, 6.210609947232246, 5.923043934135772, 5.202169887702503, 10.049993034842812, 5.612657059562909, 5.125906788768032, 4.909130100869172, 4.905918866135286, 4.896148733181992, 4.8838242871308415, 4.869378889898795, 20.03451861226191, 8.289447062896038, 6.9418944245834195, 7.6646543978775385, 11.314100574938406, 29.573034524920892, 19.325263365689608, 11.440122908266837, 20.94973082956026, 18.156973521186295, 19.024564078942998, 9.535455437427956, 16.19232727064183, 56.20698559980768, 13.224043481917228, 17.013621476729924, 25.033440041219375, 15.968407563103742, 13.959181211657045, 19.8416152362092, 29.733245444825265, 33.86824728125912, 24.327491185569073, 31.873957011966322, 24.66979206988388, 20.93626909509211, 15.9648638549415, 14.495292321961903, 21.2606462222382, 17.906383712393517, 15.980902831709463, 14.990772886401386, 16.409411783076944, 16.110830008130936, 14.41061707205996, 14.511593838092258], \"Total\": [302.0, 817.0, 724.0, 104.0, 442.0, 94.0, 76.0, 249.0, 266.0, 101.0, 273.0, 114.0, 342.0, 93.0, 153.0, 51.0, 620.0, 58.0, 77.0, 257.0, 84.0, 65.0, 75.0, 45.0, 192.0, 46.0, 79.0, 95.0, 68.0, 127.0, 21.51123593593933, 18.412864391684533, 18.418771638101358, 15.062004595139264, 17.832642415876133, 19.202980083292335, 13.658786406467943, 18.499793802091922, 13.753623553569858, 13.751518573644757, 14.87026915475146, 15.030808149920519, 27.60570053279648, 11.31592046539169, 22.3369929240349, 10.084123772173703, 10.349668145658384, 10.742260814739819, 15.207725997485069, 10.50299203739314, 9.410903875656448, 9.00036722389822, 21.63090331522234, 11.260419068930446, 10.267645775842405, 8.523709310953086, 8.993023475005284, 8.48348708546254, 9.598285781458207, 8.320790964010563, 10.251898424741658, 14.936096554096798, 13.907923124189407, 49.86159289991683, 13.972106613047004, 817.2270186396024, 31.633460973766166, 97.0606282784563, 442.3405042132114, 266.22567140704916, 122.04070782533933, 212.3691038233531, 32.035478736955476, 32.334695444248545, 31.525841782122082, 724.9163956323745, 66.7287915180856, 44.51252546751786, 148.95990214457086, 34.830694722311115, 108.22277282919497, 299.30900211565245, 57.901443987789015, 366.5762169787852, 44.05443761689223, 178.10235019980772, 656.3876036729012, 150.68457141832104, 176.18795573867706, 484.98934760359, 64.2183714034407, 91.73117318356724, 620.4226515583763, 132.4213517210381, 92.4990205111677, 333.9369893625119, 431.958111389882, 393.4834635362349, 203.97704682756427, 154.23090229042182, 200.97304634807972, 298.3698358447117, 116.58564351842665, 380.3729975273964, 268.42388682361775, 520.9811323066987, 277.1773109008337, 39.401798734657866, 37.69065083935934, 35.78076277367463, 19.062479317160964, 31.580544115916236, 19.996065446084103, 18.189995620236207, 52.08554001654903, 14.49981989469799, 61.52413699013608, 12.956843094559286, 15.78907577073823, 15.847244272368718, 13.566176273668123, 12.788079810163174, 14.47750935803972, 12.601812745270648, 13.927997198294175, 11.30702741416477, 10.679142382627795, 11.325818979317251, 9.575620522228627, 10.266537757971662, 10.111075633824878, 9.577201577675785, 9.57355708856733, 9.27142341764634, 9.273200042320417, 8.770815259797216, 8.669091072321697, 79.68302717292306, 19.803559794926276, 45.16909139382523, 28.979464404654802, 55.696089533381574, 127.76400922321244, 21.718053131998374, 114.84822148771421, 13.674666186463522, 25.75957010753463, 129.01706116402323, 27.249839371725336, 49.214647974950225, 93.53846134795968, 520.9811323066987, 127.79655807104268, 211.70708417237492, 244.05500044700204, 42.98889686099321, 125.05099386219437, 302.5816667069264, 484.98934760359, 198.3371139024413, 380.3729975273964, 178.10235019980772, 268.42388682361775, 117.75326829328284, 342.28249355676763, 366.60284853442374, 298.3698358447117, 330.97176800119934, 165.96610941133125, 268.89473528380887, 277.1773109008337, 221.3798863107184, 393.4834635362349, 656.3876036729012, 431.958111389882, 20.862432654108353, 16.591895154454054, 16.592031798903047, 16.591764920014356, 17.627898886776283, 23.447320139795824, 11.570943456165207, 11.860629643135347, 58.25122012193135, 10.005713343468631, 75.09564617485995, 9.345148529263408, 14.222630603935706, 8.200441769504282, 9.009705498466248, 8.196156328558795, 14.191141630409339, 8.10919642554651, 14.01202148923686, 7.670092191642922, 8.5000593723054, 7.498888549438594, 16.909331213125906, 9.69094102972197, 6.914738456410636, 7.0340335848262745, 6.679050340724269, 6.437574751937573, 13.145106450058849, 6.378495973466699, 16.50680499791177, 9.830732769720866, 101.71590301150705, 17.41961914423247, 10.296257865400499, 11.348954728154945, 37.95412587412448, 50.73695966122304, 23.79387823694003, 249.9926088162839, 31.682932782752864, 90.59769331393905, 86.72415295490634, 12.257598470018712, 18.193081695574243, 724.9163956323745, 35.67141324453113, 20.0317701286379, 257.42999814690114, 112.79815919845598, 366.5762169787852, 61.61426852736401, 366.60284853442374, 63.55149913950884, 38.250628083760695, 211.70708417237492, 620.4226515583763, 170.07708493657262, 171.5524683690169, 219.10212676823966, 181.66137150015265, 333.9369893625119, 656.3876036729012, 442.3405042132114, 817.2270186396024, 113.87924769277087, 115.90369516881448, 114.84822148771421, 299.30900211565245, 431.958111389882, 291.4451509110768, 520.9811323066987, 380.3729975273964, 277.1773109008337, 12.102147322099686, 12.127960068140627, 12.10208562681574, 12.35995316726812, 18.481810060044157, 11.276268923684695, 13.619823460842523, 10.255893487857056, 10.259072441289218, 11.219282735473257, 10.244184968598509, 9.400012464977308, 8.390140388087884, 15.112842924521194, 15.11365007517241, 8.386741044241818, 8.61141037923185, 8.974753964851045, 8.381997134126912, 7.2507579977299255, 7.117560410649369, 8.150848166797044, 21.286031411935785, 7.119463188166519, 8.025599771966112, 6.521771830766844, 6.522405179109418, 6.52203033202614, 6.520955404351042, 6.520483138155176, 29.410017811449684, 17.149057239733587, 16.647853534718113, 24.603163563388932, 11.586698188059131, 11.587636063231567, 24.93828779879093, 13.464345137674888, 13.46522238442204, 16.377729043279725, 55.44175147187978, 42.86624283205148, 28.880168696934728, 17.213828850137265, 19.358015218190125, 70.28483019560507, 26.486719610279394, 22.392184274954918, 76.01401885464314, 128.70378679416115, 207.79221126396348, 656.3876036729012, 81.41505007091033, 198.04203128585655, 120.96629346415419, 152.90269949370233, 35.13530923401195, 39.49823267211169, 136.37574542197675, 299.30900211565245, 113.03965723801046, 242.45884283359845, 163.08049545580175, 484.98934760359, 225.767035692675, 107.54086095014642, 74.06367669423321, 431.958111389882, 61.122622756495424, 50.44033424642792, 393.4834635362349, 366.60284853442374, 520.9811323066987, 333.9369893625119, 724.9163956323745, 266.22567140704916, 442.3405042132114, 620.4226515583763, 291.4451509110768, 268.42388682361775, 298.3698358447117, 36.6148909589502, 23.137818855565023, 21.930132768259874, 14.988949109343748, 94.45347939179112, 12.975494604516378, 13.609205621293707, 13.862763800446416, 13.082671214726496, 12.639786301623579, 11.364171361382626, 11.365525177523534, 15.162375670793224, 11.363270246027472, 11.363289933542513, 11.363310283149136, 11.364091422416314, 11.362173740272508, 10.72900792678133, 10.72919811886202, 19.622632094134346, 10.728605104212933, 10.728570039069005, 10.727037911000254, 10.726857312583673, 10.092771794715656, 9.451149394033138, 9.451002947567007, 10.811795410130127, 9.210997304687979, 24.491673700038746, 17.985131704797638, 22.03906476141665, 302.5816667069264, 61.145147529950265, 20.948013754889594, 39.71591881021734, 42.743399958782234, 27.283854219879807, 155.42160145566584, 192.03419795347494, 48.98641719401002, 36.81899248074208, 16.835414527338553, 41.75897931588939, 50.4760877982912, 107.10030726707858, 13.395220829517614, 174.28226097469303, 178.03471065778868, 273.8753068825183, 484.98934760359, 817.2270186396024, 257.42999814690114, 54.692630974396906, 170.07708493657262, 244.05500044700204, 242.45884283359845, 656.3876036729012, 620.4226515583763, 380.3729975273964, 175.14327233710833, 431.958111389882, 151.77382891280828, 147.96268066095337, 277.1773109008337, 520.9811323066987, 268.89473528380887, 203.97704682756427, 28.548454195998623, 27.16238858687534, 39.87582109965935, 16.936436957797092, 25.318530079993288, 15.566587377311171, 15.01876393538985, 15.018770758782503, 14.389187412814127, 14.38958863152487, 14.731836519011676, 14.734122952468468, 18.13897722060338, 13.522527724468379, 15.03706853425146, 11.191987306644343, 12.84178178821521, 11.280542874910477, 12.841080535896781, 12.842101757202188, 12.84220482307047, 9.549220161070963, 10.886787706955781, 9.55243395525111, 9.667426221023554, 9.667529241198196, 9.667532444819406, 9.55666291276296, 8.802173492555706, 8.916850364045851, 34.5537048246868, 47.77802339130557, 35.93074379204331, 16.478101256604123, 20.059731833959095, 17.959722437229562, 19.354353865538673, 10.65228957043474, 52.22135037509922, 95.40295840460665, 47.95598042715607, 116.35678264305955, 63.55149913950884, 91.40927036836612, 25.08517514537742, 76.44466391940226, 620.4226515583763, 520.9811323066987, 330.97176800119934, 61.61426852736401, 77.22875206545159, 724.9163956323745, 333.9369893625119, 291.4451509110768, 203.97704682756427, 157.95866834811648, 393.4834635362349, 277.1773109008337, 88.34867910188403, 817.2270186396024, 431.958111389882, 100.40624850580294, 380.3729975273964, 656.3876036729012, 442.3405042132114, 221.3798863107184, 366.60284853442374, 181.66137150015265, 46.84638839831788, 58.70723318135069, 104.33064958204939, 21.12896491941355, 13.024825068139847, 11.801240574315356, 28.12285805785933, 11.018433076663941, 9.546643106515393, 9.54599724474499, 11.76825920585266, 11.111591087412108, 9.871082125874409, 13.615323651566607, 7.6124080056954835, 8.598452940270532, 8.693344533349759, 8.693089500258878, 6.975965395871161, 6.97569149258456, 6.972900390601854, 33.415374181807785, 7.321732075042208, 7.323783303887385, 6.32849809497091, 6.520078836092522, 6.328247260672199, 6.328247705579088, 7.303823246890797, 6.32803068163766, 65.82441175784692, 15.635577564742027, 52.75757430943839, 32.611884591764685, 20.664474939451765, 38.017313199727226, 18.68964561759251, 10.03125348202112, 19.058959814966745, 19.42164578385585, 25.166722537081075, 17.539585597052515, 81.55558105694453, 24.50958423759555, 24.50109285601718, 24.49447097959484, 24.494259456100174, 93.53846134795968, 43.31000472420483, 22.049842484788652, 57.84941311151992, 29.142231123830943, 42.78178688182044, 91.73117318356724, 268.89473528380887, 656.3876036729012, 298.3698358447117, 56.47167379353157, 257.42999814690114, 124.86391192472125, 198.3371139024413, 171.5524683690169, 58.583990190325316, 54.0476244608416, 219.10212676823966, 151.77382891280828, 109.69264138535434, 620.4226515583763, 136.37574542197675, 76.5127298171319, 16.751996508262657, 34.520935183826, 14.408992509093402, 18.07802182605482, 15.548731232959707, 15.548295528550545, 15.549466256760649, 15.548513261050603, 15.551177557077553, 15.545691623874248, 15.550725957100951, 15.548202228443092, 15.546557124957063, 16.15239910731171, 15.55042478372359, 14.940804398703005, 14.330833135195357, 14.323378696280894, 16.723435216887992, 20.53088907408969, 10.417505808491184, 11.032974078113957, 8.834926862843211, 9.654016537280517, 8.604675491419828, 8.607840242663771, 17.379181369602207, 23.606215301677608, 19.181581820805633, 24.745752963052897, 84.552193353273, 17.670960823902252, 68.76962429260834, 153.81364266066257, 18.953169680739798, 342.28249355676763, 26.64707256200004, 107.17274514120544, 431.958111389882, 221.3798863107184, 225.767035692675, 157.838687378854, 174.28226097469303, 127.79655807104268, 62.96955492552919, 291.4451509110768, 35.322861053839844, 366.60284853442374, 34.633786903528986, 520.9811323066987, 817.2270186396024, 179.50412095936437, 393.4834635362349, 170.07708493657262, 620.4226515583763, 442.3405042132114, 198.04203128585655, 724.9163956323745, 80.08615053079724, 656.3876036729012, 298.3698358447117, 330.97176800119934, 122.82346896653655, 19.151382226352954, 12.648827745386573, 10.972369828188397, 10.968276251349538, 11.507277645830289, 10.970836989480686, 10.97107059615407, 10.601753974657376, 9.295945008769516, 9.294297492598545, 9.294431264840858, 9.75943832886694, 9.298160280938955, 9.298878361040304, 9.839028477518893, 7.618561649992661, 8.161868321282212, 7.621517895849725, 7.622050836939589, 7.622302259168291, 7.622314633059887, 7.622264775655459, 7.623288261993763, 8.912945651582655, 7.620923758881168, 7.621206766535283, 7.621476126605461, 8.157890884874638, 7.0628539943358675, 7.017956445067927, 17.18706471318618, 21.43497194707708, 16.593532421273306, 77.74428641183653, 22.241300240201248, 22.99270451280387, 43.02531051459482, 52.08780733870877, 12.159495448971123, 15.532358056371711, 25.76703063324926, 620.4226515583763, 43.56465316986296, 113.03965723801046, 330.97176800119934, 380.3729975273964, 76.44466391940226, 393.4834635362349, 268.89473528380887, 122.82346896653655, 520.9811323066987, 484.98934760359, 170.34584749606847, 105.15812093663438, 90.19855069857505, 656.3876036729012, 129.01706116402323, 148.05678923033324, 366.60284853442374, 67.87739182256637, 268.42388682361775, 200.97304634807972, 113.87924769277087, 333.9369893625119, 22.741369434682003, 51.110594863229736, 12.70235635186676, 11.83085125303877, 11.830615540910399, 11.830573069582728, 11.830888739637007, 11.831530740222947, 11.831657090407585, 11.831382691239622, 11.315413291065731, 11.315732817499807, 12.920347919689439, 45.39878092313098, 8.127347436104616, 7.378190751820063, 7.379428327790804, 7.097217268724881, 6.852452462525193, 6.04329455986365, 11.750000908885122, 6.563480301929147, 6.01127828879747, 5.763762142872887, 5.764011131378533, 5.764999394867521, 5.768555991506173, 5.770666062681164, 23.93511456487295, 9.939508438331089, 8.408825792490855, 9.714264695086925, 15.291524086810378, 48.35526611571975, 31.705448889813773, 16.56867339381053, 38.270366001405556, 32.033658853280315, 34.19404069747866, 13.598146301959268, 32.13202596048488, 273.8753068825183, 28.09811956897534, 46.42247144639737, 109.69264138535434, 48.216049420882044, 39.4023525671541, 110.17392536214712, 393.4834635362349, 620.4226515583763, 221.3798863107184, 656.3876036729012, 342.28249355676763, 198.3371139024413, 62.41636308937877, 44.976604291346725, 431.958111389882, 192.03419795347494, 101.71590301150705, 76.01401885464314, 219.10212676823966, 242.45884283359845, 104.09260920301102, 154.23090229042182], \"Category\": [\"Default\", \"Default\", \"Default\", \"Default\", \"Default\", \"Default\", \"Default\", \"Default\", \"Default\", \"Default\", \"Default\", \"Default\", \"Default\", \"Default\", \"Default\", \"Default\", \"Default\", \"Default\", \"Default\", \"Default\", \"Default\", \"Default\", \"Default\", \"Default\", \"Default\", \"Default\", \"Default\", \"Default\", \"Default\", \"Default\", \"Topic1\", \"Topic1\", \"Topic1\", \"Topic1\", \"Topic1\", \"Topic1\", \"Topic1\", \"Topic1\", \"Topic1\", \"Topic1\", \"Topic1\", \"Topic1\", \"Topic1\", \"Topic1\", \"Topic1\", \"Topic1\", \"Topic1\", \"Topic1\", \"Topic1\", \"Topic1\", \"Topic1\", \"Topic1\", \"Topic1\", \"Topic1\", \"Topic1\", \"Topic1\", \"Topic1\", \"Topic1\", \"Topic1\", \"Topic1\", \"Topic1\", \"Topic1\", \"Topic1\", \"Topic1\", \"Topic1\", \"Topic1\", \"Topic1\", \"Topic1\", \"Topic1\", \"Topic1\", \"Topic1\", \"Topic1\", \"Topic1\", \"Topic1\", \"Topic1\", \"Topic1\", \"Topic1\", \"Topic1\", \"Topic1\", \"Topic1\", \"Topic1\", \"Topic1\", \"Topic1\", \"Topic1\", \"Topic1\", \"Topic1\", \"Topic1\", \"Topic1\", \"Topic1\", \"Topic1\", \"Topic1\", \"Topic1\", \"Topic1\", \"Topic1\", \"Topic1\", \"Topic1\", \"Topic1\", \"Topic1\", \"Topic1\", \"Topic1\", \"Topic1\", \"Topic1\", \"Topic1\", \"Topic1\", \"Topic1\", \"Topic1\", \"Topic1\", \"Topic2\", \"Topic2\", \"Topic2\", \"Topic2\", \"Topic2\", \"Topic2\", \"Topic2\", \"Topic2\", \"Topic2\", \"Topic2\", \"Topic2\", \"Topic2\", \"Topic2\", \"Topic2\", \"Topic2\", \"Topic2\", \"Topic2\", \"Topic2\", \"Topic2\", \"Topic2\", \"Topic2\", \"Topic2\", \"Topic2\", \"Topic2\", \"Topic2\", \"Topic2\", \"Topic2\", \"Topic2\", \"Topic2\", \"Topic2\", \"Topic2\", \"Topic2\", \"Topic2\", \"Topic2\", \"Topic2\", \"Topic2\", \"Topic2\", \"Topic2\", \"Topic2\", \"Topic2\", \"Topic2\", \"Topic2\", \"Topic2\", \"Topic2\", \"Topic2\", \"Topic2\", \"Topic2\", \"Topic2\", \"Topic2\", \"Topic2\", \"Topic2\", \"Topic2\", \"Topic2\", \"Topic2\", \"Topic2\", \"Topic2\", \"Topic2\", \"Topic2\", \"Topic2\", \"Topic2\", \"Topic2\", \"Topic2\", \"Topic2\", \"Topic2\", \"Topic2\", \"Topic2\", \"Topic2\", \"Topic2\", \"Topic3\", \"Topic3\", \"Topic3\", \"Topic3\", \"Topic3\", \"Topic3\", \"Topic3\", \"Topic3\", \"Topic3\", \"Topic3\", \"Topic3\", \"Topic3\", \"Topic3\", \"Topic3\", \"Topic3\", \"Topic3\", \"Topic3\", \"Topic3\", \"Topic3\", \"Topic3\", \"Topic3\", \"Topic3\", \"Topic3\", \"Topic3\", \"Topic3\", \"Topic3\", \"Topic3\", \"Topic3\", \"Topic3\", \"Topic3\", \"Topic3\", \"Topic3\", \"Topic3\", \"Topic3\", \"Topic3\", \"Topic3\", \"Topic3\", \"Topic3\", \"Topic3\", \"Topic3\", \"Topic3\", \"Topic3\", \"Topic3\", \"Topic3\", \"Topic3\", \"Topic3\", \"Topic3\", \"Topic3\", \"Topic3\", \"Topic3\", \"Topic3\", \"Topic3\", \"Topic3\", \"Topic3\", \"Topic3\", \"Topic3\", \"Topic3\", \"Topic3\", \"Topic3\", \"Topic3\", \"Topic3\", \"Topic3\", \"Topic3\", \"Topic3\", \"Topic3\", \"Topic3\", \"Topic3\", \"Topic3\", \"Topic3\", \"Topic3\", \"Topic3\", \"Topic3\", \"Topic3\", \"Topic3\", \"Topic4\", \"Topic4\", \"Topic4\", \"Topic4\", \"Topic4\", \"Topic4\", \"Topic4\", \"Topic4\", \"Topic4\", \"Topic4\", \"Topic4\", \"Topic4\", \"Topic4\", \"Topic4\", \"Topic4\", \"Topic4\", \"Topic4\", \"Topic4\", \"Topic4\", \"Topic4\", \"Topic4\", \"Topic4\", \"Topic4\", \"Topic4\", \"Topic4\", \"Topic4\", \"Topic4\", \"Topic4\", \"Topic4\", \"Topic4\", \"Topic4\", \"Topic4\", \"Topic4\", \"Topic4\", \"Topic4\", \"Topic4\", \"Topic4\", \"Topic4\", \"Topic4\", \"Topic4\", \"Topic4\", \"Topic4\", \"Topic4\", \"Topic4\", \"Topic4\", \"Topic4\", \"Topic4\", \"Topic4\", \"Topic4\", \"Topic4\", \"Topic4\", \"Topic4\", \"Topic4\", \"Topic4\", \"Topic4\", \"Topic4\", \"Topic4\", \"Topic4\", \"Topic4\", \"Topic4\", \"Topic4\", \"Topic4\", \"Topic4\", \"Topic4\", \"Topic4\", \"Topic4\", \"Topic4\", \"Topic4\", \"Topic4\", \"Topic4\", \"Topic4\", \"Topic4\", \"Topic4\", \"Topic4\", \"Topic4\", \"Topic4\", \"Topic4\", \"Topic4\", \"Topic4\", \"Topic4\", \"Topic4\", \"Topic5\", \"Topic5\", \"Topic5\", \"Topic5\", \"Topic5\", \"Topic5\", \"Topic5\", \"Topic5\", \"Topic5\", \"Topic5\", \"Topic5\", \"Topic5\", \"Topic5\", \"Topic5\", \"Topic5\", \"Topic5\", \"Topic5\", \"Topic5\", \"Topic5\", \"Topic5\", \"Topic5\", \"Topic5\", \"Topic5\", \"Topic5\", \"Topic5\", \"Topic5\", \"Topic5\", \"Topic5\", \"Topic5\", \"Topic5\", \"Topic5\", \"Topic5\", \"Topic5\", \"Topic5\", \"Topic5\", \"Topic5\", \"Topic5\", \"Topic5\", \"Topic5\", \"Topic5\", \"Topic5\", \"Topic5\", \"Topic5\", \"Topic5\", \"Topic5\", \"Topic5\", \"Topic5\", \"Topic5\", \"Topic5\", \"Topic5\", \"Topic5\", \"Topic5\", \"Topic5\", \"Topic5\", \"Topic5\", \"Topic5\", \"Topic5\", \"Topic5\", \"Topic5\", \"Topic5\", \"Topic5\", \"Topic5\", \"Topic5\", \"Topic5\", \"Topic5\", \"Topic5\", \"Topic5\", \"Topic5\", \"Topic5\", \"Topic6\", \"Topic6\", \"Topic6\", \"Topic6\", \"Topic6\", \"Topic6\", \"Topic6\", \"Topic6\", \"Topic6\", \"Topic6\", \"Topic6\", \"Topic6\", \"Topic6\", \"Topic6\", \"Topic6\", \"Topic6\", \"Topic6\", \"Topic6\", \"Topic6\", \"Topic6\", \"Topic6\", \"Topic6\", \"Topic6\", \"Topic6\", \"Topic6\", \"Topic6\", \"Topic6\", \"Topic6\", \"Topic6\", \"Topic6\", \"Topic6\", \"Topic6\", \"Topic6\", \"Topic6\", \"Topic6\", \"Topic6\", \"Topic6\", \"Topic6\", \"Topic6\", \"Topic6\", \"Topic6\", \"Topic6\", \"Topic6\", \"Topic6\", \"Topic6\", \"Topic6\", \"Topic6\", \"Topic6\", \"Topic6\", \"Topic6\", \"Topic6\", \"Topic6\", \"Topic6\", \"Topic6\", \"Topic6\", \"Topic6\", \"Topic6\", \"Topic6\", \"Topic6\", \"Topic6\", \"Topic6\", \"Topic6\", \"Topic6\", \"Topic6\", \"Topic6\", \"Topic6\", \"Topic6\", \"Topic6\", \"Topic7\", \"Topic7\", \"Topic7\", \"Topic7\", \"Topic7\", \"Topic7\", \"Topic7\", \"Topic7\", \"Topic7\", \"Topic7\", \"Topic7\", \"Topic7\", \"Topic7\", \"Topic7\", \"Topic7\", \"Topic7\", \"Topic7\", \"Topic7\", \"Topic7\", \"Topic7\", \"Topic7\", \"Topic7\", \"Topic7\", \"Topic7\", \"Topic7\", \"Topic7\", \"Topic7\", \"Topic7\", \"Topic7\", \"Topic7\", \"Topic7\", \"Topic7\", \"Topic7\", \"Topic7\", \"Topic7\", \"Topic7\", \"Topic7\", \"Topic7\", \"Topic7\", \"Topic7\", \"Topic7\", \"Topic7\", \"Topic7\", \"Topic7\", \"Topic7\", \"Topic7\", \"Topic7\", \"Topic7\", \"Topic7\", \"Topic7\", \"Topic7\", \"Topic7\", \"Topic7\", \"Topic7\", \"Topic7\", \"Topic7\", \"Topic7\", \"Topic7\", \"Topic7\", \"Topic7\", \"Topic7\", \"Topic7\", \"Topic7\", \"Topic7\", \"Topic7\", \"Topic7\", \"Topic7\", \"Topic7\", \"Topic7\", \"Topic8\", \"Topic8\", \"Topic8\", \"Topic8\", \"Topic8\", \"Topic8\", \"Topic8\", \"Topic8\", \"Topic8\", \"Topic8\", \"Topic8\", \"Topic8\", \"Topic8\", \"Topic8\", \"Topic8\", \"Topic8\", \"Topic8\", \"Topic8\", \"Topic8\", \"Topic8\", \"Topic8\", \"Topic8\", \"Topic8\", \"Topic8\", \"Topic8\", \"Topic8\", \"Topic8\", \"Topic8\", \"Topic8\", \"Topic8\", \"Topic8\", \"Topic8\", \"Topic8\", \"Topic8\", \"Topic8\", \"Topic8\", \"Topic8\", \"Topic8\", \"Topic8\", \"Topic8\", \"Topic8\", \"Topic8\", \"Topic8\", \"Topic8\", \"Topic8\", \"Topic8\", \"Topic8\", \"Topic8\", \"Topic8\", \"Topic8\", \"Topic8\", \"Topic8\", \"Topic8\", \"Topic8\", \"Topic8\", \"Topic8\", \"Topic8\", \"Topic8\", \"Topic8\", \"Topic8\", \"Topic8\", \"Topic8\", \"Topic8\", \"Topic8\", \"Topic9\", \"Topic9\", \"Topic9\", \"Topic9\", \"Topic9\", \"Topic9\", \"Topic9\", \"Topic9\", \"Topic9\", \"Topic9\", \"Topic9\", \"Topic9\", \"Topic9\", \"Topic9\", \"Topic9\", \"Topic9\", \"Topic9\", \"Topic9\", \"Topic9\", \"Topic9\", \"Topic9\", \"Topic9\", \"Topic9\", \"Topic9\", \"Topic9\", \"Topic9\", \"Topic9\", \"Topic9\", \"Topic9\", \"Topic9\", \"Topic9\", \"Topic9\", \"Topic9\", \"Topic9\", \"Topic9\", \"Topic9\", \"Topic9\", \"Topic9\", \"Topic9\", \"Topic9\", \"Topic9\", \"Topic9\", \"Topic9\", \"Topic9\", \"Topic9\", \"Topic9\", \"Topic9\", \"Topic9\", \"Topic9\", \"Topic9\", \"Topic9\", \"Topic9\", \"Topic9\", \"Topic9\", \"Topic9\", \"Topic9\", \"Topic9\", \"Topic9\", \"Topic9\", \"Topic9\", \"Topic9\", \"Topic9\", \"Topic9\", \"Topic9\", \"Topic10\", \"Topic10\", \"Topic10\", \"Topic10\", \"Topic10\", \"Topic10\", \"Topic10\", \"Topic10\", \"Topic10\", \"Topic10\", \"Topic10\", \"Topic10\", \"Topic10\", \"Topic10\", \"Topic10\", \"Topic10\", \"Topic10\", \"Topic10\", \"Topic10\", \"Topic10\", \"Topic10\", \"Topic10\", \"Topic10\", \"Topic10\", \"Topic10\", \"Topic10\", \"Topic10\", \"Topic10\", \"Topic10\", \"Topic10\", \"Topic10\", \"Topic10\", \"Topic10\", \"Topic10\", \"Topic10\", \"Topic10\", \"Topic10\", \"Topic10\", \"Topic10\", \"Topic10\", \"Topic10\", \"Topic10\", \"Topic10\", \"Topic10\", \"Topic10\", \"Topic10\", \"Topic10\", \"Topic10\", \"Topic10\", \"Topic10\", \"Topic10\", \"Topic10\", \"Topic10\", \"Topic10\", \"Topic10\", \"Topic10\", \"Topic10\", \"Topic10\", \"Topic10\", \"Topic10\", \"Topic10\", \"Topic10\", \"Topic10\", \"Topic10\"], \"logprob\": [30.0, 29.0, 28.0, 27.0, 26.0, 25.0, 24.0, 23.0, 22.0, 21.0, 20.0, 19.0, 18.0, 17.0, 16.0, 15.0, 14.0, 13.0, 12.0, 11.0, 10.0, 9.0, 8.0, 7.0, 6.0, 5.0, 4.0, 3.0, 2.0, 1.0, -6.6317, -6.7896, -6.7939, -7.0029, -6.8342, -6.7606, -7.1037, -6.8026, -7.1029, -7.1039, -7.0267, -7.0225, -6.4154, -7.3109, -6.6309, -7.4302, -7.4056, -7.3688, -7.0239, -7.3957, -7.506, -7.5569, -6.6811, -7.3362, -7.4288, -7.6191, -7.5659, -7.6246, -7.5036, -7.6469, -7.4399, -7.068, -7.146, -5.9548, -7.1513, -3.4313, -6.4087, -5.3932, -4.0804, -4.5339, -5.2389, -4.8239, -6.4411, -6.4524, -6.4777, -3.9401, -5.8735, -6.2068, -5.3116, -6.4045, -5.5657, -4.8656, -6.0501, -4.8053, -6.2768, -5.4315, -4.6928, -5.5739, -5.5245, -4.981, -6.1062, -5.9223, -4.9497, -5.7869, -5.9989, -5.4517, -5.3522, -5.3917, -5.6767, -5.7901, -5.7631, -5.6538, -5.9314, -5.6435, -5.7567, -5.6914, -5.8613, -5.7703, -5.8186, -5.8769, -6.5181, -6.0152, -6.4747, -6.5732, -5.5242, -6.8034, -5.3608, -6.9219, -6.7246, -6.7243, -6.8806, -6.9398, -6.8159, -6.9578, -6.8608, -7.0735, -7.1339, -7.0777, -7.2471, -7.1775, -7.1959, -7.2503, -7.2526, -7.2885, -7.2914, -7.3518, -7.3644, -5.1611, -6.5584, -5.7603, -6.2218, -5.6319, -4.8852, -6.4985, -5.0542, -6.9339, -6.4103, -5.1033, -6.3754, -5.9492, -5.5044, -4.3367, -5.3558, -5.0222, -4.9509, -6.1349, -5.4922, -5.0044, -4.7449, -5.3113, -4.9638, -5.404, -5.2111, -5.6636, -5.1631, -5.1666, -5.2818, -5.2464, -5.5601, -5.4449, -5.4375, -5.5483, -5.4797, -5.4609, -5.5967, -6.2706, -6.5072, -6.5072, -6.5072, -6.4474, -6.1694, -6.8909, -6.8729, -5.2829, -7.0467, -5.0391, -7.1245, -6.7074, -7.2662, -7.174, -7.2699, -6.7223, -7.2833, -6.7365, -7.3413, -7.2388, -7.3713, -6.563, -7.1206, -7.46, -7.4433, -7.4986, -7.5361, -6.8234, -7.5468, -6.5979, -7.1166, -4.8935, -6.5854, -7.0856, -6.9965, -5.9128, -5.6586, -6.378, -4.4203, -6.1395, -5.279, -5.358, -6.9398, -6.6461, -3.8938, -6.1567, -6.579, -4.8321, -5.4188, -4.6586, -5.8417, -4.8853, -5.9035, -6.1983, -5.3075, -4.7497, -5.4268, -5.4336, -5.3352, -5.4906, -5.2306, -4.9794, -5.1749, -4.9333, -5.7278, -5.7416, -5.7527, -5.575, -5.5048, -5.5952, -5.5065, -5.5733, -5.7103, -6.7626, -6.7608, -6.763, -6.7458, -6.3441, -6.8411, -6.6531, -6.939, -6.9398, -6.8508, -6.9549, -7.0413, -7.1564, -6.568, -6.5691, -7.1623, -7.1384, -7.0987, -7.1713, -7.3206, -7.3466, -7.2117, -6.2526, -7.3509, -7.2346, -7.4424, -7.4424, -7.4425, -7.4444, -7.4455, -5.9455, -6.4822, -6.5206, -6.143, -6.8895, -6.8903, -6.1965, -6.7678, -6.7686, -6.6121, -5.586, -5.8395, -6.1729, -6.6095, -6.5204, -5.5862, -6.2974, -6.4403, -5.6537, -5.332, -5.0446, -4.3369, -5.6656, -5.1801, -5.4669, -5.3943, -6.2105, -6.1524, -5.5241, -5.1312, -5.6267, -5.2555, -5.4601, -4.9479, -5.3492, -5.7029, -5.8718, -5.1652, -5.9788, -6.0598, -5.3294, -5.3977, -5.3629, -5.513, -5.3179, -5.5838, -5.4831, -5.4462, -5.646, -5.6651, -5.6749, -5.5686, -6.0442, -6.1021, -6.488, -4.6545, -6.6424, -6.5956, -6.5812, -6.641, -6.6768, -6.7916, -6.7922, -6.504, -6.7926, -6.7928, -6.7931, -6.7931, -6.794, -6.8522, -6.8523, -6.2487, -6.8531, -6.8535, -6.855, -6.8556, -6.9174, -6.9854, -6.9855, -6.8555, -7.0195, -6.0526, -6.3573, -6.182, -3.7797, -5.3548, -6.2954, -5.787, -5.7742, -6.1338, -4.818, -4.6619, -5.7834, -5.9913, -6.5268, -5.9291, -5.8042, -5.3463, -6.6879, -5.1433, -5.1435, -4.9773, -4.6841, -4.4615, -5.0918, -5.9188, -5.3998, -5.25, -5.2841, -4.8801, -4.9049, -5.1308, -5.446, -5.3272, -5.6537, -5.6847, -5.6275, -5.5707, -5.7118, -5.751, -5.8133, -5.8669, -5.4902, -6.3558, -5.9548, -6.4421, -6.48, -6.4801, -6.5262, -6.5269, -6.5037, -6.504, -6.2969, -6.5961, -6.4973, -6.7946, -6.6598, -6.7899, -6.6605, -6.6608, -6.6614, -6.968, -6.838, -6.9693, -6.9589, -6.9591, -6.9591, -6.9721, -7.0583, -7.0494, -5.7045, -5.4245, -5.7004, -6.4604, -6.2952, -6.4071, -6.353, -6.8737, -5.5542, -5.0576, -5.6429, -5.2638, -5.6608, -5.5143, -6.2705, -5.6727, -4.6052, -4.7123, -4.9592, -5.8204, -5.7576, -4.7623, -5.1453, -5.2399, -5.3945, -5.522, -5.1827, -5.3711, -5.8049, -5.0945, -5.3146, -5.82, -5.507, -5.5995, -5.6425, -5.7528, -5.733, -5.8001, -5.1098, -4.8939, -4.3202, -5.9234, -6.4319, -6.5426, -5.6762, -6.6271, -6.7709, -6.7713, -6.5623, -6.6244, -6.7502, -6.4308, -7.0174, -6.8969, -6.8879, -6.8892, -7.1125, -7.1127, -7.115, -5.5512, -7.0741, -7.0764, -7.2274, -7.1976, -7.2275, -7.2279, -7.0847, -7.2282, -4.9117, -6.3723, -5.2916, -5.7439, -6.1573, -5.6418, -6.2824, -6.8097, -6.2794, -6.2722, -6.0653, -6.3601, -5.1481, -6.1054, -6.1087, -6.1102, -6.1164, -5.1869, -5.7439, -6.2243, -5.6789, -6.0769, -5.8841, -5.5949, -5.1339, -4.763, -5.1192, -5.843, -5.2716, -5.5678, -5.4256, -5.5168, -5.8676, -5.8958, -5.6347, -5.7353, -5.836, -5.6503, -5.847, -4.6152, -6.1581, -5.4396, -6.3164, -6.092, -6.2516, -6.252, -6.2532, -6.2535, -6.2536, -6.254, -6.2538, -6.2545, -6.2547, -6.2166, -6.2554, -6.2969, -6.3401, -6.3415, -6.1879, -5.9869, -6.6661, -6.6091, -6.8462, -6.759, -6.8764, -6.8763, -6.1785, -5.8853, -6.1029, -5.8904, -4.8331, -6.2549, -5.1609, -4.5752, -6.214, -4.2943, -5.9881, -5.2887, -4.6035, -4.9961, -5.092, -5.3071, -5.2901, -5.4342, -5.7347, -5.1788, -5.9592, -5.1634, -5.987, -5.107, -5.0515, -5.5408, -5.3881, -5.6061, -5.3071, -5.4168, -5.598, -5.3362, -5.8029, -5.4299, -5.6002, -5.6689, -5.8271, -5.6778, -6.1003, -6.2529, -6.2538, -6.2088, -6.2566, -6.2572, -6.2999, -6.4331, -6.4348, -6.4356, -6.3921, -6.4408, -6.4414, -6.3876, -6.6532, -6.5846, -6.6542, -6.6542, -6.6544, -6.6546, -6.6548, -6.655, -6.4998, -6.6586, -6.6592, -6.6599, -6.5924, -6.7525, -6.7594, -5.8643, -5.658, -5.9665, -4.7432, -5.7752, -5.773, -5.393, -5.3429, -6.334, -6.228, -5.9637, -4.2081, -5.6987, -5.1988, -4.6448, -4.7755, -5.5, -4.8214, -5.0892, -5.4086, -5.0164, -5.059, -5.4389, -5.6513, -5.7092, -5.2146, -5.6838, -5.6729, -5.4823, -5.8816, -5.751, -5.8228, -5.8963, -5.8741, -5.4246, -4.6335, -6.0286, -6.1138, -6.1139, -6.114, -6.1141, -6.1144, -6.1145, -6.1145, -6.1604, -6.1606, -6.0288, -4.7944, -6.5262, -6.6273, -6.6287, -6.6756, -6.723, -6.8528, -6.1943, -6.7769, -6.8676, -6.9108, -6.9114, -6.9134, -6.9159, -6.9189, -5.5044, -6.3869, -6.5643, -6.4653, -6.0758, -5.115, -5.5405, -6.0648, -5.4598, -5.6028, -5.5561, -6.2469, -5.7173, -4.4728, -5.9198, -5.6679, -5.2817, -5.7313, -5.8657, -5.5141, -5.1096, -4.9794, -5.3103, -5.0401, -5.2963, -5.4604, -5.7315, -5.8281, -5.445, -5.6167, -5.7305, -5.7944, -5.704, -5.7224, -5.8339, -5.8269], \"loglift\": [30.0, 29.0, 28.0, 27.0, 26.0, 25.0, 24.0, 23.0, 22.0, 21.0, 20.0, 19.0, 18.0, 17.0, 16.0, 15.0, 14.0, 13.0, 12.0, 11.0, 10.0, 9.0, 8.0, 7.0, 6.0, 5.0, 4.0, 3.0, 2.0, 1.0, 1.727, 1.7247, 1.7201, 1.7122, 1.7121, 1.7117, 1.7092, 1.707, 1.7031, 1.7022, 1.7013, 1.6947, 1.6939, 1.6902, 1.6902, 1.6861, 1.6848, 1.6843, 1.6816, 1.68, 1.6795, 1.6731, 1.6721, 1.6698, 1.6695, 1.6653, 1.6649, 1.6646, 1.6622, 1.6616, 1.6599, 1.6555, 1.6488, 1.5633, 1.639, 1.2901, 1.5644, 1.4588, 1.2548, 1.309, 1.3841, 1.2451, 1.5193, 1.4988, 1.4988, 0.9012, 1.3531, 1.4247, 1.112, 1.4723, 1.1774, 0.8602, 1.3184, 0.7178, 1.3651, 0.8134, 0.2477, 0.8382, 0.7312, 0.2622, 1.1588, 0.9861, 0.0472, 0.7544, 0.9012, 0.1647, 0.0068, 0.0606, 0.4326, 0.5988, 0.361, 0.0752, 0.7373, -0.1573, 0.0781, -0.5198, -0.0587, 1.9832, 1.9793, 1.973, 1.9615, 1.9596, 1.957, 1.9532, 1.9503, 1.9498, 1.9471, 1.9438, 1.9434, 1.94, 1.9392, 1.939, 1.9388, 1.9357, 1.9326, 1.9284, 1.9251, 1.9225, 1.9209, 1.9209, 1.9178, 1.9176, 1.9157, 1.9119, 1.9088, 1.9041, 1.9031, 1.8882, 1.883, 1.8566, 1.8389, 1.7755, 1.6919, 1.8506, 1.6295, 1.8779, 1.7682, 1.4641, 1.7469, 1.5819, 1.3846, 0.8349, 1.2211, 1.0499, 0.9791, 1.5314, 1.1064, 0.7106, 0.4983, 0.8261, 0.5224, 0.8409, 0.6237, 0.9952, 0.4286, 0.3564, 0.4471, 0.3789, 0.7555, 0.3881, 0.3651, 0.4792, -0.0274, -0.5203, -0.2377, 2.1188, 2.1112, 2.1112, 2.1112, 2.1104, 2.1032, 2.0879, 2.0811, 2.0796, 2.0774, 2.0695, 2.068, 2.0651, 2.0569, 2.055, 2.0537, 2.0524, 2.051, 2.0509, 2.0486, 2.0485, 2.0412, 2.0364, 2.0355, 2.0337, 2.0333, 2.0297, 2.029, 2.0279, 2.0276, 2.0257, 2.0252, 1.9117, 1.9843, 2.0099, 2.0016, 1.8782, 1.842, 1.8799, 1.4855, 1.832, 1.6419, 1.6066, 1.9813, 1.8802, 0.9475, 1.6962, 1.851, 1.0445, 1.2829, 0.8645, 1.4648, 0.6378, 1.3719, 1.5849, 0.7646, 0.2472, 0.8643, 0.8489, 0.7026, 0.7345, 0.3858, -0.0388, 0.1603, -0.2119, 0.9644, 0.933, 0.931, 0.1508, -0.1459, 0.1572, -0.3349, -0.0872, 0.0924, 2.1714, 2.171, 2.1709, 2.1671, 2.1664, 2.1635, 2.1627, 2.1604, 2.1593, 2.1589, 2.1457, 2.1453, 2.1438, 2.1438, 2.1427, 2.1384, 2.1358, 2.1342, 2.1299, 2.1256, 2.1181, 2.1175, 2.1166, 2.1135, 2.1101, 2.1097, 2.1097, 2.1096, 2.1079, 2.1068, 2.1004, 2.1032, 2.0944, 2.0814, 2.088, 2.0871, 2.0144, 2.0594, 2.0586, 2.0193, 1.826, 1.8297, 1.8912, 1.9721, 1.9438, 1.5885, 1.8533, 1.8783, 1.4427, 1.2378, 1.0462, 0.6036, 1.3621, 0.9587, 1.1649, 1.0032, 1.6576, 1.5986, 0.9878, 0.5946, 1.0728, 0.681, 0.873, 0.2953, 0.6586, 1.0466, 1.2506, 0.1938, 1.3357, 1.4467, 0.1229, 0.1253, -0.1913, 0.1033, -0.4766, 0.2592, -0.1478, -0.4493, 0.1064, 0.1696, 0.054, 2.2582, 2.2416, 2.2373, 2.232, 2.2247, 2.2219, 2.221, 2.2169, 2.2151, 2.2136, 2.2052, 2.2045, 2.2045, 2.2043, 2.2041, 2.2038, 2.2038, 2.203, 2.2021, 2.202, 2.2019, 2.2013, 2.2009, 2.1995, 2.1989, 2.1981, 2.1958, 2.1957, 2.1912, 2.1875, 2.1764, 2.1805, 2.1525, 1.9352, 1.9592, 2.0899, 1.9586, 1.8979, 1.9872, 1.5632, 1.5077, 1.7524, 1.83, 2.077, 1.7663, 1.7016, 1.4072, 2.1445, 1.1234, 1.1018, 0.8373, 0.5591, 0.2598, 0.7847, 1.5068, 0.8912, 0.6799, 0.6524, 0.0605, 0.092, 0.3553, 0.8158, 0.0318, 0.7512, 0.7456, 0.1751, -0.3991, 0.1212, 0.3583, 2.2624, 2.2586, 2.2513, 2.2421, 2.2409, 2.2401, 2.238, 2.238, 2.2346, 2.234, 2.2336, 2.2331, 2.2323, 2.2268, 2.2195, 2.2175, 2.2148, 2.2143, 2.2141, 2.2138, 2.2132, 2.2029, 2.2018, 2.2012, 2.1996, 2.1995, 2.1995, 2.198, 2.194, 2.19, 2.1803, 2.1362, 2.1453, 2.1649, 2.1334, 2.1321, 2.1114, 2.1879, 1.9177, 1.8116, 1.9141, 1.4068, 1.6146, 1.3976, 1.9345, 1.4181, 0.3917, 0.4593, 0.666, 1.4861, 1.3229, 0.079, 0.471, 0.5125, 0.7148, 0.843, 0.2696, 0.4316, 1.1411, -0.3731, 0.0444, 0.9981, -0.0209, -0.6589, -0.3073, 0.2746, -0.2099, 0.4251, 2.4707, 2.4608, 2.4595, 2.4532, 2.4285, 2.4165, 2.4145, 2.4007, 2.4003, 2.3999, 2.3996, 2.3949, 2.3875, 2.3853, 2.3801, 2.3788, 2.3768, 2.3756, 2.3724, 2.3722, 2.3702, 2.3671, 2.3624, 2.3598, 2.3548, 2.3548, 2.3548, 2.3544, 2.3542, 2.3541, 2.3286, 2.3055, 2.17, 2.1987, 2.2416, 2.1475, 2.2169, 2.3119, 2.2004, 2.1887, 2.1365, 2.2027, 1.8779, 2.1228, 2.1199, 2.1186, 2.1125, 1.7021, 1.915, 2.1097, 1.6906, 1.9783, 1.7871, 1.3136, 0.6991, 0.1776, 0.6098, 1.5505, 0.605, 1.0323, 0.7118, 0.7656, 1.4892, 1.5416, 0.4031, 0.6696, 0.8936, -0.6534, 0.6649, 2.4746, 2.4507, 2.4462, 2.4431, 2.4406, 2.4318, 2.4314, 2.43, 2.4298, 2.4296, 2.4296, 2.4294, 2.4288, 2.4288, 2.4286, 2.4278, 2.4263, 2.4248, 2.4239, 2.4226, 2.4185, 2.4177, 2.4173, 2.4024, 2.4009, 2.3986, 2.3984, 2.3935, 2.3805, 2.3704, 2.3283, 2.1569, 2.3005, 2.0356, 1.8163, 2.2713, 1.2974, 2.1566, 1.4642, 0.7555, 1.0314, 0.9158, 1.0587, 0.9766, 1.1426, 1.55, 0.5737, 1.9036, 0.3596, 1.8955, 0.0646, -0.3301, 0.6963, 0.0641, 0.6849, -0.3102, -0.0816, 0.5408, -0.495, 1.2413, -0.4893, 0.1288, -0.0436, 0.7894, 2.7971, 2.7895, 2.779, 2.7785, 2.7755, 2.7755, 2.7749, 2.7664, 2.7647, 2.7631, 2.7623, 2.757, 2.7567, 2.756, 2.7534, 2.7435, 2.7432, 2.7422, 2.7421, 2.7418, 2.7416, 2.7415, 2.7411, 2.74, 2.7378, 2.7371, 2.7364, 2.7359, 2.72, 2.7194, 2.7188, 2.7043, 2.6518, 2.3307, 2.5501, 2.5191, 2.2725, 2.1315, 2.5952, 2.4564, 2.2145, 0.7888, 1.9544, 1.5008, 0.9804, 0.7106, 1.5907, 0.6308, 0.7438, 1.208, 0.1552, 0.1842, 0.8506, 1.1206, 1.2161, -0.274, 0.8836, 0.7568, 0.0407, 1.328, 0.0837, 0.3014, 0.7959, -0.2578, 2.8785, 2.8598, 2.8569, 2.8428, 2.8427, 2.8426, 2.8425, 2.8421, 2.8421, 2.8421, 2.8408, 2.8405, 2.8398, 2.8174, 2.8059, 2.8015, 2.7999, 2.792, 2.7797, 2.7756, 2.7692, 2.7689, 2.7661, 2.7649, 2.7642, 2.7621, 2.7589, 2.7556, 2.7475, 2.7439, 2.7337, 2.6885, 2.6242, 2.4337, 2.4304, 2.555, 2.3229, 2.3577, 2.3391, 2.5705, 2.2401, 1.3418, 2.1718, 1.9217, 1.448, 1.8204, 1.8877, 1.2112, 0.3427, 0.0175, 0.7172, -0.0995, 0.2954, 0.6769, 1.562, 1.7931, -0.086, 0.5529, 1.0746, 1.302, 0.3338, 0.2141, 0.9481, 0.5619]}, \"token.table\": {\"Topic\": [1, 8, 3, 1, 3, 6, 7, 8, 9, 3, 7, 6, 1, 4, 6, 1, 4, 7, 2, 7, 1, 3, 6, 10, 10, 1, 2, 3, 4, 5, 6, 7, 8, 9, 10, 7, 9, 1, 2, 5, 7, 10, 1, 2, 4, 5, 6, 8, 8, 8, 4, 1, 2, 4, 5, 6, 7, 8, 9, 9, 3, 3, 8, 4, 7, 2, 5, 9, 2, 3, 5, 6, 8, 10, 2, 3, 5, 8, 10, 1, 2, 3, 4, 6, 7, 8, 9, 2, 3, 6, 7, 2, 4, 7, 8, 9, 9, 6, 3, 4, 4, 1, 3, 4, 5, 7, 8, 9, 1, 2, 2, 1, 2, 5, 6, 8, 10, 1, 2, 7, 8, 8, 2, 9, 1, 3, 6, 9, 6, 1, 8, 9, 1, 2, 3, 4, 5, 6, 7, 8, 9, 9, 9, 1, 3, 6, 8, 3, 2, 9, 2, 2, 4, 1, 3, 10, 2, 3, 4, 7, 1, 2, 3, 4, 6, 7, 8, 9, 10, 9, 1, 2, 3, 4, 5, 6, 7, 8, 9, 3, 5, 2, 9, 4, 5, 2, 1, 2, 1, 2, 3, 4, 5, 6, 7, 8, 9, 10, 2, 3, 7, 8, 10, 10, 6, 1, 2, 3, 4, 5, 10, 9, 1, 2, 3, 4, 5, 6, 7, 8, 9, 10, 5, 1, 2, 3, 4, 5, 6, 8, 9, 10, 3, 4, 7, 1, 2, 6, 1, 2, 3, 4, 5, 6, 7, 8, 9, 2, 7, 1, 8, 1, 2, 4, 6, 7, 8, 10, 4, 7, 8, 6, 9, 7, 2, 1, 2, 3, 4, 5, 6, 7, 8, 9, 10, 6, 6, 10, 1, 2, 3, 4, 5, 6, 7, 8, 9, 10, 3, 4, 1, 1, 2, 3, 4, 5, 6, 7, 8, 9, 10, 2, 4, 5, 6, 7, 8, 4, 4, 7, 6, 1, 2, 3, 4, 5, 6, 7, 8, 10, 1, 2, 3, 4, 5, 6, 7, 8, 9, 10, 1, 8, 7, 9, 4, 5, 5, 1, 4, 8, 8, 1, 2, 4, 5, 6, 8, 9, 10, 3, 1, 2, 3, 4, 5, 6, 7, 8, 9, 10, 5, 4, 1, 2, 3, 4, 6, 8, 9, 10, 1, 2, 3, 6, 8, 9, 1, 2, 3, 4, 5, 6, 7, 8, 9, 7, 7, 1, 2, 3, 4, 5, 6, 7, 10, 1, 2, 3, 4, 7, 10, 1, 2, 4, 6, 7, 8, 10, 5, 3, 5, 1, 2, 3, 6, 8, 10, 4, 6, 1, 2, 3, 4, 5, 6, 7, 8, 9, 10, 7, 9, 10, 1, 3, 6, 3, 3, 6, 6, 10, 1, 3, 6, 7, 1, 2, 3, 4, 7, 7, 5, 3, 4, 5, 6, 8, 9, 3, 4, 5, 6, 9, 1, 2, 3, 4, 7, 8, 9, 10, 2, 6, 10, 1, 2, 3, 4, 5, 6, 7, 8, 9, 10, 6, 4, 8, 3, 6, 1, 8, 7, 1, 2, 3, 4, 5, 6, 7, 8, 9, 10, 2, 1, 3, 1, 6, 3, 10, 1, 4, 5, 7, 9, 1, 2, 4, 8, 1, 2, 4, 6, 9, 10, 6, 1, 2, 3, 4, 5, 6, 7, 8, 9, 10, 10, 1, 4, 7, 10, 10, 10, 5, 1, 3, 4, 5, 6, 2, 1, 2, 3, 4, 5, 6, 7, 8, 9, 10, 1, 2, 4, 5, 6, 7, 10, 1, 4, 5, 6, 1, 2, 5, 10, 6, 1, 2, 3, 4, 5, 6, 7, 8, 10, 1, 4, 5, 6, 9, 1, 2, 4, 5, 6, 7, 8, 9, 10, 2, 5, 1, 2, 3, 4, 5, 6, 7, 8, 10, 1, 2, 3, 4, 5, 6, 7, 8, 9, 10, 1, 2, 3, 4, 5, 6, 7, 8, 9, 10, 6, 9, 1, 2, 3, 4, 5, 6, 7, 8, 9, 10, 9, 2, 7, 5, 1, 2, 3, 4, 5, 6, 8, 9, 10, 1, 2, 3, 4, 5, 6, 7, 8, 9, 10, 1, 8, 3, 4, 9, 1, 2, 3, 4, 5, 6, 7, 8, 9, 10, 1, 2, 3, 4, 5, 6, 7, 8, 9, 10, 1, 2, 3, 4, 5, 6, 8, 10, 5, 7, 1, 2, 3, 4, 5, 6, 7, 8, 10, 6, 2, 4, 6, 7, 9, 10, 1, 2, 3, 4, 5, 6, 7, 8, 9, 10, 1, 4, 4, 7, 8, 1, 2, 3, 4, 6, 7, 8, 9, 9, 1, 2, 3, 4, 5, 6, 7, 8, 9, 10, 1, 1, 2, 3, 4, 5, 6, 7, 8, 9, 10, 8, 2, 1, 8, 1, 2, 3, 4, 5, 6, 7, 8, 9, 10, 1, 2, 3, 4, 5, 6, 7, 8, 9, 10, 4, 1, 2, 3, 4, 5, 6, 9, 10, 9, 2, 1, 2, 3, 4, 5, 6, 7, 8, 9, 10, 2, 5, 6, 7, 8, 9, 2, 1, 2, 3, 4, 5, 6, 7, 9, 1, 2, 3, 5, 6, 7, 8, 9, 7, 10, 1, 4, 7, 8, 1, 2, 3, 4, 5, 6, 7, 8, 9, 10, 5, 6, 1, 2, 3, 4, 5, 6, 7, 8, 9, 1, 2, 3, 4, 5, 6, 7, 8, 9, 10, 1, 2, 3, 4, 7, 8, 9, 10, 9, 9, 1, 2, 3, 4, 5, 6, 7, 8, 9, 10, 1, 2, 3, 4, 5, 6, 7, 8, 9, 10, 1, 6, 5, 8, 9, 3, 2, 2, 10, 8, 5, 6, 1, 3, 5, 10, 3, 4, 1, 2, 6, 9, 10, 1, 2, 2, 10, 4, 4, 10, 9, 1, 2, 3, 4, 5, 6, 7, 8, 9, 5, 6, 10, 3, 1, 2, 3, 4, 5, 6, 7, 8, 9, 2, 3, 4, 7, 8, 3, 4, 1, 2, 3, 4, 5, 6, 7, 8, 9, 10, 7, 1, 3, 6, 8, 2, 4, 8, 10, 3, 6, 4, 1, 6, 1, 2, 3, 4, 5, 6, 7, 8, 9, 10, 1, 2, 3, 4, 6, 7, 8, 9, 10, 2, 7, 1, 2, 3, 4, 5, 6, 7, 8, 9, 10, 1, 2, 3, 4, 5, 6, 7, 8, 9, 10, 10, 1, 2, 3, 4, 5, 6, 7, 8, 9, 10, 7, 8, 1, 2, 3, 4, 7, 1, 2, 3, 4, 5, 6, 7, 8, 9, 10, 1, 2, 3, 4, 5, 6, 7, 8, 9, 10, 4, 8, 4, 4, 1, 2, 3, 4, 5, 6, 7, 8, 9, 10, 9, 1, 2, 3, 4, 5, 6, 7, 8, 9, 10, 8, 3, 7, 1, 2, 3, 4, 5, 7, 8, 9, 10, 1, 2, 3, 4, 5, 6, 7, 8, 9, 10, 1, 9, 7, 5, 10, 1, 5, 7, 5, 2, 4, 7, 2, 3, 1, 4, 6, 7, 8, 9, 10, 1, 2, 3, 4, 6, 7, 8, 9, 10, 4, 9, 10, 4, 1, 2, 3, 4, 5, 6, 7, 8, 9, 10, 8, 1, 1, 2, 3, 4, 5, 7, 8, 10, 9, 3, 1, 2, 3, 4, 5, 6, 7, 8, 9, 1, 2, 3, 4, 5, 6, 7, 8, 9, 10, 9, 1, 1, 2, 8, 9, 10, 10, 1, 2, 3, 4, 5, 6, 7, 8, 9, 10, 1, 1, 9, 1, 2, 3, 4, 5, 6, 7, 8, 9, 10, 1, 4, 5, 6, 7, 10, 1, 2, 3, 4, 5, 6, 7, 8, 9, 10, 1, 6, 8, 10, 1, 4, 7, 8, 3, 5, 5, 2, 3, 5, 8, 1, 2, 3, 4, 5, 6, 7, 8, 9, 10, 1, 3, 4, 5, 6, 1, 8, 3, 3, 9, 8, 4, 1, 3, 4, 5, 6, 7, 8, 9, 3, 3, 7, 3, 1, 2, 3, 4, 5, 6, 7, 8, 10, 1, 3, 9, 10, 1, 2, 3, 9, 10, 2, 8, 1, 2, 3, 4, 5, 6, 10, 1, 2, 3, 4, 5, 6, 7, 8, 9, 10, 1, 3, 4, 6, 7, 8, 10, 7, 8, 1, 2, 3, 4, 5, 6, 7, 8, 9, 6, 1, 3, 6, 6, 9, 1, 3, 4, 6, 1, 2, 3, 4, 5, 6, 7, 8, 9, 10, 2, 7, 1, 3, 4, 6, 8, 1, 2, 3, 4, 5, 6, 8, 9, 10, 8, 5, 1, 2, 3, 4, 6, 7, 8, 10, 1, 3, 4, 5, 6, 7, 8, 9, 10, 1, 2, 3, 4, 6, 7, 8, 9, 10, 7, 10, 1, 3, 5, 10, 2, 7, 1, 4, 6, 8, 10, 4, 4, 8, 1, 2, 3, 8, 1, 2, 3, 4, 5, 6, 7, 8, 9, 10, 5, 4, 6, 5, 2, 3, 7, 9, 10, 3, 4, 1, 2, 3, 4, 6, 7, 8, 3, 3, 2, 4, 6, 10, 6, 10, 10, 1, 2, 3, 4, 5, 6, 7, 8, 9, 8, 1, 2, 5, 5, 1, 1, 9, 10, 1, 2, 3, 4, 5, 6, 7, 8, 9, 10, 2, 1, 2, 3, 4, 5, 6, 7, 8, 9, 10, 1, 2, 3, 4, 5, 6, 7, 8, 9, 10, 5, 8, 2, 5, 8, 7, 5, 5, 5, 1, 2, 3, 4, 5, 6, 7, 8, 10, 1, 2, 3, 4, 5, 6, 7, 8, 9, 10, 6, 2, 5, 7, 8, 9, 1, 6, 7, 8, 9, 1, 2, 3, 4, 5, 6, 7, 8, 9, 10, 9, 1, 6, 7, 6, 3, 5, 7, 9, 3, 8, 10, 5, 10, 10, 7, 7, 2, 7, 2, 7, 7, 7, 3, 2, 4, 5, 7, 9, 10, 2, 4, 5, 6, 5, 1, 3, 8, 2, 2, 2, 1, 2, 4, 6, 8, 9, 3, 4, 8, 2, 1, 2, 3, 4, 5, 6, 7, 8, 9, 10, 2, 4, 5, 7, 8, 10, 4, 3, 5, 6, 7, 7, 1, 2, 3, 4, 5, 6, 7, 8, 9, 1, 2, 3, 4, 6, 8, 9, 10, 7, 2, 7, 1, 1, 1, 2, 3, 4, 5, 6, 7, 8, 9, 10, 1, 2, 3, 4, 5, 6, 7, 8, 9, 10, 1, 2, 3, 4, 5, 6, 8, 9, 10, 1, 1, 2, 3, 4, 5, 6, 8, 10, 7, 2, 6, 1, 1, 2, 3, 4, 5, 6, 7, 8, 9, 10, 7, 4, 1, 2, 3, 4, 5, 6, 7, 8, 9, 10, 3, 1, 2, 3, 4, 5, 6, 7, 8, 9, 10, 2, 3, 4, 6, 9, 4, 6, 6, 1, 2, 3, 4, 5, 6, 7, 8, 9, 10, 2, 3, 9, 1, 2, 5, 10, 3, 4, 5, 6, 7, 8, 9, 3, 5, 6, 10, 4, 1, 2, 5, 7, 9, 10, 1, 2, 3, 4, 5, 6, 7, 8, 2, 3, 2, 3, 4, 7, 9, 10, 1, 3, 3, 8, 2, 3, 5, 6, 7, 10, 8, 1, 1, 2, 5, 7, 10, 1, 2, 4, 7, 10, 1, 2, 3, 4, 5, 6, 7, 9, 10, 6, 2, 4, 5, 6, 8, 9, 4, 3, 1, 7, 7, 2, 3, 1, 2, 3, 4, 5, 6, 7, 8, 9, 5, 1, 7, 3, 5, 4, 10, 2, 2, 7, 6, 3, 4, 6, 7, 6, 1, 4, 1, 2, 4, 5, 7, 8, 9, 10, 1, 2, 3, 4, 5, 6, 7, 8, 9, 10, 7, 10, 1, 2, 6, 7, 8, 10, 2, 2, 4, 7, 9, 5, 6, 5, 1, 2, 3, 4, 5, 6, 7, 8, 9, 10, 1, 2, 3, 4, 5, 6, 7, 8, 9, 10, 1, 2, 3, 4, 5, 6, 7, 8, 10, 6, 1, 2, 3, 4, 5, 6, 7, 8, 9, 5, 9, 9, 1, 3, 4, 7, 8, 3, 8, 2, 8, 1, 2, 3, 4, 5, 6, 7, 8, 9, 10, 1, 3, 4, 5, 8, 9, 1, 2, 3, 4, 5, 6, 7, 8, 9, 10, 2, 3, 4, 5, 6, 7, 8, 9, 9, 1, 2, 3, 4, 5, 6, 7, 8, 9, 10, 3, 9, 1], \"Freq\": [0.158284870052559, 0.791424350262795, 0.8536125487813995, 0.07679340337728945, 0.13438845591025653, 0.11519010506593416, 0.1535868067545789, 0.03839670168864472, 0.479958771108059, 0.9160644251582329, 0.07046649424294099, 0.9424853389274704, 0.8219144917959489, 0.06322419167661145, 0.09483628751491718, 0.20663275418036267, 0.7232146396312694, 0.9465679022271345, 0.2857015416061689, 0.693846601043553, 0.11132527684789484, 0.02783131921197371, 0.8627708955711849, 0.9297724876030907, 0.8673027796761632, 0.4216260862491123, 0.021621850576877554, 0.010810925288438777, 0.11892017817282655, 0.010810925288438777, 0.05405462644219389, 0.07567647701907143, 0.22702943105721432, 0.010810925288438777, 0.06486555173063266, 0.9202442131805633, 0.911380144543584, 0.012549724018765794, 0.8784806813136056, 0.02509944803753159, 0.05019889607506318, 0.02509944803753159, 0.6582764772119175, 0.022699188869376465, 0.022699188869376465, 0.18159351095501172, 0.04539837773875293, 0.04539837773875293, 0.9054970260869234, 0.9551100367116393, 0.8274996906362736, 0.9314203108948623, 0.14148949726967017, 0.03858804470991005, 0.05145072627988006, 0.1543521788396402, 0.012862681569970015, 0.012862681569970015, 0.5916833522186207, 0.8975708270564238, 0.9334716676812135, 0.057540109555970935, 0.920641752895535, 0.9289999718621714, 0.920234271829111, 0.05818329171896261, 0.05818329171896261, 0.8727493757844391, 0.019662608705088538, 0.7766730438509972, 0.009831304352544269, 0.009831304352544269, 0.02949391305763281, 0.1573008696407083, 0.06312546927753902, 0.7259428966916988, 0.03156273463876951, 0.06312546927753902, 0.15781367319384756, 0.5945645888065274, 0.015824913010059664, 0.13338140965621717, 0.09042807434319808, 0.0746031613331384, 0.002260701858579952, 0.0746031613331384, 0.009042807434319807, 0.1070111248186218, 0.0535055624093109, 0.0535055624093109, 0.7490778737303525, 0.8281726558115761, 0.034507193992149, 0.069014387984298, 0.034507193992149, 0.034507193992149, 0.9184572494511951, 0.9372082997430716, 0.8632174672631934, 0.8772722925493842, 0.906995070745351, 0.45785961895365684, 0.043605677995586366, 0.021802838997793183, 0.10901419498896592, 0.3052397459691046, 0.05450709749448296, 0.010901419498896591, 0.9376674340522383, 0.9333718132562641, 0.9383738745877347, 0.2559759834291712, 0.1279879917145856, 0.45709997040923434, 0.10970399289821625, 0.018283998816369374, 0.03656799763273875, 0.13725785040284771, 0.24020123820498349, 0.5833458642121028, 0.03431446260071193, 0.9002969497433666, 0.9427194404904682, 0.03250756691346442, 0.08372049984654456, 0.02093012496163614, 0.8581351234270818, 0.04186024992327228, 0.9344189853164867, 0.9414758975984382, 0.9286546165894296, 0.8603852545325382, 0.13730968254461515, 0.1550270609374687, 0.10630427035712141, 0.20374985151781602, 0.11959230415176157, 0.031005412187493742, 0.035434756785707136, 0.20374985151781602, 0.008858689196426784, 0.911507482026069, 0.9559167979218697, 0.2649074068236508, 0.5960416653532143, 0.03311342585295635, 0.09934027755886905, 0.8560591599960976, 0.16448050894819244, 0.740162290266866, 0.8901130132873337, 0.9407601415754032, 0.038398373125526665, 0.8924920204603942, 0.867711777939687, 0.9141491592861903, 0.1029778846889737, 0.05148894234448685, 0.05148894234448685, 0.7208451928228159, 0.5544119636880526, 0.06468139576360613, 0.073921595158407, 0.073921595158407, 0.147843190316814, 0.027720598184402628, 0.027720598184402628, 0.027720598184402628, 0.01848039878960175, 0.9432401491210021, 0.21064640011228208, 0.022173305274977063, 0.2993396212121903, 0.13303983164986236, 0.06651991582493118, 0.03325995791246559, 0.022173305274977063, 0.011086652637488531, 0.188473094837305, 0.0746534911762266, 0.8958418941147193, 0.8584315232231856, 0.05049597195430504, 0.8169192966858042, 0.07426539060780038, 0.9121158937949131, 0.9401444532582416, 0.044768783488487694, 0.03778806000410589, 0.38260410754157215, 0.2456223900266883, 0.04723507500513236, 0.06612910500718532, 0.08502313500923825, 0.004723507500513236, 0.1039171650112912, 0.02361753750256618, 0.004723507500513236, 0.0420276169375154, 0.7564971048752772, 0.0420276169375154, 0.12608285081254622, 0.0420276169375154, 0.9287675590928235, 0.9185445945281734, 0.952109643080527, 0.23516890326236903, 0.052259756280526454, 0.026129878140263227, 0.13064939070131612, 0.5487274409455277, 0.860730449453378, 0.13127771342711453, 0.043759237809038176, 0.010939809452259544, 0.08751847561807635, 0.16409714178389317, 0.40477294973360317, 0.03281942835677863, 0.021879618904519088, 0.06563885671355726, 0.021879618904519088, 0.8798537545608542, 0.22822773729916487, 0.05705693432479122, 0.08558540148718682, 0.18068029202850552, 0.0950948905413187, 0.11411386864958244, 0.00950948905413187, 0.17117080297437365, 0.04754744527065935, 0.037754769737959694, 0.6795858552832744, 0.26428338816571784, 0.7612802273723934, 0.1268800378953989, 0.06344001894769945, 0.15071167934656066, 0.10638471483286635, 0.41667346642872655, 0.03546157161095545, 0.195038643860255, 0.017730785805477725, 0.03546157161095545, 0.017730785805477725, 0.026596178708216588, 0.934579664279174, 0.9202712108004596, 0.8588540248321987, 0.07157116873601657, 0.07893280858460365, 0.026310936194867886, 0.447285915312754, 0.13155468097433942, 0.05262187238973577, 0.05262187238973577, 0.19733202146150913, 0.8535487700959454, 0.04064517952837835, 0.0812903590567567, 0.9529584332578076, 0.02507785350678441, 0.7901352334635058, 0.9501869280849365, 0.09014361500360829, 0.35647702296881456, 0.10653336318608252, 0.09424105204922684, 0.20077441523530937, 0.016389748182474233, 0.020487185228092793, 0.05736411863865982, 0.032779496364948466, 0.02868205931932991, 0.9309511037454941, 0.9321672582529072, 0.8674889553141418, 0.117408203921505, 0.14676025490188124, 0.1761123058822575, 0.11153779372542975, 0.0587041019607525, 0.10566738352935451, 0.11153779372542975, 0.01761123058822575, 0.13501943450973075, 0.01761123058822575, 0.058312243409103875, 0.8746836511365582, 0.9775773946463763, 0.21454533830138373, 0.01950412166376216, 0.09101923443089006, 0.013002747775841438, 0.03900824332752432, 0.0325068694396036, 0.026005495551682876, 0.5006057893698954, 0.03900824332752432, 0.01950412166376216, 0.7900016027809008, 0.01795458188138411, 0.01795458188138411, 0.08977290940692055, 0.01795458188138411, 0.05386374564415233, 0.9535001358687876, 0.858806329936915, 0.9117541405525237, 0.9417513291151522, 0.39154639021541165, 0.11281845141799997, 0.019909138485529408, 0.15263672838905878, 0.09290931293247057, 0.026545517980705875, 0.026545517980705875, 0.12609121040835292, 0.04645465646623528, 0.2598331568394777, 0.09314773547075617, 0.06373266111157001, 0.08334271068436078, 0.1421728594027331, 0.2059055205143031, 0.03922009914558155, 0.08824522307755847, 0.01470753717959308, 0.009805024786395387, 0.11318003700708465, 0.7922602590495925, 0.7411805671272312, 0.22805555911607114, 0.8169725216877166, 0.07427022924433788, 0.9320361027186101, 0.06616535350667714, 0.9263149490934799, 0.9599226709188988, 0.9063739232231985, 0.2561007823438627, 0.07113910620662851, 0.5122015646877254, 0.014227821241325704, 0.028455642482651408, 0.056911284965302816, 0.04268346372397711, 0.014227821241325704, 0.8994860927007143, 0.05147289646402214, 0.06434112058002767, 0.0386046723480166, 0.08364345675403598, 0.4825584043502075, 0.06434112058002767, 0.09651168087004151, 0.012868224116005534, 0.09007756881203874, 0.0193023361740083, 0.8799647616592061, 0.8427601690493725, 0.06613412522531023, 0.32240386047338737, 0.09093442218480156, 0.33893739177971494, 0.06613412522531023, 0.024800296959491337, 0.04960059391898267, 0.0413338282658189, 0.04170491317632323, 0.020852456588161615, 0.20852456588161614, 0.6881310674093333, 0.020852456588161615, 0.020852456588161615, 0.22831201054422223, 0.026343693524333335, 0.29856185994244444, 0.07024984939822222, 0.061468618223444446, 0.05268738704866667, 0.026343693524333335, 0.11415600527211112, 0.12293723644688889, 0.9819326862271357, 0.7901081917378953, 0.10353423143690046, 0.1898127576343175, 0.293346989071218, 0.06902282095793363, 0.1898127576343175, 0.025883557859225116, 0.008627852619741704, 0.11216208405664216, 0.2030335621804679, 0.12689597636279243, 0.07613758581767546, 0.2030335621804679, 0.025379195272558486, 0.3553087338158188, 0.1168721637039589, 0.28049319288950136, 0.07012329822237534, 0.046748865481583565, 0.49086308755662744, 0.9004202405525745, 0.8317698432491349, 0.9552357692104739, 0.05560148329262689, 0.8896237326820302, 0.6593855365726894, 0.05994413968842631, 0.10490224445474604, 0.07493017461053289, 0.05994413968842631, 0.029972069844213155, 0.8785471980043011, 0.9344497670107037, 0.4009234575364767, 0.07684366269449137, 0.1336411525121589, 0.19043864232982644, 0.023387201689627806, 0.07684366269449137, 0.016705144064019864, 0.043433374566451646, 0.03006925931523575, 0.006682057625607945, 0.06026444367674095, 0.7834377677976323, 0.06026444367674095, 0.03246001369166241, 0.5031302122207674, 0.4382101848374425, 0.8983313036909025, 0.060686603658247226, 0.8496124512154611, 0.08510637639558134, 0.8510637639558134, 0.9294911518296848, 0.09678445766757336, 0.04839222883378668, 0.7742756613405869, 0.03790924859944134, 0.05686387289916202, 0.1326823700980447, 0.03790924859944134, 0.7202757233893856, 0.8214875685216193, 0.9493831393698959, 0.16762861819605068, 0.023946945456578668, 0.5986736364144667, 0.143681672739472, 0.023946945456578668, 0.023946945456578668, 0.05431979164139503, 0.027159895820697513, 0.6246776038760428, 0.19011927074488258, 0.08147968746209254, 0.0827891001094773, 0.0236540286027078, 0.0118270143013539, 0.0236540286027078, 0.0118270143013539, 0.7096208580812341, 0.11827014301353901, 0.0118270143013539, 0.8775351322198076, 0.07312792768498397, 0.8755989235697585, 0.1093555222132246, 0.08852589893451515, 0.057281464016450984, 0.10414811639354724, 0.45825171213160787, 0.0416592465574189, 0.02082962327870945, 0.0052074058196773625, 0.015622217459032086, 0.09373330475419252, 0.9309613328548486, 0.7937608422783311, 0.12211705265820479, 0.8529956429186124, 0.9321668347466614, 0.01306972058623493, 0.9671593233813849, 0.7901081361894094, 0.023252738614050514, 0.5813184653512629, 0.06975821584215154, 0.06200730297080137, 0.007750912871350171, 0.031003651485400685, 0.015501825742700343, 0.0542563900994512, 0.13951643168430308, 0.031003651485400685, 0.9644229761159395, 0.780384779177984, 0.18729234700271616, 0.9533079620811078, 0.9310325325784594, 0.8564074790505877, 0.0713672899208823, 0.04465843920007725, 0.6698765880011587, 0.0893168784001545, 0.13397531760023174, 0.8607428378928853, 0.04236172496185501, 0.04236172496185501, 0.04236172496185501, 0.8895962241989552, 0.08698411267305535, 0.08698411267305535, 0.043492056336527675, 0.043492056336527675, 0.6958729013844428, 0.883725354891287, 0.9807886552374, 0.052710009738213014, 0.15154127799736242, 0.11859752191097928, 0.06588751217276627, 0.21084003895285205, 0.10542001947642603, 0.15813002921463903, 0.03953250730365976, 0.006588751217276627, 0.08565376582459615, 0.9297091621188173, 0.08630586417022297, 0.8630586417022297, 0.4982539833540377, 0.4626644131144636, 0.8837503096679343, 0.929719090582587, 0.932087620232492, 0.9309027375576902, 0.7377327063956759, 0.07904278997096527, 0.07904278997096527, 0.07904278997096527, 0.8628664272600868, 0.11215007817703451, 0.22430015635406902, 0.016021439739576357, 0.14419295765618723, 0.016021439739576357, 0.032042879479152714, 0.09612863843745814, 0.06408575895830543, 0.032042879479152714, 0.2563430358332217, 0.06462387517355705, 0.04308258344903804, 0.10770645862259509, 0.04308258344903804, 0.21541291724519018, 0.15078904207163313, 0.3662019593168233, 0.1832585660260879, 0.036651713205217575, 0.7330342641043516, 0.036651713205217575, 0.041779620368627556, 0.08355924073725511, 0.041779620368627556, 0.8355924073725511, 0.9344264846110634, 0.6167196978374307, 0.012236501941218864, 0.09299741475326337, 0.014683802329462637, 0.13093057077104184, 0.06974806106494752, 0.0012236501941218865, 0.05873520931785055, 0.0012236501941218865, 0.8022206607055011, 0.04011103303527505, 0.060166549552912583, 0.0802220660705501, 0.020055516517637526, 0.09809261237945398, 0.04904630618972699, 0.11035418892688573, 0.012261576547431747, 0.0735694592845905, 0.5395093680869969, 0.03678472964229525, 0.0735694592845905, 0.012261576547431747, 0.9655292342713336, 0.9508242819832018, 0.10241705934518015, 0.13655607912690687, 0.01706950989086336, 0.11948656923604352, 0.0853475494543168, 0.10241705934518015, 0.35845970770813057, 0.03413901978172672, 0.05120852967259008, 0.12373234009282662, 0.15672763078424704, 0.08248822672855108, 0.21034497815780523, 0.193847332812095, 0.06186617004641331, 0.02062205668213777, 0.06186617004641331, 0.02062205668213777, 0.06599058138284086, 0.12009120718113749, 0.13724709392129997, 0.13381591657326747, 0.11666002983310497, 0.05489883756851999, 0.16812769005359246, 0.07205472430868248, 0.14410944861736497, 0.017155886740162496, 0.03431177348032499, 0.9729256588564766, 0.8603188136665773, 0.05554376476841146, 0.141384128501411, 0.10098866321529357, 0.2777188238420573, 0.05554376476841146, 0.13633469534064632, 0.045444898446882105, 0.141384128501411, 0.005049433160764678, 0.050494331607646784, 0.911488073324906, 0.5345394747728618, 0.4490131588092039, 0.891727285928747, 0.11171405017369465, 0.023518747404988348, 0.270465595157366, 0.047037494809976696, 0.24694684775237766, 0.058796868512470866, 0.16463123183491843, 0.029398434256235433, 0.047037494809976696, 0.11292805510303305, 0.21682186579782345, 0.04968834424533454, 0.04968834424533454, 0.013551366612363966, 0.13099654391951834, 0.05420546644945586, 0.23037323241018742, 0.03161985542884926, 0.10841093289891172, 0.8895784629312667, 0.9370312083876371, 0.12876344935787495, 0.12876344935787495, 0.6438172467893748, 0.1262320093678068, 0.12049419076017921, 0.07459164189915857, 0.011475637215255163, 0.3098422048118894, 0.0631160046839034, 0.017213455822882744, 0.2180371070898481, 0.0057378186076275815, 0.05164036746864824, 0.1843349876313404, 0.20779580423896554, 0.08714017597117911, 0.11060099257880425, 0.0770855402821969, 0.00670309045932147, 0.15081953533473305, 0.09384326643050057, 0.033515452296607344, 0.04692163321525029, 0.02223378166840388, 0.08893512667361551, 0.08893512667361551, 0.1111689083420194, 0.1111689083420194, 0.17787025334723103, 0.04446756333680776, 0.3112729433576543, 0.20987504243850988, 0.7345626485347846, 0.10588033468274398, 0.30755716264987537, 0.08067073118685256, 0.035293444894247995, 0.14117377957699198, 0.015125762097534854, 0.16638338307288342, 0.04033536559342628, 0.10588033468274398, 0.9572059510466985, 0.044961400151979226, 0.08992280030395845, 0.044961400151979226, 0.044961400151979226, 0.7193824024316676, 0.861289621864013, 0.17729849115550864, 0.06608398306705322, 0.14667420631955716, 0.0676957875321033, 0.11121450808845543, 0.14828601078460724, 0.04351872055635212, 0.05963676520685291, 0.12572074827390614, 0.054801351811702675, 0.0661688872831107, 0.9263644219635498, 0.009584911088026572, 0.9584911088026572, 0.009584911088026572, 0.06978546134134712, 0.6280691520721241, 0.11630910223557853, 0.06978546134134712, 0.04652364089423141, 0.023261820447115705, 0.023261820447115705, 0.04652364089423141, 0.9183562129066737, 0.35167280260815176, 0.12008339601253962, 0.12866078144200674, 0.13723816687147386, 0.008577385429467116, 0.06004169800626981, 0.025732156288401347, 0.04288692714733558, 0.07719646886520404, 0.051464312576802694, 0.9453501393595128, 0.18043960313331384, 0.12961154591266205, 0.058452265803749556, 0.1194459344685317, 0.07115928010891251, 0.13215294877369466, 0.04066244577652143, 0.08640769727510804, 0.10673892016336875, 0.07624208583097768, 0.9005710610198612, 0.940089448126625, 0.028967929016839825, 0.9559416575557143, 0.08472533812247206, 0.20450943684734635, 0.09641159165660614, 0.049666577520069824, 0.07596064797187149, 0.06719595782127094, 0.014607816917667596, 0.30092102850395247, 0.03505876060240223, 0.07303908458833798, 0.1472449903835905, 0.06544221794826245, 0.08180277243532807, 0.4090138621766403, 0.09816332692239368, 0.06544221794826245, 0.04908166346119684, 0.06544221794826245, 0.016360554487065613, 0.04908166346119684, 0.920110570913667, 0.6390168785393854, 0.08635363223505207, 0.08635363223505207, 0.017270726447010415, 0.051812179341031245, 0.06908290578804166, 0.03454145289402083, 0.017270726447010415, 0.9147244588796565, 0.926151525678267, 0.17782629319923554, 0.14103464633042817, 0.07971523488241593, 0.2514095869368502, 0.15329852862003063, 0.03679164686880735, 0.0490555291584098, 0.0245277645792049, 0.05518747030321103, 0.0245277645792049, 0.0233954248132883, 0.6784673195853607, 0.0233954248132883, 0.0467908496265766, 0.0935816992531532, 0.1169771240664415, 0.9500239417306099, 0.18502200790055381, 0.2220264094806646, 0.037004401580110764, 0.037004401580110764, 0.05550660237016615, 0.018502200790055382, 0.388546216591163, 0.05550660237016615, 0.17740378608456508, 0.04668520686435924, 0.1587297033388214, 0.4108298204063613, 0.09337041372871847, 0.02801112411861554, 0.018674082745743694, 0.04668520686435924, 0.19618711535677688, 0.719352756308182, 0.9563374696962585, 0.8019796772483173, 0.040098983862415866, 0.1202969515872476, 0.1370306702606642, 0.06280572386947109, 0.15986911530410822, 0.11419222521722017, 0.22838445043444033, 0.1370306702606642, 0.051386501347749074, 0.017128833782583026, 0.045676890086888064, 0.051386501347749074, 0.8315803556405336, 0.11879719366293337, 0.12819018854659167, 0.011653653504235606, 0.32630229811859696, 0.08934467686580631, 0.2214194165804765, 0.0660373698573351, 0.15149749555506287, 0.0038845511680785354, 0.007769102336157071, 0.0932373498783829, 0.10100712903491481, 0.07769779156531909, 0.3651796203569997, 0.07769779156531909, 0.16316536228717007, 0.015539558313063818, 0.04661867493919145, 0.023309337469595726, 0.03884889578265954, 0.16591985648113372, 0.18665983854127546, 0.08295992824056686, 0.06221994618042515, 0.04147996412028343, 0.08295992824056686, 0.04147996412028343, 0.33183971296226744, 0.9188086047721019, 0.9117202895732681, 0.04696158203299327, 0.7279045215113957, 0.08609623372715433, 0.03913465169416106, 0.023480791016496635, 0.007826930338832212, 0.015653860677664423, 0.023480791016496635, 0.007826930338832212, 0.023480791016496635, 0.1160034296106398, 0.17200508528474176, 0.5040149010669177, 0.07200212872384538, 0.012000354787307566, 0.09600283829846053, 0.01600047304974342, 0.004000118262435855, 0.004000118262435855, 0.004000118262435855, 0.9229714301269437, 0.9501753205917508, 0.9173081324487866, 0.09330546384375951, 0.8397491745938356, 0.8879313537342443, 0.9442633196089835, 0.8766343836812724, 0.9297910123071685, 0.9003950091003724, 0.8799585717249644, 0.9088664301795311, 0.04537397620205191, 0.04537397620205191, 0.8621055478389863, 0.9297695415853855, 0.9320280122874111, 0.8775442150073, 0.03986418249841382, 0.07972836499682764, 0.677691102473035, 0.03986418249841382, 0.07972836499682764, 0.8695930993473872, 0.949951966941581, 0.22061830586186218, 0.7353943528728739, 0.889971009690427, 0.8510627012258235, 0.8674514823159596, 0.9183879968466131, 0.1620227422619211, 0.13501895188493426, 0.12151705669644083, 0.3645511700893225, 0.0540075807539737, 0.02700379037698685, 0.013501895188493426, 0.04050568556548027, 0.06750947594246713, 0.9320906666577321, 0.10294139920911964, 0.8235311936729571, 0.912635705686428, 0.38180293479402616, 0.3088111972598741, 0.06176223945197482, 0.0280737452054431, 0.01122949808217724, 0.1459834750683041, 0.01684424712326586, 0.03368849424653172, 0.9398799411580532, 0.026143361562853656, 0.5490105928199268, 0.026143361562853656, 0.33986370031709756, 0.026143361562853656, 0.848135057133776, 0.06058107550955543, 0.13016245916104954, 0.19710315244387502, 0.014875709618405663, 0.1190056769472453, 0.11528674954264388, 0.0706596206874269, 0.1673517332070637, 0.02603249183220991, 0.1190056769472453, 0.04462712885521699, 0.8192487067190075, 0.031470540067191514, 0.45632283097427695, 0.5035286410750642, 0.015735270033595757, 0.08082194964873919, 0.040410974824369596, 0.8486304713117615, 0.040410974824369596, 0.0394967637078663, 0.947922328988791, 0.9538866119507353, 0.10333592192716352, 0.8266873754173082, 0.23778533204073488, 0.3651703313482714, 0.07643099958452193, 0.03396933314867641, 0.06793866629735282, 0.05944633301018372, 0.03396933314867641, 0.016984666574338204, 0.09341566615886013, 0.02547699986150731, 0.20625424201030645, 0.014732445857879034, 0.029464891715758067, 0.3535787005890968, 0.07366222928939517, 0.0441973375736371, 0.0441973375736371, 0.22098668786818548, 0.029464891715758067, 0.08977903355735216, 0.8678639910544041, 0.27859806975768586, 0.05764097994986604, 0.13449561988302078, 0.0480341499582217, 0.06724780994151039, 0.06724780994151039, 0.01921365998328868, 0.15370927986630945, 0.03842731996657736, 0.13449561988302078, 0.19587078816685974, 0.20937911838526385, 0.14183746729324326, 0.10131247663803089, 0.054033320873616474, 0.054033320873616474, 0.054033320873616474, 0.06078748598281854, 0.12157497196563707, 0.006754165109202059, 0.8454017642153976, 0.3491770444218636, 0.06819864148864524, 0.27279456595458096, 0.057286858850461995, 0.060014804510007805, 0.057286858850461995, 0.027279456595458093, 0.060014804510007805, 0.027279456595458093, 0.021823565276366474, 0.8194782243469912, 0.9322544627145677, 0.046178706576825934, 0.2770722394609556, 0.023089353288412967, 0.09235741315365187, 0.5541444789219112, 0.24708771117938808, 0.04434907636553119, 0.14571839377245963, 0.10770489974486147, 0.09503373506899541, 0.04434907636553119, 0.03801349402759816, 0.234416546503522, 0.02534232935173211, 0.006335582337933027, 0.08671755167441934, 0.12323020501101696, 0.23276816502080983, 0.04107673500367232, 0.12323020501101696, 0.08671755167441934, 0.12323020501101696, 0.06846122500612054, 0.04107673500367232, 0.07302530667319523, 0.9544910796660075, 0.8969449042893054, 0.9089342398657514, 0.8722089562018042, 0.17619182084623058, 0.040043595646870586, 0.0961046295524894, 0.040043595646870586, 0.16017438258748234, 0.08809591042311529, 0.2322528547518494, 0.05606103390561882, 0.0480523147762447, 0.06406975303499293, 0.8580649212872585, 0.11183764709932452, 0.1909423243159199, 0.21549205172796676, 0.1200208895700068, 0.05728269729477597, 0.08183242470682281, 0.013638737451137136, 0.11729314207977937, 0.0600104447850034, 0.03273296988272913, 0.9002533697924636, 0.09968843891666047, 0.7975075113332838, 0.06352276119357349, 0.06352276119357349, 0.1111648320887536, 0.15880690298393374, 0.07940345149196687, 0.09528414179036024, 0.38113656716144095, 0.015880690298393372, 0.04764207089518012, 0.10173113134699703, 0.307112849349425, 0.08253657826265796, 0.08637548887952579, 0.06718093579518672, 0.15931479060001422, 0.017275097775905156, 0.08829494418795969, 0.06718093579518672, 0.023033463701206874, 0.9246030879313938, 0.04623015439656969, 0.9075700628594013, 0.9249157628926723, 0.8667680451333363, 0.09547444561578869, 0.8115327877342039, 0.047737222807894344, 0.9322394908962761, 0.046979165850486664, 0.8926041511592466, 0.8604740730395146, 0.9551440263909202, 0.9274381150891547, 0.028310277541668528, 0.14155138770834264, 0.028310277541668528, 0.028310277541668528, 0.537895273291702, 0.16986166525001115, 0.056620555083337056, 0.2716509204662031, 0.12450667188034309, 0.07923151846930925, 0.056593941763792316, 0.316926073877237, 0.03395636505827539, 0.06791273011655077, 0.011318788352758463, 0.04527515341103385, 0.7552067650478782, 0.11618565616121203, 0.11618565616121203, 0.842985468872556, 0.20212499662293107, 0.12031249798983992, 0.057749999035123165, 0.298374995014803, 0.07699999871349755, 0.07699999871349755, 0.014437499758780791, 0.07218749879390396, 0.05293749911552957, 0.028874999517561582, 0.9002795135494726, 0.8837107003874527, 0.0099146786804692, 0.2710012172661581, 0.003304892893489733, 0.003304892893489733, 0.7006372934198234, 0.003304892893489733, 0.006609785786979466, 0.003304892893489733, 0.9487045156715632, 0.9643183061557181, 0.0654067889587642, 0.0654067889587642, 0.03924407337525852, 0.03924407337525852, 0.01308135779175284, 0.4186034493360909, 0.07848814675051705, 0.01308135779175284, 0.27470851362680965, 0.1812796351821788, 0.07769127222093376, 0.15538254444186753, 0.06474272685077814, 0.025897090740311254, 0.3755078157345132, 0.012948545370155627, 0.025897090740311254, 0.012948545370155627, 0.05179418148062251, 0.9183577037476085, 0.9385585204929371, 0.022139032890458, 0.8634222827278619, 0.044278065780916, 0.044278065780916, 0.022139032890458, 0.9485829645689648, 0.14459491172487504, 0.2260938619698046, 0.10515993579990912, 0.07624095345493412, 0.14459491172487504, 0.09727294061491594, 0.01314499197498864, 0.04995096950495683, 0.11567592937990004, 0.02628998394997728, 0.8412661765301757, 0.8880664155379285, 0.8495149418084764, 0.22796946084977165, 0.13026826334272668, 0.016283532917840834, 0.11398473042488583, 0.008141766458920417, 0.12212649688380625, 0.008141766458920417, 0.17911886209624917, 0.1872606285551696, 0.008141766458920417, 0.030663667939402832, 0.030663667939402832, 0.12265467175761133, 0.030663667939402832, 0.735928030545668, 0.030663667939402832, 0.21785908082332014, 0.07922148393575278, 0.10969128544950385, 0.19348323961231928, 0.10664430529812874, 0.051798662573376814, 0.09902685491969097, 0.050275172497689265, 0.04265772211925149, 0.04875168242200171, 0.8628175388120283, 0.07190146156766902, 0.9005209248242907, 0.9297943502231356, 0.08629887878279803, 0.8629887878279803, 0.8813598785526671, 0.07344665654605559, 0.9643262479093498, 0.8800268283643533, 0.9522651293272366, 0.8844057446497915, 0.9055118833608841, 0.013316351225895353, 0.06658175612947677, 0.09064217223473661, 0.19639137317526267, 0.08157795501126296, 0.06949233204663141, 0.06949233204663141, 0.19639137317526267, 0.04229968037621042, 0.07855654927010507, 0.15107028705789435, 0.024171245929263098, 0.11489553519590692, 0.07659702346393796, 0.07659702346393796, 0.01914925586598449, 0.6893732111754416, 0.94183445803562, 0.036224402232139234, 0.8540588684977992, 0.9154963532037446, 0.9221842176490181, 0.9071349779429823, 0.9199953870962866, 0.05692279486369071, 0.14230698715922677, 0.5407665512050617, 0.028461397431845354, 0.028461397431845354, 0.19922978202291747, 0.9254348377917205, 0.04870709672588003, 0.9382735369685439, 0.8368133070501498, 0.07607393700455907, 0.9643338172360121, 0.1807597955173357, 0.2831903463104926, 0.12050653034489046, 0.09037989775866785, 0.06025326517244523, 0.09640522427591237, 0.11448120382764594, 0.03615195910346714, 0.012050653034489047, 0.060354862228955794, 0.18106458668686737, 0.060354862228955794, 0.6639034845185137, 0.22954389103039557, 0.11477194551519779, 0.09181755641215823, 0.41317900385471207, 0.13772633461823736, 0.9522439543075656, 0.9004256437049108, 0.020319153771230676, 0.6502129206793816, 0.1625532301698454, 0.04063830754246135, 0.020319153771230676, 0.0812766150849227, 0.020319153771230676, 0.06259949501576376, 0.45384633886428727, 0.01564987375394094, 0.05477455813879329, 0.03912468438485235, 0.03129974750788188, 0.06259949501576376, 0.2582229169400255, 0.00782493687697047, 0.01564987375394094, 0.06918487867064899, 0.5765406555887416, 0.03459243933532449, 0.2306162622354966, 0.01153081311177483, 0.04612325244709932, 0.03459243933532449, 0.860096009586171, 0.9076070859856192, 0.3624793084812932, 0.04530991356016165, 0.1585846974605658, 0.21899791554078135, 0.015103304520053885, 0.09817147938035026, 0.0528615658201886, 0.03020660904010777, 0.022654956780080827, 0.9613587241146573, 0.05788091349819906, 0.02894045674909953, 0.8971541592220854, 0.963602338548718, 0.9185238196147069, 0.6964331876119148, 0.1123279334857927, 0.08986234678863417, 0.044931173394317084, 0.0816076861679739, 0.21567745630107385, 0.26813954026619996, 0.01748736132170869, 0.1282406496925304, 0.01748736132170869, 0.17487361321708692, 0.0641203248462652, 0.03497472264341738, 0.005829120440569564, 0.2856025598860471, 0.6936062168661145, 0.7315015496943702, 0.061817032368538326, 0.09272554855280749, 0.061817032368538326, 0.04121135491235888, 0.6272873653294809, 0.003756211768440006, 0.09390529421100015, 0.1352236236638402, 0.007512423536880012, 0.10141771774788015, 0.011268635305320017, 0.003756211768440006, 0.007512423536880012, 0.9003524473975454, 0.9340214512618993, 0.02924486195846799, 0.11697944783387196, 0.08773458587540398, 0.05848972391693598, 0.02924486195846799, 0.02924486195846799, 0.08773458587540398, 0.5556523772108918, 0.5450153785451614, 0.06228747183373273, 0.04671560387529955, 0.06228747183373273, 0.015571867958433183, 0.07785933979216592, 0.07785933979216592, 0.04671560387529955, 0.04671560387529955, 0.01728626007099221, 0.03457252014198442, 0.12100382049694547, 0.08643130035496105, 0.03457252014198442, 0.44944276184579746, 0.10371756042595326, 0.08643130035496105, 0.06914504028396884, 0.10060859711568461, 0.8048687769254769, 0.054965948965274306, 0.7695232855138403, 0.10993189793054861, 0.054965948965274306, 0.27211078737361377, 0.6802769684340344, 0.07505514894165495, 0.11258272341248242, 0.037527574470827475, 0.713023914945722, 0.037527574470827475, 0.9199589229963048, 0.8500504882478238, 0.10200605858973887, 0.008707143977035588, 0.6791572302087758, 0.2873357512421744, 0.008707143977035588, 0.08846452868257125, 0.19462196310165678, 0.053078717209542756, 0.30962585038899937, 0.053078717209542756, 0.008846452868257125, 0.008846452868257125, 0.008846452868257125, 0.25654713317945665, 0.008846452868257125, 0.9322237958854701, 0.9201772127728506, 0.930951412243625, 0.88011328013368, 0.11642785087269078, 0.11642785087269078, 0.038809283624230265, 0.5045206871149934, 0.15523713449692106, 0.05410725447081079, 0.9198233260037834, 0.11895242348488021, 0.11895242348488021, 0.0991270195707335, 0.4559842900253741, 0.1586032313131736, 0.0198254039141467, 0.0198254039141467, 0.940660623595097, 0.8741039820150156, 0.24897278527778452, 0.031121598159723065, 0.18672958895833838, 0.49794557055556904, 0.03913083002363667, 0.9391399205672799, 0.9673999652126768, 0.049797697597585545, 0.2888266460659962, 0.06971677663661976, 0.2390289484684106, 0.009959539519517108, 0.26890756702696195, 0.029878618558551326, 0.019919079039034216, 0.009959539519517108, 0.9297271010367816, 0.01058722247649576, 0.04234888990598304, 0.9316755779316269, 0.9233381564979775, 0.9205847082144436, 0.8888526213417165, 0.8605902888251855, 0.9297307243848002, 0.1772838791706469, 0.05598438289599376, 0.09330730482665626, 0.02799219144799688, 0.009330730482665627, 0.13063022675731878, 0.05598438289599376, 0.3545677583412938, 0.04665365241332813, 0.04665365241332813, 0.9582655965655504, 0.02734914541314479, 0.09116381804381597, 0.02734914541314479, 0.018232763608763195, 0.20967678150077673, 0.17321125428325035, 0.20056039969639514, 0.018232763608763195, 0.009116381804381598, 0.22790954510953992, 0.1825470921378844, 0.24960520761710722, 0.055881762899352365, 0.12666532923853202, 0.10431262407879108, 0.0931362714989206, 0.059607213759309184, 0.033529057739611415, 0.06333266461926601, 0.033529057739611415, 0.8982644579314805, 0.08166040526649822, 0.7706467445011723, 0.036697464023865346, 0.18348732011932672, 0.9321053944058046, 0.957586541855958, 0.9522798849953688, 0.8685270156281952, 0.10624795755013122, 0.14166394340017496, 0.01770799292502187, 0.07083197170008748, 0.12395595047515309, 0.12395595047515309, 0.38957584435048115, 0.03541598585004374, 0.01770799292502187, 0.19798241920845985, 0.014665364385811841, 0.0733268219290592, 0.2859746055233309, 0.014665364385811841, 0.19798241920845985, 0.16131900824393025, 0.04399609315743552, 0.0073326821929059205, 0.0073326821929059205, 0.8864821587834584, 0.05774707818035952, 0.20211477363125832, 0.11549415636071904, 0.5485972427134155, 0.05774707818035952, 0.7464680279071627, 0.028710308765660105, 0.028710308765660105, 0.05742061753132021, 0.11484123506264042, 0.13144668064376674, 0.10223630716737414, 0.09493371379827599, 0.032861670160941686, 0.23368298781114089, 0.10223630716737414, 0.04381556021458892, 0.040164263530039844, 0.014605186738196305, 0.20447261433474828, 0.8549497345793126, 0.049851115073587436, 0.8474689562509864, 0.049851115073587436, 0.9345007973787276, 0.04082764395850849, 0.5920008373983732, 0.32662115166806793, 0.04082764395850849, 0.9140362540529332, 0.07031048108099487, 0.827363278501654, 0.9377639399425797, 0.944706609355709, 0.8664511073227659, 0.9195513423298791, 0.9213175560686276, 0.28578124652209824, 0.6940401701250958, 0.2384100667522161, 0.7152302002566483, 0.9427397567483883, 0.9428035405053612, 0.9586609736070967, 0.03154031988240598, 0.09462095964721795, 0.06308063976481196, 0.09462095964721795, 0.09462095964721795, 0.5992660777657136, 0.17989980308105322, 0.06541811021129208, 0.7195992123242129, 0.03270905510564604, 0.9172438719160206, 0.0521333438160628, 0.0521333438160628, 0.8862668448730676, 0.9364047824914682, 0.8627011132608086, 0.9502312797259647, 0.9189291611497676, 0.4176132050571352, 0.4176132050571352, 0.04913096530083943, 0.012282741325209857, 0.085979189276469, 0.8811384166677126, 0.08811384166677126, 0.9004076315817496, 0.9465368074217184, 0.5885978598090896, 0.1412634863541815, 0.03767026302778174, 0.032961480149309025, 0.09417565756945435, 0.05650539454167261, 0.004708782878472717, 0.014126348635418152, 0.02354391439236359, 0.009417565756945434, 0.06925167304207178, 0.6925167304207178, 0.10387750956310766, 0.03462583652103589, 0.03462583652103589, 0.03462583652103589, 0.835123167902292, 0.05568014781381323, 0.05568014781381323, 0.8352022172071984, 0.05568014781381323, 0.8999611235989968, 0.1689615238675341, 0.06758460954701365, 0.18247844577693684, 0.10813537527522182, 0.2095122895957423, 0.14868614100343003, 0.03379230477350682, 0.027033843818805456, 0.04730922668290955, 0.5169176328087862, 0.20139648031511148, 0.006713216010503716, 0.04699251207352602, 0.14097753622057804, 0.026852864042014864, 0.02013964803151115, 0.026852864042014864, 0.7900768752657709, 0.03555826359976012, 0.9245148535937632, 0.9430084491681431, 0.8765397829729472, 0.243813789413001, 0.11444320727549027, 0.11444320727549027, 0.13434637375818423, 0.10449162403414329, 0.0497579162067349, 0.06468529106875537, 0.03980633296538792, 0.07463687431010235, 0.05473370782740839, 0.2087608290654787, 0.2087608290654787, 0.01815311557091119, 0.07261246228364476, 0.1633780401382007, 0.01815311557091119, 0.027229673356366783, 0.06353590449818916, 0.03630623114182238, 0.18153115570911188, 0.028033652413625983, 0.05606730482725197, 0.6167403530997716, 0.028033652413625983, 0.028033652413625983, 0.11213460965450393, 0.028033652413625983, 0.11213460965450393, 0.832458677673053, 0.9762340045238779, 0.6801009390963783, 0.07374588496225788, 0.06555189774422923, 0.04096993609014327, 0.008193987218028654, 0.049163923308171924, 0.024581961654085962, 0.049163923308171924, 0.8601297815963107, 0.9228187745705034, 0.9421682517943576, 0.8778861852824879, 0.20063665342346015, 0.0868427305862738, 0.16769630733901147, 0.11678849975395442, 0.08384815366950574, 0.16170715350547535, 0.04192407683475287, 0.05989153833536124, 0.04491865375152093, 0.03593492300121674, 0.9347176848831996, 0.8868181548061507, 0.22062340240812325, 0.22062340240812325, 0.043299920098790544, 0.14227116603888323, 0.1773234823093327, 0.03711421722753475, 0.018557108613767376, 0.04536182105587581, 0.06804273158381371, 0.028866613399193698, 0.9506571388644202, 0.15874315201702052, 0.19121334220232017, 0.12627296183172088, 0.10462616837485443, 0.1190573640127654, 0.15513535310754278, 0.03968578800425513, 0.050509184732688346, 0.03607798909477739, 0.018038994547388696, 0.8829383568871789, 0.9098521865990188, 0.017167022388660733, 0.017167022388660733, 0.017167022388660733, 0.8409492533559254, 0.12013560762227506, 0.9447087389082754, 0.3112216766365954, 0.0648378492992907, 0.09077298901900699, 0.08428920408907792, 0.14912705338836862, 0.09725677394893606, 0.038902709579574424, 0.019451354789787212, 0.045386494509503494, 0.09725677394893606, 0.7764104725548209, 0.11646157088322313, 0.0776410472554821, 0.02202702318578104, 0.02202702318578104, 0.04405404637156208, 0.9031079506170226, 0.05035764146756889, 0.025178820733784444, 0.7050069805459644, 0.05035764146756889, 0.12589410366892223, 0.025178820733784444, 0.025178820733784444, 0.24973731650953082, 0.12486865825476541, 0.031217164563691353, 0.5619089621464444, 0.9199060523282688, 0.7731633051285415, 0.06185306441028332, 0.03092653220514166, 0.06185306441028332, 0.06185306441028332, 0.03092653220514166, 0.1635026725020619, 0.10464171040131963, 0.18966310010239182, 0.287764703603629, 0.052320855200659815, 0.17658288630222688, 0.01962032070024743, 0.006540106900082477, 0.24960350322969613, 0.7488105096890884, 0.20917919922848824, 0.13945279948565883, 0.023242133247609806, 0.023242133247609806, 0.5578111979426353, 0.04648426649521961, 0.11481307274517467, 0.8610980455888101, 0.9411698965380553, 0.971615467990889, 0.04136054168771956, 0.062040812531579344, 0.14476189590701846, 0.04136054168771956, 0.08272108337543913, 0.6204081253157935, 0.940368374569549, 0.937354510702274, 0.13151902591674666, 0.026303805183349332, 0.07891141555004799, 0.7102027399504319, 0.026303805183349332, 0.01519193219194686, 0.09115159315168116, 0.01519193219194686, 0.8507482027490242, 0.03038386438389372, 0.35189692587136173, 0.19865149041125257, 0.04540605495114345, 0.14189392172232326, 0.05108181182003638, 0.05108181182003638, 0.08513635303339397, 0.06243332555782224, 0.01702727060667879, 0.9729527872805701, 0.025317588467852252, 0.5316693578248973, 0.22785829621067027, 0.050635176935704504, 0.07595276540355676, 0.07595276540355676, 0.8913893385079306, 0.9643803898122364, 0.12791340720984734, 0.8314371468640077, 0.9303999284025037, 0.25622347272683677, 0.7292514223763816, 0.22317098624611043, 0.13948186640381902, 0.04649395546793967, 0.29756131499481386, 0.13018307531023107, 0.07439032874870347, 0.055792746561527606, 0.009298791093587933, 0.018597582187175866, 0.8800252523975505, 0.8703746626781314, 0.06695189712908703, 0.8255132267820143, 0.924820237359057, 0.9089296062288831, 0.9487420745083379, 0.9397317083707178, 0.28577877864075374, 0.6940341766989734, 0.8971777784067414, 0.0933135198172573, 0.6531946387208011, 0.11664189977157163, 0.11664189977157163, 0.9387653174351214, 0.9452054543564813, 0.8913225770112634, 0.33713694341716566, 0.049946213839580096, 0.08740587421926517, 0.16232519497863532, 0.012486553459895024, 0.28719072957758557, 0.06243276729947512, 0.012486553459895024, 0.417979234330437, 0.006897347101162326, 0.29520645592974754, 0.06621453217115833, 0.024830449564184374, 0.10897808419836476, 0.006897347101162326, 0.04966089912836875, 0.013794694202324652, 0.009656285941627256, 0.9709195428086872, 0.01703367618962609, 0.12578226294731512, 0.1677096839297535, 0.618429459490966, 0.010481855245609593, 0.020963710491219187, 0.05240927622804797, 0.9398868699012879, 0.8288035714158758, 0.04604464285643754, 0.04604464285643754, 0.9184897109388238, 0.9558952405249359, 0.9503227911830797, 0.9320526248320118, 0.1211044473479686, 0.11559969974124275, 0.23670414708921134, 0.08257121410088768, 0.14312343777487196, 0.15413293298832367, 0.04403798085380676, 0.04403798085380676, 0.016514242820177535, 0.03302848564035507, 0.17131290754535267, 0.10649180739305705, 0.09954668951959682, 0.1273271610134378, 0.10417676810190364, 0.10417676810190364, 0.04167070724076146, 0.17362794683650606, 0.02083535362038073, 0.0486158251142217, 0.15469661150065897, 0.05156553716688632, 0.12031958672273474, 0.03437702477792421, 0.07734830575032949, 0.41252429733509055, 0.12031958672273474, 0.02578276858344316, 0.008594256194481053, 0.8934963671789821, 0.15727270202842916, 0.23029217082734268, 0.0954869976601177, 0.04493505772240833, 0.30331163962625624, 0.04493505772240833, 0.05616882215301042, 0.022467528861204164, 0.04493505772240833, 0.8800283530611214, 0.9183622198952084, 0.857646769643095, 0.04362391144141314, 0.01454130381380438, 0.2762847724622832, 0.01454130381380438, 0.6252760639935884, 0.8158204908130535, 0.08158204908130536, 0.8979445067863677, 0.9293852783592473, 0.1759282299206986, 0.407833623907074, 0.07996737723668118, 0.06397390178934494, 0.015993475447336234, 0.03998368861834059, 0.07197063951301307, 0.023990213171004353, 0.07197063951301307, 0.047980426342008706, 0.059434083164059334, 0.2575476937109238, 0.09905680527343222, 0.5547181095312205, 0.019811361054686446, 0.019811361054686446, 0.1949815960376932, 0.23397791524523184, 0.12255986036655, 0.05570902743934091, 0.10027624939081364, 0.061279930183275, 0.016712708231802275, 0.16712708231802273, 0.027854513719670456, 0.03342541646360455, 0.018036948210541345, 0.03607389642108269, 0.6493301355794884, 0.1262586374737894, 0.07214779284216538, 0.054110844631624036, 0.03607389642108269, 0.9184522159046336, 0.9182389225524641, 0.2089154102468951, 0.04431539005237169, 0.10762309012718839, 0.0633077000748167, 0.16460002019452344, 0.2342384902768218, 0.03165385003740835, 0.03165385003740835, 0.03165385003740835, 0.08230001009726172, 0.8870841673712214, 0.05913894449141476, 0.9517683059926918], \"Term\": [\"absolute_b\", \"absolute_b\", \"actin\", \"ad\", \"ad\", \"ad\", \"ad\", \"ad\", \"ad\", \"advertising\", \"advertising\", \"aerator\", \"agriculture\", \"agriculture\", \"agriculture\", \"aguilar\", \"aguilar\", \"alexa_demie\", \"all_cdc\", \"all_cdc\", \"alondradessy\", \"alondradessy\", \"alondradessy\", \"also_serve\", \"altitude\", \"always\", \"always\", \"always\", \"always\", \"always\", \"always\", \"always\", \"always\", \"always\", \"always\", \"always_consult\", \"amaarae\", \"among_us\", \"among_us\", \"among_us\", \"among_us\", \"among_us\", \"animation\", \"animation\", \"animation\", \"animation\", \"animation\", \"animation\", \"arepa\", \"arepas\", \"arnold_sister\", \"asmongold\", \"asmr\", \"asmr\", \"asmr\", \"asmr\", \"asmr\", \"asmr\", \"asmr\", \"asmr_microphone\", \"aspyn\", \"audrey\", \"audrey\", \"auntie\", \"authority\", \"avenger\", \"avenger\", \"avenger\", \"babish\", \"babish\", \"babish\", \"babish\", \"babish\", \"babish\", \"babish_website\", \"babish_website\", \"babish_website\", \"babish_website\", \"babish_website\", \"baby\", \"baby\", \"baby\", \"baby\", \"baby\", \"baby\", \"baby\", \"baby\", \"background\", \"background\", \"background\", \"background\", \"backyard\", \"backyard\", \"backyard\", \"backyard\", \"backyard\", \"bankroll\", \"bass\", \"bass_fishing\", \"batman\", \"batmobile\", \"beauty\", \"beauty\", \"beauty\", \"beauty\", \"beauty\", \"beauty\", \"beauty\", \"becky_johnson\", \"beem_aka\", \"beem_team\", \"believe\", \"believe\", \"believe\", \"believe\", \"believe\", \"believe\", \"bell_icon\", \"bell_icon\", \"bell_icon\", \"bell_icon\", \"bell_next\", \"ben_azelart\", \"ben_azelart\", \"benny\", \"benny\", \"benny\", \"benny\", \"benny_alo\", \"benny_soliven\", \"best_known\", \"bic\", \"big\", \"big\", \"big\", \"big\", \"big\", \"big\", \"big\", \"big\", \"big\", \"big_scarr\", \"bigwalkdog\", \"birth\", \"birth\", \"birth\", \"birth\", \"blended\", \"blind\", \"blind\", \"boba\", \"boil\", \"boil\", \"boot\", \"botch\", \"bottle_taste\", \"boxing\", \"boxing\", \"boxing\", \"boxing\", \"boy\", \"boy\", \"boy\", \"boy\", \"boy\", \"boy\", \"boy\", \"boy\", \"boy\", \"branch\", \"break\", \"break\", \"break\", \"break\", \"break\", \"break\", \"break\", \"break\", \"break\", \"breakdown\", \"breakdown\", \"brent\", \"brent\", \"bretman_bretman\", \"bretman_bretman\", \"brittany\", \"brittney\", \"brittney\", \"build\", \"build\", \"build\", \"build\", \"build\", \"build\", \"build\", \"build\", \"build\", \"build\", \"building\", \"building\", \"building\", \"building\", \"building\", \"bulking\", \"bungee\", \"bunk\", \"burger\", \"burger\", \"burger\", \"burger\", \"burger\", \"burrr\", \"business\", \"business\", \"business\", \"business\", \"business\", \"business\", \"business\", \"business\", \"business\", \"business\", \"business_relate\", \"buy\", \"buy\", \"buy\", \"buy\", \"buy\", \"buy\", \"buy\", \"buy\", \"buy\", \"buzzfee\", \"buzzfee\", \"buzzfee\", \"cam\", \"cam\", \"cam\", \"camera\", \"camera\", \"camera\", \"camera\", \"camera\", \"camera\", \"camera\", \"camera\", \"camera\", \"can_notice\", \"cannot_possibly\", \"capron\", \"capron\", \"car\", \"car\", \"car\", \"car\", \"car\", \"car\", \"car\", \"cardboard\", \"cardboard\", \"cardboard\", \"carman\", \"carman\", \"caster\", \"cater\", \"challenge\", \"challenge\", \"challenge\", \"challenge\", \"challenge\", \"challenge\", \"challenge\", \"challenge\", \"challenge\", \"challenge\", \"changer\", \"chapter_problem\", \"chard\", \"check_out\", \"check_out\", \"check_out\", \"check_out\", \"check_out\", \"check_out\", \"check_out\", \"check_out\", \"check_out\", \"check_out\", \"chief\", \"chief\", \"chilly\", \"click\", \"click\", \"click\", \"click\", \"click\", \"click\", \"click\", \"click\", \"click\", \"click\", \"clip\", \"clip\", \"clip\", \"clip\", \"clip\", \"clip\", \"clout\", \"cocoa\", \"cold_case\", \"colonial\", \"com\", \"com\", \"com\", \"com\", \"com\", \"com\", \"com\", \"com\", \"com\", \"come\", \"come\", \"come\", \"come\", \"come\", \"come\", \"come\", \"come\", \"come\", \"come\", \"come_join\", \"come_join\", \"comedy_vine\", \"comedy_vine\", \"comfacebook\", \"comfacebook\", \"comfor\", \"comment_share\", \"comment_share\", \"con_queso\", \"constructive\", \"contact\", \"contact\", \"contact\", \"contact\", \"contact\", \"contact\", \"contact\", \"contact\", \"container\", \"content\", \"content\", \"content\", \"content\", \"content\", \"content\", \"content\", \"content\", \"content\", \"content\", \"content_owner\", \"contractor\", \"cook\", \"cook\", \"cook\", \"cook\", \"cook\", \"cook\", \"cook\", \"cook\", \"corey\", \"corey\", \"corey\", \"corey\", \"corey\", \"corey\", \"couple\", \"couple\", \"couple\", \"couple\", \"couple\", \"couple\", \"couple\", \"couple\", \"couple\", \"courage\", \"couragous\", \"crazy\", \"crazy\", \"crazy\", \"crazy\", \"crazy\", \"crazy\", \"crazy\", \"crazy\", \"create\", \"create\", \"create\", \"create\", \"create\", \"create\", \"crew\", \"crew\", \"crew\", \"crew\", \"crew\", \"crew_pound\", \"crown\", \"custom_lipstick\", \"customize\", \"customize\", \"daily\", \"daily\", \"daily\", \"daily\", \"daily\", \"daily\", \"daily_bump\", \"daisy_marquez\", \"day\", \"day\", \"day\", \"day\", \"day\", \"day\", \"day\", \"day\", \"day\", \"day\", \"dear\", \"dear\", \"dear\", \"delivery\", \"delivery\", \"delivery\", \"deshae\", \"dessert\", \"dessert\", \"dexter\", \"dexter\", \"diaper\", \"digital\", \"digital\", \"digital\", \"director\", \"director\", \"director\", \"director\", \"director\", \"disneyland\", \"dispute\", \"dixie\", \"dixie\", \"dixie\", \"dixie\", \"dixie\", \"dixie\", \"dixie_amelio\", \"dixie_amelio\", \"dixie_amelio\", \"dixie_amelio\", \"dixie_amelio\", \"dog\", \"dog\", \"dog\", \"dog\", \"dog\", \"dog\", \"dog\", \"dog\", \"doll\", \"doll\", \"draftking\", \"dream\", \"dream\", \"dream\", \"dream\", \"dream\", \"dream\", \"dream\", \"dream\", \"dream\", \"dream\", \"dropout\", \"dry_age\", \"dry_age\", \"dub\", \"ducks_final\", \"dude_perfect\", \"dude_perfect\", \"dunlop\", \"eat\", \"eat\", \"eat\", \"eat\", \"eat\", \"eat\", \"eat\", \"eat\", \"eat\", \"eat\", \"eating_seafood\", \"ellie\", \"ellie\", \"else_ill\", \"elsy_louie\", \"emma\", \"emma\", \"empty\", \"empty\", \"empty\", \"empty\", \"enchant\", \"engagement\", \"engagement\", \"engagement\", \"engagement\", \"engine\", \"engine\", \"engine\", \"engine\", \"engine\", \"ensemble_cast\", \"entrepreneur\", \"episode\", \"episode\", \"episode\", \"episode\", \"episode\", \"episode\", \"episode\", \"episode\", \"episode\", \"episode\", \"episodes_create\", \"ethan_aguilar\", \"ethan_aguilar\", \"euphoria\", \"euphoria\", \"euphoria_hbo\", \"euphoriahbo\", \"even_explain\", \"excavator\", \"expensive\", \"expensive\", \"expensive\", \"expensive\", \"extreme_hide\", \"face\", \"face\", \"face\", \"face\", \"face\", \"face\", \"face\", \"face\", \"face\", \"face\", \"fact\", \"fact\", \"fact\", \"fact\", \"fact\", \"fact\", \"fact\", \"fair_use\", \"fair_use\", \"fair_use\", \"fair_use\", \"fallon\", \"fallon\", \"fallon\", \"fallon\", \"fam_juju\", \"family\", \"family\", \"family\", \"family\", \"family\", \"family\", \"family\", \"family\", \"family\", \"farmer\", \"farmer\", \"farmer\", \"farmer\", \"farmer\", \"fashion\", \"fashion\", \"fashion\", \"fashion\", \"fashion\", \"fashion\", \"fashion\", \"fashion\", \"fashion\", \"feastable\", \"ferran\", \"fight\", \"fight\", \"fight\", \"fight\", \"fight\", \"fight\", \"fight\", \"fight\", \"fight\", \"find\", \"find\", \"find\", \"find\", \"find\", \"find\", \"find\", \"find\", \"find\", \"find\", \"first\", \"first\", \"first\", \"first\", \"first\", \"first\", \"first\", \"first\", \"first\", \"first\", \"fishing_product\", \"fizzle\", \"food\", \"food\", \"food\", \"food\", \"food\", \"food\", \"food\", \"food\", \"food\", \"food\", \"foogiano\", \"fortnite\", \"fortnite\", \"found_watche\", \"free\", \"free\", \"free\", \"free\", \"free\", \"free\", \"free\", \"free\", \"free\", \"friend\", \"friend\", \"friend\", \"friend\", \"friend\", \"friend\", \"friend\", \"friend\", \"friend\", \"friend\", \"friendly_smile\", \"friends_point\", \"fuck\", \"fuck\", \"fuck\", \"fun\", \"fun\", \"fun\", \"fun\", \"fun\", \"fun\", \"fun\", \"fun\", \"fun\", \"fun\", \"funny\", \"funny\", \"funny\", \"funny\", \"funny\", \"funny\", \"funny\", \"funny\", \"funny\", \"funny\", \"future\", \"future\", \"future\", \"future\", \"future\", \"future\", \"future\", \"future\", \"gadget\", \"gadget\", \"game\", \"game\", \"game\", \"game\", \"game\", \"game\", \"game\", \"game\", \"game\", \"game_changer\", \"gang\", \"gang\", \"gang\", \"gang\", \"gang\", \"generate\", \"get\", \"get\", \"get\", \"get\", \"get\", \"get\", \"get\", \"get\", \"get\", \"get\", \"get_shout\", \"get_shout\", \"getty\", \"getty\", \"getty\", \"giant\", \"giant\", \"giant\", \"giant\", \"giant\", \"giant\", \"giant\", \"giant\", \"gimme\", \"girl\", \"girl\", \"girl\", \"girl\", \"girl\", \"girl\", \"girl\", \"girl\", \"girl\", \"girl\", \"gmail_commake\", \"go\", \"go\", \"go\", \"go\", \"go\", \"go\", \"go\", \"go\", \"go\", \"go\", \"god_bless\", \"golden_egg\", \"golf\", \"golf\", \"good\", \"good\", \"good\", \"good\", \"good\", \"good\", \"good\", \"good\", \"good\", \"good\", \"great\", \"great\", \"great\", \"great\", \"great\", \"great\", \"great\", \"great\", \"great\", \"great\", \"grim\", \"grow\", \"grow\", \"grow\", \"grow\", \"grow\", \"grow\", \"grow\", \"grow\", \"gucci_mane\", \"guga_food\", \"guy\", \"guy\", \"guy\", \"guy\", \"guy\", \"guy\", \"guy\", \"guy\", \"guy\", \"guy\", \"hack\", \"hack\", \"hack\", \"hack\", \"hack\", \"hack\", \"had_lot\", \"hair\", \"hair\", \"hair\", \"hair\", \"hair\", \"hair\", \"hair\", \"hair\", \"happy\", \"happy\", \"happy\", \"happy\", \"happy\", \"happy\", \"happy\", \"happy\", \"hbo\", \"hbo\", \"headlight\", \"health\", \"health\", \"health\", \"help\", \"help\", \"help\", \"help\", \"help\", \"help\", \"help\", \"help\", \"help\", \"help\", \"hey_guy\", \"hey_guy\", \"home\", \"home\", \"home\", \"home\", \"home\", \"home\", \"home\", \"home\", \"home\", \"hope\", \"hope\", \"hope\", \"hope\", \"hope\", \"hope\", \"hope\", \"hope\", \"hope\", \"hope\", \"hot\", \"hot\", \"hot\", \"hot\", \"hot\", \"hot\", \"hot\", \"hot\", \"hotboy_we\", \"hotboy_wes\", \"hour\", \"hour\", \"hour\", \"hour\", \"hour\", \"hour\", \"hour\", \"hour\", \"hour\", \"hour\", \"house\", \"house\", \"house\", \"house\", \"house\", \"house\", \"house\", \"house\", \"house\", \"house\", \"huggie\", \"hungry_syrian\", \"hunter\", \"icy\", \"icy\", \"ii_mm\", \"imposter\", \"imposter_iq\", \"include_drake\", \"instagrams_so\", \"intent\", \"invade\", \"io\", \"io\", \"io\", \"israeli_serie\", \"issa\", \"jacquard\", \"james_charle\", \"james_charle\", \"james_charle\", \"james_charle\", \"james_charle\", \"jar\", \"jeremy_hutchin\", \"jokes_funny\", \"jokes_funny\", \"judge\", \"juicy_question\", \"kale\", \"kali_uchis\", \"keep\", \"keep\", \"keep\", \"keep\", \"keep\", \"keep\", \"keep\", \"keep\", \"keep\", \"keep_growing\", \"kelly\", \"kelly\", \"kendall_rae\", \"kid\", \"kid\", \"kid\", \"kid\", \"kid\", \"kid\", \"kid\", \"kid\", \"killin\", \"kitchen\", \"kitchen\", \"kitchen\", \"kitchen\", \"kitchen\", \"knife\", \"knife\", \"know\", \"know\", \"know\", \"know\", \"know\", \"know\", \"know\", \"know\", \"know\", \"know\", \"ksi\", \"labor\", \"labor\", \"labor\", \"labor\", \"lady\", \"lady\", \"lady\", \"lady\", \"landon\", \"landon\", \"lanning\", \"lash\", \"lash\", \"last\", \"last\", \"last\", \"last\", \"last\", \"last\", \"last\", \"last\", \"last\", \"last\", \"late\", \"late\", \"late\", \"late\", \"late\", \"late\", \"late\", \"late\", \"late\", \"laugh_challenge\", \"laugh_challenge\", \"learn\", \"learn\", \"learn\", \"learn\", \"learn\", \"learn\", \"learn\", \"learn\", \"learn\", \"learn\", \"leave\", \"leave\", \"leave\", \"leave\", \"leave\", \"leave\", \"leave\", \"leave\", \"leave\", \"leave\", \"liability\", \"life\", \"life\", \"life\", \"life\", \"life\", \"life\", \"life\", \"life\", \"life\", \"life\", \"lighthouse\", \"lil_durk\", \"line\", \"line\", \"line\", \"line\", \"line\", \"link\", \"link\", \"link\", \"link\", \"link\", \"link\", \"link\", \"link\", \"link\", \"link\", \"live\", \"live\", \"live\", \"live\", \"live\", \"live\", \"live\", \"live\", \"live\", \"live\", \"lizze\", \"log\", \"lone_fox\", \"long_it\", \"look\", \"look\", \"look\", \"look\", \"look\", \"look\", \"look\", \"look\", \"look\", \"look\", \"lotta\", \"love\", \"love\", \"love\", \"love\", \"love\", \"love\", \"love\", \"love\", \"love\", \"love\", \"ly_dpstore\", \"mac_cheese\", \"mac_cheese\", \"main\", \"main\", \"main\", \"main\", \"main\", \"main\", \"main\", \"main\", \"main\", \"make\", \"make\", \"make\", \"make\", \"make\", \"make\", \"make\", \"make\", \"make\", \"make\", \"makeup_tutorial\", \"makeup_tutorial\", \"maldive\", \"manhunt\", \"margaret\", \"marvel\", \"marvel\", \"marvel\", \"marvel_relate\", \"mask\", \"mask\", \"mattie\", \"mbeem\", \"meatball\", \"medium\", \"medium\", \"medium\", \"medium\", \"medium\", \"medium\", \"medium\", \"meet\", \"meet\", \"meet\", \"meet\", \"meet\", \"meet\", \"meet\", \"meet\", \"meet\", \"melt\", \"melt\", \"melt\", \"memorial\", \"merch\", \"merch\", \"merch\", \"merch\", \"merch\", \"merch\", \"merch\", \"merch\", \"merch\", \"merch\", \"merch_bit\", \"midnight\", \"minecraft\", \"minecraft\", \"minecraft\", \"minecraft\", \"minecraft\", \"minecraft\", \"minecraft\", \"minecraft\", \"moliy\", \"moments_crazi\", \"money\", \"money\", \"money\", \"money\", \"money\", \"money\", \"money\", \"money\", \"money\", \"month\", \"month\", \"month\", \"month\", \"month\", \"month\", \"month\", \"month\", \"month\", \"month\", \"moolah\", \"motherhood\", \"mrbeast\", \"mrbeast\", \"mrbeast\", \"mrbeast\", \"mrbeast\", \"mrbeast_burger\", \"music\", \"music\", \"music\", \"music\", \"music\", \"music\", \"music\", \"music\", \"music\", \"music\", \"nadeshot\", \"narrator\", \"nathaly\", \"need\", \"need\", \"need\", \"need\", \"need\", \"need\", \"need\", \"need\", \"need\", \"need\", \"network\", \"network\", \"network\", \"network\", \"network\", \"network\", \"new\", \"new\", \"new\", \"new\", \"new\", \"new\", \"new\", \"new\", \"new\", \"new\", \"newborn\", \"newborn\", \"newest_vid\", \"nika_king\", \"nikki_melody\", \"nikki_melody\", \"ninja\", \"ninja\", \"no_sweare\", \"not_hesitate\", \"oahu\", \"oddinary\", \"off_grid\", \"off_grid\", \"off_grid\", \"official\", \"official\", \"official\", \"official\", \"official\", \"official\", \"official\", \"official\", \"official\", \"official\", \"online\", \"online\", \"online\", \"online\", \"online\", \"orange\", \"orange\", \"orchard\", \"organizer\", \"outta\", \"overtime_sparky\", \"paddle\", \"paint\", \"paint\", \"paint\", \"paint\", \"paint\", \"paint\", \"panda\", \"panda\", \"panel\", \"parker\", \"parker\", \"parody_troll\", \"part\", \"part\", \"part\", \"part\", \"part\", \"part\", \"part\", \"part\", \"part\", \"partnership\", \"partnership\", \"partnership\", \"partnership\", \"pay\", \"pay\", \"pay\", \"pay\", \"pay\", \"pineapple\", \"ping_pong\", \"pizza\", \"pizza\", \"pizza\", \"pizza\", \"pizza\", \"pizza\", \"pizza\", \"play\", \"play\", \"play\", \"play\", \"play\", \"play\", \"play\", \"play\", \"play\", \"play\", \"playlist\", \"playlist\", \"playlist\", \"playlist\", \"playlist\", \"playlist\", \"playlist\", \"playtime\", \"plus_level\", \"podcast\", \"podcast\", \"podcast\", \"podcast\", \"podcast\", \"podcast\", \"podcast\", \"podcast\", \"podcast\", \"pokimane\", \"pond\", \"pond\", \"pond\", \"pond_build\", \"poppin\", \"pov\", \"pov\", \"pov\", \"pov\", \"prank\", \"prank\", \"prank\", \"prank\", \"prank\", \"prank\", \"prank\", \"prank\", \"prank\", \"prank\", \"precaution\", \"precaution\", \"pregnancy\", \"pregnancy\", \"pregnancy\", \"pregnancy\", \"pregnancy\", \"pregnant\", \"pregnant\", \"pregnant\", \"pregnant\", \"pregnant\", \"pregnant\", \"pregnant\", \"pregnant\", \"pregnant\", \"prides_ourselve\", \"printer\", \"produce\", \"produce\", \"produce\", \"produce\", \"produce\", \"produce\", \"produce\", \"produce\", \"product\", \"product\", \"product\", \"product\", \"product\", \"product\", \"product\", \"product\", \"product\", \"production\", \"production\", \"production\", \"production\", \"production\", \"production\", \"production\", \"production\", \"production\", \"promo\", \"promo\", \"property\", \"property\", \"property\", \"property\", \"punch_that\", \"punch_that\", \"puppy\", \"puppy\", \"puppy\", \"puppy\", \"puppy\", \"purse\", \"quit\", \"quit\", \"real_life\", \"real_life\", \"real_life\", \"real_life\", \"really\", \"really\", \"really\", \"really\", \"really\", \"really\", \"really\", \"really\", \"really\", \"really\", \"really_grateful\", \"reaper\", \"reich_game\", \"remit\", \"remix\", \"remix\", \"remix\", \"remix\", \"remix\", \"resin\", \"resin\", \"review\", \"review\", \"review\", \"review\", \"review\", \"review\", \"review\", \"rim\", \"roadtrip\", \"roblox\", \"roblox\", \"roblox\", \"roblox\", \"roblox_bedwar\", \"roblox_bedwar\", \"ron_leshem\", \"room\", \"room\", \"room\", \"room\", \"room\", \"room\", \"room\", \"room\", \"room\", \"roosevelt\", \"royalty\", \"royalty\", \"royalty\", \"royalty_royal\", \"rydel_lynch\", \"ryder\", \"sad_girlz\", \"sam_levinson\", \"scene\", \"scene\", \"scene\", \"scene\", \"scene\", \"scene\", \"scene\", \"scene\", \"scene\", \"scene\", \"seafood_boil\", \"season\", \"season\", \"season\", \"season\", \"season\", \"season\", \"season\", \"season\", \"season\", \"season\", \"see\", \"see\", \"see\", \"see\", \"see\", \"see\", \"see\", \"see\", \"see\", \"see\", \"seed\", \"seed\", \"seek\", \"seek\", \"seek\", \"selena_gomez\", \"server\", \"shangerdanger\", \"shark_tank\", \"shoot\", \"shoot\", \"shoot\", \"shoot\", \"shoot\", \"shoot\", \"shoot\", \"shoot\", \"shoot\", \"shop\", \"shop\", \"shop\", \"shop\", \"shop\", \"shop\", \"shop\", \"shop\", \"shop\", \"shop\", \"shopee\", \"shot\", \"shot\", \"shot\", \"shot\", \"shot\", \"shoutout\", \"shoutout\", \"shoutout\", \"shoutout\", \"shoutout\", \"show\", \"show\", \"show\", \"show\", \"show\", \"show\", \"show\", \"show\", \"show\", \"show\", \"shrek\", \"shyla\", \"shyla\", \"shyla\", \"shyla_through\", \"sideman\", \"sideman\", \"sideman\", \"sideman\", \"simpson\", \"simpson\", \"sin_city\", \"sipover\", \"ski_mask\", \"skim\", \"skit_vine\", \"smart_appliance\", \"smosh_clothing\", \"smosh_clothing\", \"smosh_game\", \"smosh_game\", \"snow_bike\", \"snowmobile\", \"solar\", \"space\", \"space\", \"space\", \"space\", \"space\", \"space\", \"speed\", \"speed\", \"speed\", \"speed\", \"speed_watche\", \"spencer\", \"spencer\", \"spencer\", \"spike\", \"spongebob\", \"squid_game\", \"stay_connected\", \"steak\", \"steak\", \"steak\", \"steak\", \"steak\", \"stereo\", \"stereo\", \"still_reade\", \"stokes_twin\", \"story\", \"story\", \"story\", \"story\", \"story\", \"story\", \"story\", \"story\", \"story\", \"story\", \"street\", \"street\", \"street\", \"street\", \"street\", \"street\", \"stroke\", \"structure\", \"structure\", \"structure\", \"structure\", \"supernatural\", \"support\", \"support\", \"support\", \"support\", \"support\", \"support\", \"support\", \"support\", \"support\", \"surprise\", \"surprise\", \"surprise\", \"surprise\", \"surprise\", \"surprise\", \"surprise\", \"surprise\", \"swpah\", \"sypherpk\", \"sypherpk\", \"tacos\", \"tacos_main\", \"take\", \"take\", \"take\", \"take\", \"take\", \"take\", \"take\", \"take\", \"take\", \"take\", \"talk\", \"talk\", \"talk\", \"talk\", \"talk\", \"talk\", \"talk\", \"talk\", \"talk\", \"talk\", \"tank\", \"tank\", \"tank\", \"tank\", \"tank\", \"tank\", \"tank\", \"tank\", \"tbsp\", \"teen_mom\", \"tell\", \"tell\", \"tell\", \"tell\", \"tell\", \"tell\", \"tell\", \"tell\", \"tenet\", \"tentacle\", \"th_century\", \"th_generation\", \"thank\", \"thank\", \"thank\", \"thank\", \"thank\", \"thank\", \"thank\", \"thank\", \"thank\", \"thank\", \"things_mystery\", \"thrift\", \"tiktok\", \"tiktok\", \"tiktok\", \"tiktok\", \"tiktok\", \"tiktok\", \"tiktok\", \"tiktok\", \"tiktok\", \"tiktok\", \"tile\", \"time\", \"time\", \"time\", \"time\", \"time\", \"time\", \"time\", \"time\", \"time\", \"time\", \"tink\", \"tiny\", \"tiny\", \"tiny\", \"tiny\", \"tire\", \"tire\", \"tldr\", \"today\", \"today\", \"today\", \"today\", \"today\", \"today\", \"today\", \"today\", \"today\", \"today\", \"toilet\", \"toilet\", \"toilet\", \"tonight_show\", \"tonight_show\", \"tonight_show\", \"tonight_show\", \"tool\", \"tool\", \"tool\", \"tool\", \"tool\", \"tool\", \"tool\", \"toothbrush\", \"toothbrush\", \"toothbrush\", \"toothbrush\", \"tote\", \"touch\", \"touch\", \"touch\", \"touch\", \"touch\", \"touch\", \"tour\", \"tour\", \"tour\", \"tour\", \"tour\", \"tour\", \"tour\", \"tour\", \"trampoline\", \"trampoline\", \"trap\", \"trap\", \"trap\", \"trap\", \"trap\", \"trap\", \"trent\", \"trent\", \"trentandallie\", \"trey_kennedy\", \"trick\", \"trick\", \"trick\", \"trick\", \"trick\", \"trick\", \"trick_shot\", \"trucking\", \"true_crime\", \"true_crime\", \"true_crime\", \"true_crime\", \"true_crime\", \"try_not\", \"try_not\", \"try_not\", \"try_not\", \"try_not\", \"turn\", \"turn\", \"turn\", \"turn\", \"turn\", \"turn\", \"turn\", \"turn\", \"turn\", \"two_pet\", \"tyler\", \"tyler\", \"tyler\", \"tyler\", \"tyler\", \"tyler\", \"ultrasound\", \"uncontaine\", \"unsolved\", \"unsolved\", \"unsolved_true\", \"unspeakable\", \"unspeakable\", \"update\", \"update\", \"update\", \"update\", \"update\", \"update\", \"update\", \"update\", \"update\", \"used_fall\", \"valentine\", \"valentine\", \"vanlife\", \"vanwive\", \"vase\", \"veggie\", \"venom\", \"very_limited\", \"very_limited\", \"vgg\", \"via_warner\", \"via_warner\", \"via_warner\", \"via_warner\", \"vice_grip\", \"videos_stalk\", \"vintage\", \"viral\", \"viral\", \"viral\", \"viral\", \"viral\", \"viral\", \"viral\", \"viral\", \"vlog\", \"vlog\", \"vlog\", \"vlog\", \"vlog\", \"vlog\", \"vlog\", \"vlog\", \"vlog\", \"vlog\", \"vogue\", \"vogue\", \"voice\", \"voice\", \"voice\", \"voice\", \"voice\", \"voice\", \"vory\", \"wagyu\", \"wagyu\", \"wagyu\", \"walkdog\", \"wandavision\", \"wanderer\", \"wanna_reach\", \"want\", \"want\", \"want\", \"want\", \"want\", \"want\", \"want\", \"want\", \"want\", \"want\", \"watch\", \"watch\", \"watch\", \"watch\", \"watch\", \"watch\", \"watch\", \"watch\", \"watch\", \"watch\", \"water\", \"water\", \"water\", \"water\", \"water\", \"water\", \"water\", \"water\", \"water\", \"water_part\", \"way\", \"way\", \"way\", \"way\", \"way\", \"way\", \"way\", \"way\", \"way\", \"way_infringe\", \"wayi\", \"webtoon\", \"wedding\", \"wedding\", \"wedding\", \"wedding\", \"wedding\", \"wellness\", \"wellness\", \"where_matthew\", \"wildcat\", \"win\", \"win\", \"win\", \"win\", \"win\", \"win\", \"win\", \"win\", \"win\", \"win\", \"wood\", \"wood\", \"wood\", \"wood\", \"wood\", \"wood\", \"world\", \"world\", \"world\", \"world\", \"world\", \"world\", \"world\", \"world\", \"world\", \"world\", \"worth\", \"worth\", \"worth\", \"worth\", \"worth\", \"worth\", \"worth\", \"yeahi\", \"yeahjust\", \"year\", \"year\", \"year\", \"year\", \"year\", \"year\", \"year\", \"year\", \"year\", \"year\", \"yurt\", \"yurt\", \"zach_bryan\"]}, \"R\": 30, \"lambda.step\": 0.01, \"plot.opts\": {\"xlab\": \"PC1\", \"ylab\": \"PC2\"}, \"topic.order\": [3, 4, 8, 7, 9, 2, 1, 6, 10, 5]};\n",
       "\n",
       "function LDAvis_load_lib(url, callback){\n",
       "  var s = document.createElement('script');\n",
       "  s.src = url;\n",
       "  s.async = true;\n",
       "  s.onreadystatechange = s.onload = callback;\n",
       "  s.onerror = function(){console.warn(\"failed to load library \" + url);};\n",
       "  document.getElementsByTagName(\"head\")[0].appendChild(s);\n",
       "}\n",
       "\n",
       "if(typeof(LDAvis) !== \"undefined\"){\n",
       "   // already loaded: just create the visualization\n",
       "   !function(LDAvis){\n",
       "       new LDAvis(\"#\" + \"ldavis_el842821687710362089520825250\", ldavis_el842821687710362089520825250_data);\n",
       "   }(LDAvis);\n",
       "}else if(typeof define === \"function\" && define.amd){\n",
       "   // require.js is available: use it to load d3/LDAvis\n",
       "   require.config({paths: {d3: \"https://d3js.org/d3.v5\"}});\n",
       "   require([\"d3\"], function(d3){\n",
       "      window.d3 = d3;\n",
       "      LDAvis_load_lib(\"https://cdn.jsdelivr.net/gh/bmabey/pyLDAvis@3.3.1/pyLDAvis/js/ldavis.v3.0.0.js\", function(){\n",
       "        new LDAvis(\"#\" + \"ldavis_el842821687710362089520825250\", ldavis_el842821687710362089520825250_data);\n",
       "      });\n",
       "    });\n",
       "}else{\n",
       "    // require.js not available: dynamically load d3 & LDAvis\n",
       "    LDAvis_load_lib(\"https://d3js.org/d3.v5.js\", function(){\n",
       "         LDAvis_load_lib(\"https://cdn.jsdelivr.net/gh/bmabey/pyLDAvis@3.3.1/pyLDAvis/js/ldavis.v3.0.0.js\", function(){\n",
       "                 new LDAvis(\"#\" + \"ldavis_el842821687710362089520825250\", ldavis_el842821687710362089520825250_data);\n",
       "            })\n",
       "         });\n",
       "}\n",
       "</script>"
      ],
      "text/plain": [
       "PreparedData(topic_coordinates=              x         y  topics  cluster       Freq\n",
       "topic                                                \n",
       "2      0.095848 -0.025386       1        1  16.983152\n",
       "3     -0.042450  0.068777       2        1  13.365398\n",
       "7      0.083801 -0.057555       3        1  11.449583\n",
       "6      0.022258  0.045364       4        1  10.563383\n",
       "8     -0.007122 -0.095423       5        1  10.093363\n",
       "1      0.077876  0.010134       6        1  10.058212\n",
       "0     -0.175662 -0.092679       7        1   8.228405\n",
       "5      0.063131 -0.027334       8        1   8.191059\n",
       "9     -0.035326  0.159076       9        1   5.703309\n",
       "4     -0.082353  0.015026      10        1   5.364136, topic_info=           Term        Freq       Total Category  logprob  loglift\n",
       "4038  minecraft  302.000000  302.000000  Default  30.0000  30.0000\n",
       "260      family  817.000000  817.000000  Default  29.0000  29.0000\n",
       "107        vlog  724.000000  724.000000  Default  28.0000  28.0000\n",
       "3082      getty  104.000000  104.000000  Default  27.0000  27.0000\n",
       "63         baby  442.000000  442.000000  Default  26.0000  26.0000\n",
       "...         ...         ...         ...      ...      ...      ...\n",
       "1179        car   14.990773   76.014019  Topic10  -5.7944   1.3020\n",
       "73         live   16.409412  219.102127  Topic10  -5.7040   0.3338\n",
       "135        find   16.110830  242.458843  Topic10  -5.7224   0.2141\n",
       "216       learn   14.410617  104.092609  Topic10  -5.8339   0.9481\n",
       "875       today   14.511594  154.230902  Topic10  -5.8269   0.5619\n",
       "\n",
       "[728 rows x 6 columns], token_table=       Topic      Freq        Term\n",
       "term                              \n",
       "2501       1  0.158285  absolute_b\n",
       "2501       8  0.791424  absolute_b\n",
       "11197      3  0.853613       actin\n",
       "3885       1  0.076793          ad\n",
       "3885       3  0.134388          ad\n",
       "...      ...       ...         ...\n",
       "61         9  0.031654        year\n",
       "61        10  0.082300        year\n",
       "8877       3  0.887084        yurt\n",
       "8877       9  0.059139        yurt\n",
       "11420      1  0.951768  zach_bryan\n",
       "\n",
       "[1983 rows x 3 columns], R=30, lambda_step=0.01, plot_opts={'xlab': 'PC1', 'ylab': 'PC2'}, topic_order=[3, 4, 8, 7, 9, 2, 1, 6, 10, 5])"
      ]
     },
     "execution_count": 50,
     "metadata": {},
     "output_type": "execute_result"
    }
   ],
   "source": [
    "# To plot at Jupyter notebook\n",
    "pyLDAvis.enable_notebook()\n",
    "plotbasemodel = pyLDAvis.gensim_models.prepare(lda_model, dt_corpus, id2word)\n",
    "# Save pyLDA plot as html file\n",
    "pyLDAvis.save_html(plotbasemodel, 'LDA_base_model.html')\n",
    "plotbasemodel"
   ]
  },
  {
   "cell_type": "code",
   "execution_count": 51,
   "id": "37b5115a",
   "metadata": {},
   "outputs": [
    {
     "name": "stdout",
     "output_type": "stream",
     "text": [
      "--- 49.165077209472656 seconds ---\n",
      "[(0,\n",
      "  [('music', 0.045260076559333486),\n",
      "   ('show', 0.03771673046611124),\n",
      "   ('official', 0.03118666966899347),\n",
      "   ('podcast', 0.015649628462058095),\n",
      "   ('voice', 0.015649628462058095),\n",
      "   ('talk', 0.014861517676199055),\n",
      "   ('season', 0.014073406890340014),\n",
      "   ('song', 0.013285296104480973),\n",
      "   ('watch', 0.011709074532762891),\n",
      "   ('hope', 0.010808376491781131)]),\n",
      " (1,\n",
      "  [('minecraft', 0.03921096944912196),\n",
      "   ('dream', 0.028987250420976666),\n",
      "   ('story', 0.025739716141448158),\n",
      "   ('today', 0.016598508539812366),\n",
      "   ('year', 0.01599711330286264),\n",
      "   ('world', 0.013471253307673804),\n",
      "   ('people', 0.013350974260283859),\n",
      "   ('live', 0.012148183786384412),\n",
      "   ('end', 0.010103439980755352),\n",
      "   ('find', 0.00950204474380563)]),\n",
      " (2,\n",
      "  [('tiktok', 0.05020555624766413),\n",
      "   ('funny', 0.04335368132552635),\n",
      "   ('challenge', 0.026037124704123584),\n",
      "   ('prank', 0.024915908807773765),\n",
      "   ('part', 0.024542170175657158),\n",
      "   ('game', 0.018064033885635978),\n",
      "   ('among_us', 0.017191977077363897),\n",
      "   ('react', 0.015572443004858601),\n",
      "   ('comedy', 0.015074124828703126),\n",
      "   ('guy', 0.011835056683692538)]),\n",
      " (3,\n",
      "  [('getty', 0.0182823609073468),\n",
      "   ('makeup', 0.012301094684572847),\n",
      "   ('try_not', 0.010382575330098183),\n",
      "   ('shop', 0.00947974269269834),\n",
      "   ('beauty', 0.009366888613023362),\n",
      "   ('fashion', 0.00902832637399842),\n",
      "   ('man', 0.008125493736598578),\n",
      "   ('shoot', 0.008012639656923597),\n",
      "   ('style', 0.006771244780498815),\n",
      "   ('producer', 0.006771244780498815)]),\n",
      " (4,\n",
      "  [('link', 0.020253479125248507),\n",
      "   ('code', 0.015656063618290257),\n",
      "   ('camera', 0.014537773359840954),\n",
      "   ('support', 0.012052683896620278),\n",
      "   ('merch', 0.01180417495029821),\n",
      "   ('time', 0.01143141153081511),\n",
      "   ('vlog', 0.010064612326043738),\n",
      "   ('store', 0.008946322067594433),\n",
      "   ('update', 0.0088220675944334),\n",
      "   ('free', 0.008697813121272366)]),\n",
      " (5,\n",
      "  [('eat', 0.019715497878712254),\n",
      "   ('food', 0.018842026453706015),\n",
      "   ('cook', 0.01672073870726229),\n",
      "   ('asmr', 0.016346393810831045),\n",
      "   ('recipe', 0.0159720489143998),\n",
      "   ('make', 0.014849014225106065),\n",
      "   ('cooking', 0.014474669328674819),\n",
      "   ('steak', 0.011479910157224856),\n",
      "   ('boil', 0.011105565260793612),\n",
      "   ('guy', 0.010731220364362366)]),\n",
      " (6,\n",
      "  [('family', 0.10294611851685896),\n",
      "   ('vlog', 0.07718158395877675),\n",
      "   ('day', 0.03214965833986782),\n",
      "   ('life', 0.02778088943654083),\n",
      "   ('happy', 0.015906799596729023),\n",
      "   ('surprise', 0.014338523580150106),\n",
      "   ('love', 0.014226503864680183),\n",
      "   ('couple', 0.013554385571860648),\n",
      "   ('royalty', 0.012210148986221575),\n",
      "   ('tiktok', 0.012210148986221575)]),\n",
      " (7,\n",
      "  [('good', 0.05098343685300207),\n",
      "   ('watch', 0.04114906832298137),\n",
      "   ('make', 0.040502070393374744),\n",
      "   ('friend', 0.03662008281573499),\n",
      "   ('love', 0.030538302277432712),\n",
      "   ('big', 0.029891304347826088),\n",
      "   ('click', 0.025750517598343684),\n",
      "   ('play', 0.021092132505175984),\n",
      "   ('scene', 0.019151138716356108),\n",
      "   ('buy', 0.017339544513457556)]),\n",
      " (8,\n",
      "  [('house', 0.02943213296398892),\n",
      "   ('build', 0.0221606648199446),\n",
      "   ('home', 0.019044321329639888),\n",
      "   ('tour', 0.018467220683287166),\n",
      "   ('move', 0.017659279778393353),\n",
      "   ('life', 0.016735918744228993),\n",
      "   ('make', 0.01569713758079409),\n",
      "   ('water', 0.013850415512465374),\n",
      "   ('dog', 0.013619575253924284),\n",
      "   ('room', 0.01304247460757156)]),\n",
      " (9,\n",
      "  [('baby', 0.05738250565836773),\n",
      "   ('pregnant', 0.03994141925176408),\n",
      "   ('kid', 0.024231127679403542),\n",
      "   ('girl', 0.017574224470776195),\n",
      "   ('boy', 0.014911463187325256),\n",
      "   ('pregnancy', 0.014112634802289975),\n",
      "   ('babish', 0.013580082545599788),\n",
      "   ('official', 0.013580082545599788),\n",
      "   ('find', 0.01344694448142724),\n",
      "   ('birth', 0.012781254160564505)])]\n"
     ]
    }
   ],
   "source": [
    "import os\n",
    "## Setup mallet environment change it according to your drive\n",
    "os.environ.update({'MALLET_HOME':r'C:/mallet-2.0.8'})\n",
    "## Setup mallet path change it according to your drive\n",
    "mallet_path = 'C:/mallet-2.0.8/bin/mallet'\n",
    "\n",
    "start_time = time.time()\n",
    "##\n",
    "## Train LDA with mallet\n",
    "ldamallet = gensim.models.wrappers.LdaMallet(mallet_path, corpus=dt_corpus, num_topics=10, id2word=id2word)\n",
    "## Print time taken to train the model\n",
    "print(\"--- %s seconds ---\" % (time.time() - start_time))\n",
    "pprint(ldamallet.show_topics(formatted=False))\n",
    "\n"
   ]
  },
  {
   "cell_type": "code",
   "execution_count": 52,
   "id": "6c50b9c4",
   "metadata": {},
   "outputs": [
    {
     "name": "stdout",
     "output_type": "stream",
     "text": [
      "\n",
      "Coherence Score:  0.3625829063426432\n"
     ]
    }
   ],
   "source": [
    "# Compute Coherence Score for mallet\n",
    "coherence_model_lda = gensim.models.CoherenceModel(model=ldamallet, texts=data_lemmatized, dictionary=id2word, coherence='c_v')\n",
    "coherence_lda = coherence_model_lda.get_coherence()\n",
    "print('\\nCoherence Score: ', coherence_lda)"
   ]
  },
  {
   "cell_type": "markdown",
   "id": "7c41caa1",
   "metadata": {},
   "source": [
    "0.365307724851063"
   ]
  },
  {
   "cell_type": "code",
   "execution_count": 53,
   "id": "1b9e0499",
   "metadata": {},
   "outputs": [],
   "source": [
    "def compute_coherence_values(dictionary, corpus, texts, limit, start=2, step=2):\n",
    "\n",
    "    coherence_values = []\n",
    "    model_list = []\n",
    "    for num_topics in range(start, limit, step):\n",
    "        model = gensim.models.wrappers.LdaMallet(mallet_path, corpus=corpus, num_topics=num_topics, id2word=id2word)\n",
    "        model_list.append(model)\n",
    "        coherencemodel = CoherenceModel(model=model, texts=texts, dictionary=dictionary, coherence='c_v')\n",
    "        coherence_values.append(coherencemodel.get_coherence())\n",
    "\n",
    "    return model_list, coherence_values"
   ]
  },
  {
   "cell_type": "code",
   "execution_count": 54,
   "id": "e2a41c25",
   "metadata": {},
   "outputs": [],
   "source": [
    "model_list, coherence_values = compute_coherence_values(dictionary=id2word, corpus=dt_corpus, texts=data_lemmatized, start=2, limit=40, step=2)"
   ]
  },
  {
   "cell_type": "code",
   "execution_count": 59,
   "id": "0ee11c2d",
   "metadata": {},
   "outputs": [
    {
     "data": {
      "image/png": "[encoded data removed]",
      "text/plain": [
       "<Figure size 432x288 with 1 Axes>"
      ]
     },
     "metadata": {
      "needs_background": "light"
     },
     "output_type": "display_data"
    }
   ],
   "source": [
    "# Show graph\n",
    "limit=40; start=2; step=2;\n",
    "x = range(start, limit, step)\n",
    "plt.plot(x, coherence_values)\n",
    "plt.xlabel(\"Num Topics\")\n",
    "plt.ylabel(\"Coherence score\")\n",
    "plt.legend((\"coherence_values\"), loc='best')\n",
    "plt.show()"
   ]
  },
  {
   "cell_type": "code",
   "execution_count": null,
   "id": "b961ed0d",
   "metadata": {},
   "outputs": [],
   "source": [
    "# Print the coherence scores\n",
    "for m, cv in zip(x, coherence_values):\n",
    "    print(\"Num Topics =\", m, \" has Coherence Value of\", round(cv, 4))"
   ]
  },
  {
   "cell_type": "markdown",
   "id": "a9012576",
   "metadata": {},
   "source": [
    "From coherence values computed, I choose number of topic, k=12."
   ]
  },
  {
   "cell_type": "code",
   "execution_count": null,
   "id": "4175b0bd",
   "metadata": {},
   "outputs": [],
   "source": [
    "# Select the model and print the topics\n",
    "optimal_model = model_list[5]\n",
    "model_topics = optimal_model.show_topics(formatted=False)\n",
    "pprint(optimal_model.print_topics(num_words=15))"
   ]
  },
  {
   "cell_type": "code",
   "execution_count": null,
   "id": "a3ca2904",
   "metadata": {},
   "outputs": [],
   "source": [
    "final_ldamallet = gensim.models.wrappers.LdaMallet(mallet_path, corpus=dt_corpus, num_topics=12, id2word=id2word)"
   ]
  },
  {
   "cell_type": "code",
   "execution_count": null,
   "id": "fd4a315a",
   "metadata": {},
   "outputs": [],
   "source": [
    "def convertldaMalletToldaGen(mallet_model):\n",
    "    model_gensim = LdaModel(\n",
    "        id2word=mallet_model.id2word, num_topics=mallet_model.num_topics,\n",
    "        alpha=mallet_model.alpha) # original function has 'eta=0' argument\n",
    "    model_gensim.state.sstats[...] = mallet_model.wordtopics\n",
    "    model_gensim.sync_state()\n",
    "    return model_gensim\n",
    "\n",
    "ldagensim = convertldaMalletToldaGen(final_ldamallet)"
   ]
  },
  {
   "cell_type": "code",
   "execution_count": null,
   "id": "ce0a3d73",
   "metadata": {},
   "outputs": [],
   "source": [
    "vis_finallda = gensimvis.prepare(ldagensim, dt_corpus, id2word, sort_topics=False)\n",
    "pyLDAvis.save_html(vis_finallda, 'LDA_final_model.html')\n",
    "pyLDAvis.display(vis_finallda)"
   ]
  },
  {
   "cell_type": "markdown",
   "id": "7f26e8bb",
   "metadata": {},
   "source": [
    "by default hyperparameters for LDA Mallet:\n",
    "- alpha = 5.0\n",
    "- beta = 0.01"
   ]
  },
  {
   "cell_type": "code",
   "execution_count": null,
   "id": "ab832d46",
   "metadata": {},
   "outputs": [],
   "source": [
    "def format_topics_sentences(ldamodel=lda_model, corpus=dt_corpus, texts=data_lemmatized):\n",
    "    # Init output\n",
    "    sent_topics_df = pd.DataFrame()\n",
    "\n",
    "    # Get main topic in each document\n",
    "    for i, row in enumerate(ldamodel[corpus]):\n",
    "        row = sorted(row, key=lambda x: (x[1]), reverse=True)\n",
    "        # Get the Dominant topic, Perc Contribution and Keywords for each document\n",
    "        for j, (topic_num, prop_topic) in enumerate(row):\n",
    "            if j == 0:  # => dominant topic\n",
    "                wp = ldamodel.show_topic(topic_num)\n",
    "                topic_keywords = \", \".join([word for word, prop in wp])\n",
    "                sent_topics_df = sent_topics_df.append(pd.Series([int(topic_num), round(prop_topic,4), topic_keywords]), ignore_index=True)\n",
    "            else:\n",
    "                break\n",
    "    sent_topics_df.columns = ['Dominant_Topic', 'Perc_Contribution', 'Topic_Keywords']\n",
    "\n",
    "    # Add original text to the end of the output\n",
    "    contents = pd.Series(texts)\n",
    "    sent_topics_df = pd.concat([sent_topics_df, contents], axis=1)\n",
    "    return(sent_topics_df)"
   ]
  },
  {
   "cell_type": "code",
   "execution_count": null,
   "id": "963de1cf",
   "metadata": {},
   "outputs": [],
   "source": [
    "df_topic_sents_keywords = format_topics_sentences(ldamodel=optimal_model, corpus=dt_corpus, texts=data_lemmatized)\n",
    "\n",
    "# Format\n",
    "df_dominant_topic = df_topic_sents_keywords.reset_index()\n",
    "df_dominant_topic.columns = ['Document_No', 'Dominant_Topic', 'Topic_Perc_Contrib', 'Keywords', 'Text']\n",
    "\n",
    "# Show\n",
    "df_dominant_topic.head()"
   ]
  },
  {
   "cell_type": "code",
   "execution_count": null,
   "id": "a8de8464",
   "metadata": {},
   "outputs": [],
   "source": [
    "df_dominant_topic.to_csv(r'D:\\Sem 8\\FYP2\\temp\\Dominant Topic dataset.csv', index = False)"
   ]
  },
  {
   "cell_type": "markdown",
   "id": "cdd5109e",
   "metadata": {},
   "source": [
    "# Data Division"
   ]
  },
  {
   "cell_type": "code",
   "execution_count": null,
   "id": "76547825",
   "metadata": {},
   "outputs": [],
   "source": [
    "X = df_dominant_topic.Text"
   ]
  },
  {
   "cell_type": "code",
   "execution_count": null,
   "id": "e9a51d6f",
   "metadata": {},
   "outputs": [],
   "source": [
    "Y = df_dominant_topic.Dominant_Topic"
   ]
  },
  {
   "cell_type": "code",
   "execution_count": null,
   "id": "9b5443dc",
   "metadata": {},
   "outputs": [],
   "source": [
    "X_train, X_test, Y_train, Y_test = train_test_split(X,Y,test_size=0.2,random_state = 0)"
   ]
  },
  {
   "cell_type": "markdown",
   "id": "43ca7abf",
   "metadata": {},
   "source": [
    "# Model Evaluation"
   ]
  },
  {
   "cell_type": "markdown",
   "id": "bd837482",
   "metadata": {},
   "source": [
    "Bag-of-Word Model"
   ]
  },
  {
   "cell_type": "code",
   "execution_count": null,
   "id": "166e14fe",
   "metadata": {},
   "outputs": [],
   "source": [
    "# Applying bag of words to features in training and testing data\n",
    "bag_of_words_creator = CountVectorizer()\n",
    "X_train_bow = bag_of_words_creator.fit_transform(X_train)\n",
    "X_test_bow = bag_of_words_creator.transform(X_test)"
   ]
  },
  {
   "cell_type": "code",
   "execution_count": null,
   "id": "ae737486",
   "metadata": {},
   "outputs": [],
   "source": [
    "cl = RandomForestClassifier(random_state = 0)\n",
    "cl.fit(X_train_bow,Y_train)"
   ]
  },
  {
   "cell_type": "code",
   "execution_count": null,
   "id": "f7333269",
   "metadata": {},
   "outputs": [],
   "source": [
    "y_pred = cl.predict(X_test_bow)"
   ]
  },
  {
   "cell_type": "code",
   "execution_count": null,
   "id": "9f5c0c3d",
   "metadata": {},
   "outputs": [],
   "source": [
    "from sklearn.metrics import confusion_matrix\n",
    "import sklearn.metrics as met"
   ]
  },
  {
   "cell_type": "code",
   "execution_count": null,
   "id": "130fc637",
   "metadata": {},
   "outputs": [],
   "source": [
    "confusion_matrix(Y_test,y_pred)"
   ]
  },
  {
   "cell_type": "code",
   "execution_count": null,
   "id": "170966da",
   "metadata": {},
   "outputs": [],
   "source": [
    "print(met.classification_report(Y_test,y_pred))"
   ]
  },
  {
   "cell_type": "markdown",
   "id": "ae42cf4e",
   "metadata": {},
   "source": [
    "TF-IDF model"
   ]
  },
  {
   "cell_type": "code",
   "execution_count": null,
   "id": "f5274973",
   "metadata": {},
   "outputs": [],
   "source": [
    "tfidf_creator = TfidfVectorizer()\n",
    "X_train_tfidf = tfidf_creator.fit_transform(X_train)\n",
    "X_test_tfidf = tfidf_creator.transform(X_test)"
   ]
  },
  {
   "cell_type": "code",
   "execution_count": null,
   "id": "d0908887",
   "metadata": {},
   "outputs": [],
   "source": [
    "cl = RandomForestClassifier(random_state = 0)\n",
    "cl.fit(X_train_tfidf,Y_train)"
   ]
  },
  {
   "cell_type": "code",
   "execution_count": null,
   "id": "bd33cdd0",
   "metadata": {},
   "outputs": [],
   "source": [
    "y_pred = cl.predict(X_test_tfidf)"
   ]
  },
  {
   "cell_type": "code",
   "execution_count": null,
   "id": "3835c6f6",
   "metadata": {},
   "outputs": [],
   "source": [
    "confusion_matrix(Y_test,y_pred)"
   ]
  },
  {
   "cell_type": "code",
   "execution_count": null,
   "id": "7dd40607",
   "metadata": {},
   "outputs": [],
   "source": [
    "print(met.classification_report(Y_test,y_pred))"
   ]
  }
 ],
 "metadata": {
  "kernelspec": {
   "display_name": "Python 3.9.12 ('base')",
   "language": "python",
   "name": "python3"
  },
  "language_info": {
   "codemirror_mode": {
    "name": "ipython",
    "version": 3
   },
   "file_extension": ".py",
   "mimetype": "text/x-python",
   "name": "python",
   "nbconvert_exporter": "python",
   "pygments_lexer": "ipython3",
   "version": "3.9.12"
  },
  "vscode": {
   "interpreter": {
    "hash": "4327462f8376275a03f16ba4e273b97a87ad7a247937414466687c3f21f21455"
   }
  }
 },
 "nbformat": 4,
 "nbformat_minor": 5
}
